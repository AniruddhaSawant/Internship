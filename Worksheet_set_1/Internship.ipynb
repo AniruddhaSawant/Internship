{
 "cells": [
  {
   "cell_type": "markdown",
   "id": "bb27ab78",
   "metadata": {},
   "source": [
    "# Python worksheet"
   ]
  },
  {
   "cell_type": "code",
   "execution_count": 1,
   "id": "5d08b8ea",
   "metadata": {},
   "outputs": [],
   "source": [
    "import numpy as np"
   ]
  },
  {
   "cell_type": "code",
   "execution_count": 2,
   "id": "f7f4dcb1",
   "metadata": {},
   "outputs": [
    {
     "name": "stdout",
     "output_type": "stream",
     "text": [
      "Enter a number 7\n"
     ]
    },
    {
     "data": {
      "text/plain": [
       "5040"
      ]
     },
     "execution_count": 2,
     "metadata": {},
     "output_type": "execute_result"
    }
   ],
   "source": [
    "x = int(input('Enter a number '))\n",
    "np.math.factorial(x)"
   ]
  },
  {
   "cell_type": "code",
   "execution_count": 3,
   "id": "4a8c668e",
   "metadata": {},
   "outputs": [
    {
     "name": "stdout",
     "output_type": "stream",
     "text": [
      "Enter a number 15\n",
      "15 is a composite number\n"
     ]
    }
   ],
   "source": [
    "n=int(input(\"Enter a number \"))\n",
    "if n>1:\n",
    "    for i in range(2,n//2):\n",
    "        if(n%i)==0:\n",
    "            print(n,\"is a composite number\")\n",
    "            break\n",
    "    else:\n",
    "        print(n,\"is a prime number\")\n",
    "else:\n",
    "    print(n,\"is neither prime nor composite\")"
   ]
  },
  {
   "cell_type": "code",
   "execution_count": 4,
   "id": "2d4496d2",
   "metadata": {},
   "outputs": [
    {
     "name": "stdout",
     "output_type": "stream",
     "text": [
      "Enter a Word YOY\n",
      "YOY is a Palindrome\n"
     ]
    }
   ],
   "source": [
    "y=str(input(\"Enter a Word \"))\n",
    "z = (y[::-1])\n",
    "\n",
    "if y == z:\n",
    "    print (y, 'is a Palindrome')\n",
    "else:\n",
    "    print (y, 'is not a Palindrome')"
   ]
  },
  {
   "cell_type": "code",
   "execution_count": 7,
   "id": "661aac9d",
   "metadata": {},
   "outputs": [
    {
     "name": "stdout",
     "output_type": "stream",
     "text": [
      "Enter one side of right-angled triangle: 4\n",
      "Enter second side of right-angled triangle: 3\n",
      "This is the third side of right-angled triangle:  5.0\n"
     ]
    }
   ],
   "source": [
    "a=int(input(\"Enter one side of right-angled triangle: \"))\n",
    "b=int(input(\"Enter second side of right-angled triangle: \"))\n",
    "\n",
    "c = np.square(a) + np.square(b)\n",
    "\n",
    "d = np.sqrt(c)\n",
    "\n",
    "print ('This is the third side of right-angled triangle: ', d)"
   ]
  },
  {
   "cell_type": "code",
   "execution_count": null,
   "id": "756f7f60",
   "metadata": {},
   "outputs": [],
   "source": []
  }
 ],
 "metadata": {
  "kernelspec": {
   "display_name": "Python 3 (ipykernel)",
   "language": "python",
   "name": "python3"
  },
  "language_info": {
   "codemirror_mode": {
    "name": "ipython",
    "version": 3
   },
   "file_extension": ".py",
   "mimetype": "text/x-python",
   "name": "python",
   "nbconvert_exporter": "python",
   "pygments_lexer": "ipython3",
   "version": "3.9.7"
  }
 },
 "nbformat": 4,
 "nbformat_minor": 5
}
