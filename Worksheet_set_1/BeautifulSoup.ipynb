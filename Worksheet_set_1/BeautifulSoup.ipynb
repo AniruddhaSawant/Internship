{
 "cells": [
  {
   "cell_type": "markdown",
   "id": "ac6db992",
   "metadata": {},
   "source": [
    "# Wikipedia"
   ]
  },
  {
   "cell_type": "code",
   "execution_count": 1,
   "id": "cbf560a7",
   "metadata": {},
   "outputs": [
    {
     "name": "stdout",
     "output_type": "stream",
     "text": [
      "Requirement already satisfied: bs4 in c:\\users\\sawan\\anaconda3\\lib\\site-packages (0.0.1)\n",
      "Requirement already satisfied: beautifulsoup4 in c:\\users\\sawan\\anaconda3\\lib\\site-packages (from bs4) (4.10.0)\n",
      "Requirement already satisfied: soupsieve>1.2 in c:\\users\\sawan\\anaconda3\\lib\\site-packages (from beautifulsoup4->bs4) (2.2.1)\n",
      "Requirement already satisfied: requests in c:\\users\\sawan\\anaconda3\\lib\\site-packages (2.26.0)\n",
      "Requirement already satisfied: idna<4,>=2.5 in c:\\users\\sawan\\anaconda3\\lib\\site-packages (from requests) (3.2)\n",
      "Requirement already satisfied: certifi>=2017.4.17 in c:\\users\\sawan\\anaconda3\\lib\\site-packages (from requests) (2021.10.8)\n",
      "Requirement already satisfied: charset-normalizer~=2.0.0 in c:\\users\\sawan\\anaconda3\\lib\\site-packages (from requests) (2.0.4)\n",
      "Requirement already satisfied: urllib3<1.27,>=1.21.1 in c:\\users\\sawan\\anaconda3\\lib\\site-packages (from requests) (1.26.7)\n"
     ]
    }
   ],
   "source": [
    "!pip install bs4\n",
    "!pip install requests"
   ]
  },
  {
   "cell_type": "code",
   "execution_count": 1,
   "id": "bfe95219",
   "metadata": {},
   "outputs": [],
   "source": [
    "from bs4 import BeautifulSoup\n",
    "import requests\n",
    "import pandas as pd\n",
    "import numpy as np"
   ]
  },
  {
   "cell_type": "code",
   "execution_count": 221,
   "id": "a4084d7e",
   "metadata": {},
   "outputs": [],
   "source": [
    "page = requests.get(\"https://en.wikipedia.org/wiki/Main_Page\")"
   ]
  },
  {
   "cell_type": "code",
   "execution_count": 222,
   "id": "2baeb986",
   "metadata": {},
   "outputs": [
    {
     "data": {
      "text/plain": [
       "<Response [200]>"
      ]
     },
     "execution_count": 222,
     "metadata": {},
     "output_type": "execute_result"
    }
   ],
   "source": [
    "page"
   ]
  },
  {
   "cell_type": "code",
   "execution_count": null,
   "id": "a44127e2",
   "metadata": {},
   "outputs": [],
   "source": [
    "content = BeautifulSoup(page.content)\n",
    "content"
   ]
  },
  {
   "cell_type": "code",
   "execution_count": null,
   "id": "74bf6d76",
   "metadata": {},
   "outputs": [],
   "source": [
    "heading = content.find('div', class_ = \"mp-box\")\n",
    "heading"
   ]
  },
  {
   "cell_type": "code",
   "execution_count": 231,
   "id": "412d8aba",
   "metadata": {},
   "outputs": [
    {
     "data": {
      "text/plain": [
       "'\\n\\nWelcome to Wikipedia,\\nthe free encyclopedia that anyone can edit.\\n6,524,339 articles in English\\n\\n'"
      ]
     },
     "execution_count": 231,
     "metadata": {},
     "output_type": "execute_result"
    }
   ],
   "source": [
    "heading.text"
   ]
  },
  {
   "cell_type": "markdown",
   "id": "e1a8c489",
   "metadata": {},
   "source": [
    "# IMDB’s Top rated 100 movies"
   ]
  },
  {
   "cell_type": "code",
   "execution_count": 8,
   "id": "b41fc87f",
   "metadata": {},
   "outputs": [],
   "source": [
    "import pandas as pd\n",
    "import numpy as np"
   ]
  },
  {
   "cell_type": "code",
   "execution_count": 9,
   "id": "e034c698",
   "metadata": {},
   "outputs": [
    {
     "data": {
      "text/plain": [
       "<Response [200]>"
      ]
     },
     "execution_count": 9,
     "metadata": {},
     "output_type": "execute_result"
    }
   ],
   "source": [
    "page2 = requests.get(\"https://www.imdb.com/search/title/?groups=top_100&sort=user_rating,desc\")\n",
    "page2"
   ]
  },
  {
   "cell_type": "code",
   "execution_count": null,
   "id": "d79c4f64",
   "metadata": {},
   "outputs": [],
   "source": [
    "soup = BeautifulSoup(page2.content)\n",
    "soup"
   ]
  },
  {
   "cell_type": "code",
   "execution_count": 11,
   "id": "49973327",
   "metadata": {},
   "outputs": [
    {
     "data": {
      "text/plain": [
       "'\\n1.\\nThe Shawshank Redemption\\n(1994)\\n'"
      ]
     },
     "execution_count": 11,
     "metadata": {},
     "output_type": "execute_result"
    }
   ],
   "source": [
    "movie_names = soup.find('h3', class_=\"lister-item-header\")\n",
    "movie_names.text"
   ]
  },
  {
   "cell_type": "code",
   "execution_count": 27,
   "id": "53318c32",
   "metadata": {},
   "outputs": [],
   "source": [
    "ratings = []\n",
    "for i in soup.find_all('div', class_=\"inline-block ratings-imdb-rating\"):\n",
    "    ratings.append(i.text)\n"
   ]
  },
  {
   "cell_type": "code",
   "execution_count": 26,
   "id": "b152bc25",
   "metadata": {},
   "outputs": [],
   "source": [
    "m_names = []\n",
    "for i in soup.find_all('h3', class_=\"lister-item-header\"):\n",
    "    m_names.append(i.text)\n"
   ]
  },
  {
   "cell_type": "code",
   "execution_count": 25,
   "id": "c6dc0c34",
   "metadata": {},
   "outputs": [],
   "source": [
    "rank = []\n",
    "for i in soup.find_all('span', class_=\"lister-item-index unbold text-primary\"):\n",
    "    rank.append(i.text)\n"
   ]
  },
  {
   "cell_type": "code",
   "execution_count": 24,
   "id": "d4c576fa",
   "metadata": {},
   "outputs": [],
   "source": [
    "year = []\n",
    "for i in soup.find_all('span', class_=\"lister-item-year text-muted unbold\"):\n",
    "    year.append(i.text)\n"
   ]
  },
  {
   "cell_type": "code",
   "execution_count": 16,
   "id": "69303903",
   "metadata": {},
   "outputs": [],
   "source": [
    "imdb = pd.DataFrame({\n",
    "    \"Movie_Names\": m_names,\n",
    "    \"Year of Release\": year,\n",
    "    \"Rating\": ratings\n",
    "}, index = rank)"
   ]
  },
  {
   "cell_type": "code",
   "execution_count": null,
   "id": "5bff19e4",
   "metadata": {},
   "outputs": [],
   "source": [
    "page3 = requests.get(\"https://www.imdb.com/search/title/?groups=top_100&sort=user_rating,desc&start=51&ref_=adv_nxt\")\n",
    "soup2 = BeautifulSoup(page3.content)\n",
    "soup2"
   ]
  },
  {
   "cell_type": "code",
   "execution_count": 19,
   "id": "4bd6e312",
   "metadata": {},
   "outputs": [],
   "source": [
    "m_names2 = []\n",
    "for i in soup2.find_all('h3', class_=\"lister-item-header\"):\n",
    "    m_names2.append(i.text)"
   ]
  },
  {
   "cell_type": "code",
   "execution_count": 20,
   "id": "bb3509e4",
   "metadata": {},
   "outputs": [],
   "source": [
    "rank2 = []\n",
    "for i in soup2.find_all('span', class_=\"lister-item-index unbold text-primary\"):\n",
    "    rank2.append(i.text)\n",
    "\n",
    "ratings2 = []\n",
    "for i in soup2.find_all('div', class_=\"inline-block ratings-imdb-rating\"):\n",
    "    ratings2.append(i.text)\n",
    "\n",
    "year2 = []\n",
    "for i in soup2.find_all('span', class_=\"lister-item-year text-muted unbold\"):\n",
    "    year2.append(i.text)\n"
   ]
  },
  {
   "cell_type": "code",
   "execution_count": 21,
   "id": "ebdfe929",
   "metadata": {},
   "outputs": [],
   "source": [
    "imdb2 = pd.DataFrame({\n",
    "    \"Movie_Names\": m_names2,\n",
    "    \"Year of Release\": year2,\n",
    "    \"Rating\": ratings2\n",
    "}, index = rank2)"
   ]
  },
  {
   "cell_type": "code",
   "execution_count": null,
   "id": "4bd53380",
   "metadata": {},
   "outputs": [],
   "source": [
    "IMDB = pd.concat([imdb, imdb2])\n",
    "IMDB"
   ]
  },
  {
   "cell_type": "code",
   "execution_count": 117,
   "id": "3de66bb0",
   "metadata": {},
   "outputs": [],
   "source": [
    "IMDB[['test','Rank', 'Movie', 'Year', 'test']] = IMDB['Movie_Names'].str.split('\\n', expand=True)"
   ]
  },
  {
   "cell_type": "code",
   "execution_count": 120,
   "id": "9c02c07a",
   "metadata": {},
   "outputs": [],
   "source": [
    "IMDB[['test', 'test', 'Ratings', 'test']] = IMDB['Rating'].str.split('\\n', expand=True)"
   ]
  },
  {
   "cell_type": "code",
   "execution_count": 122,
   "id": "1184391c",
   "metadata": {},
   "outputs": [],
   "source": [
    "IMDB.drop('Movie_Names', axis=1, inplace = True)\n",
    "IMDB.drop('Year of Release', axis=1, inplace = True)\n",
    "IMDB.drop('Rating', axis=1, inplace = True)\n",
    "IMDB.drop('test', axis=1, inplace = True)\n",
    "IMDB.drop('Rank', axis=1, inplace = True)"
   ]
  },
  {
   "cell_type": "code",
   "execution_count": 123,
   "id": "a4a7df5c",
   "metadata": {},
   "outputs": [
    {
     "data": {
      "text/html": [
       "<div>\n",
       "<style scoped>\n",
       "    .dataframe tbody tr th:only-of-type {\n",
       "        vertical-align: middle;\n",
       "    }\n",
       "\n",
       "    .dataframe tbody tr th {\n",
       "        vertical-align: top;\n",
       "    }\n",
       "\n",
       "    .dataframe thead th {\n",
       "        text-align: right;\n",
       "    }\n",
       "</style>\n",
       "<table border=\"1\" class=\"dataframe\">\n",
       "  <thead>\n",
       "    <tr style=\"text-align: right;\">\n",
       "      <th></th>\n",
       "      <th>Movie</th>\n",
       "      <th>Year</th>\n",
       "      <th>Ratings</th>\n",
       "    </tr>\n",
       "  </thead>\n",
       "  <tbody>\n",
       "    <tr>\n",
       "      <th>1.</th>\n",
       "      <td>The Shawshank Redemption</td>\n",
       "      <td>(1994)</td>\n",
       "      <td>9.3</td>\n",
       "    </tr>\n",
       "    <tr>\n",
       "      <th>2.</th>\n",
       "      <td>The Godfather</td>\n",
       "      <td>(1972)</td>\n",
       "      <td>9.2</td>\n",
       "    </tr>\n",
       "    <tr>\n",
       "      <th>3.</th>\n",
       "      <td>The Dark Knight</td>\n",
       "      <td>(2008)</td>\n",
       "      <td>9.0</td>\n",
       "    </tr>\n",
       "    <tr>\n",
       "      <th>4.</th>\n",
       "      <td>The Lord of the Rings: The Return of the King</td>\n",
       "      <td>(2003)</td>\n",
       "      <td>9.0</td>\n",
       "    </tr>\n",
       "    <tr>\n",
       "      <th>5.</th>\n",
       "      <td>Schindler's List</td>\n",
       "      <td>(1993)</td>\n",
       "      <td>9.0</td>\n",
       "    </tr>\n",
       "    <tr>\n",
       "      <th>...</th>\n",
       "      <td>...</td>\n",
       "      <td>...</td>\n",
       "      <td>...</td>\n",
       "    </tr>\n",
       "    <tr>\n",
       "      <th>96.</th>\n",
       "      <td>North by Northwest</td>\n",
       "      <td>(1959)</td>\n",
       "      <td>8.3</td>\n",
       "    </tr>\n",
       "    <tr>\n",
       "      <th>97.</th>\n",
       "      <td>Vertigo</td>\n",
       "      <td>(1958)</td>\n",
       "      <td>8.3</td>\n",
       "    </tr>\n",
       "    <tr>\n",
       "      <th>98.</th>\n",
       "      <td>Singin' in the Rain</td>\n",
       "      <td>(1952)</td>\n",
       "      <td>8.3</td>\n",
       "    </tr>\n",
       "    <tr>\n",
       "      <th>99.</th>\n",
       "      <td>Citizen Kane</td>\n",
       "      <td>(1941)</td>\n",
       "      <td>8.3</td>\n",
       "    </tr>\n",
       "    <tr>\n",
       "      <th>100.</th>\n",
       "      <td>M - Eine Stadt sucht einen Mörder</td>\n",
       "      <td>(1931)</td>\n",
       "      <td>8.3</td>\n",
       "    </tr>\n",
       "  </tbody>\n",
       "</table>\n",
       "<p>100 rows × 3 columns</p>\n",
       "</div>"
      ],
      "text/plain": [
       "                                              Movie    Year Ratings\n",
       "1.                         The Shawshank Redemption  (1994)     9.3\n",
       "2.                                    The Godfather  (1972)     9.2\n",
       "3.                                  The Dark Knight  (2008)     9.0\n",
       "4.    The Lord of the Rings: The Return of the King  (2003)     9.0\n",
       "5.                                 Schindler's List  (1993)     9.0\n",
       "...                                             ...     ...     ...\n",
       "96.                              North by Northwest  (1959)     8.3\n",
       "97.                                         Vertigo  (1958)     8.3\n",
       "98.                             Singin' in the Rain  (1952)     8.3\n",
       "99.                                    Citizen Kane  (1941)     8.3\n",
       "100.              M - Eine Stadt sucht einen Mörder  (1931)     8.3\n",
       "\n",
       "[100 rows x 3 columns]"
      ]
     },
     "execution_count": 123,
     "metadata": {},
     "output_type": "execute_result"
    }
   ],
   "source": [
    "IMDB"
   ]
  },
  {
   "cell_type": "markdown",
   "id": "0ecc7ce6",
   "metadata": {},
   "source": [
    "# IMDB’s Top rated 100 Indian movies"
   ]
  },
  {
   "cell_type": "code",
   "execution_count": 28,
   "id": "72ce55f7",
   "metadata": {},
   "outputs": [
    {
     "data": {
      "text/plain": [
       "<Response [200]>"
      ]
     },
     "execution_count": 28,
     "metadata": {},
     "output_type": "execute_result"
    }
   ],
   "source": [
    "page3 = requests.get('https://www.imdb.com/india/top-rated-indian-movies/')\n",
    "page3"
   ]
  },
  {
   "cell_type": "code",
   "execution_count": null,
   "id": "9c8dfc92",
   "metadata": {},
   "outputs": [],
   "source": [
    "soup3 = BeautifulSoup(page3.content)\n",
    "soup3"
   ]
  },
  {
   "cell_type": "code",
   "execution_count": 35,
   "id": "0617cfe1",
   "metadata": {},
   "outputs": [
    {
     "data": {
      "text/plain": [
       "['Jai', 'Bhim']"
      ]
     },
     "execution_count": 35,
     "metadata": {},
     "output_type": "execute_result"
    }
   ],
   "source": [
    "movie_name = soup3.find('td', class_='titleColumn')\n",
    "movie_name.text.split()[1:3]\n"
   ]
  },
  {
   "cell_type": "code",
   "execution_count": null,
   "id": "ac9a1895",
   "metadata": {},
   "outputs": [],
   "source": [
    "mv = []\n",
    "\n",
    "for i in soup3.find_all('td', class_='titleColumn'):\n",
    "    mv.append(i.text)\n",
    "    \n",
    "mv\n"
   ]
  },
  {
   "cell_type": "code",
   "execution_count": 60,
   "id": "2e4cc583",
   "metadata": {},
   "outputs": [],
   "source": [
    "mv4 = pd.DataFrame({'Name':mv})"
   ]
  },
  {
   "cell_type": "code",
   "execution_count": null,
   "id": "23583e37",
   "metadata": {},
   "outputs": [],
   "source": [
    "mv4"
   ]
  },
  {
   "cell_type": "code",
   "execution_count": 62,
   "id": "f6024ae6",
   "metadata": {},
   "outputs": [],
   "source": [
    "mv4[['test','Ranking','Movie', 'Year', 'test']] = mv4['Name'].str.split('\\n', expand = True)\n"
   ]
  },
  {
   "cell_type": "code",
   "execution_count": 63,
   "id": "9f1525bc",
   "metadata": {},
   "outputs": [],
   "source": [
    "mv4.drop('Name', axis=1, inplace=True)\n",
    "mv4.drop('test', axis=1, inplace=True)\n"
   ]
  },
  {
   "cell_type": "code",
   "execution_count": null,
   "id": "21a20eb9",
   "metadata": {},
   "outputs": [],
   "source": [
    "mv4.set_index('Ranking', inplace=True)\n",
    "mv4"
   ]
  },
  {
   "cell_type": "code",
   "execution_count": 66,
   "id": "9242878f",
   "metadata": {},
   "outputs": [],
   "source": [
    "rating = []\n",
    "\n",
    "for i in soup3.find_all('td', class_='ratingColumn imdbRating'):\n",
    "    rating.append(i.text)\n"
   ]
  },
  {
   "cell_type": "code",
   "execution_count": 99,
   "id": "54eb03f3",
   "metadata": {},
   "outputs": [],
   "source": [
    "ratings2 = pd.DataFrame({'Rate':rating})"
   ]
  },
  {
   "cell_type": "code",
   "execution_count": 100,
   "id": "26851d85",
   "metadata": {},
   "outputs": [],
   "source": [
    "ratings2[['Ratings', 'Rating', 'Ratings']] = ratings2['Rate'].str.split('\\n', expand=True)"
   ]
  },
  {
   "cell_type": "code",
   "execution_count": 101,
   "id": "274d342a",
   "metadata": {},
   "outputs": [],
   "source": [
    "ratings2.drop('Ratings', axis=1,inplace=True)\n",
    "ratings2.drop('Rate', axis=1,inplace=True)\n"
   ]
  },
  {
   "cell_type": "code",
   "execution_count": null,
   "id": "7cddaac9",
   "metadata": {},
   "outputs": [],
   "source": [
    "ratings2"
   ]
  },
  {
   "cell_type": "code",
   "execution_count": 103,
   "id": "ef989e15",
   "metadata": {},
   "outputs": [],
   "source": [
    "ratings2 = ratings2.reset_index()\n",
    "\n",
    "ratings2.index = ratings2.index + 1"
   ]
  },
  {
   "cell_type": "code",
   "execution_count": 104,
   "id": "307e694d",
   "metadata": {},
   "outputs": [],
   "source": [
    "ratings2.drop('index', axis=1, inplace=True)"
   ]
  },
  {
   "cell_type": "code",
   "execution_count": null,
   "id": "b5da41e1",
   "metadata": {},
   "outputs": [],
   "source": [
    "ratings2"
   ]
  },
  {
   "cell_type": "code",
   "execution_count": 108,
   "id": "3309a461",
   "metadata": {},
   "outputs": [],
   "source": [
    "mv4 = mv4.reset_index()\n",
    "\n",
    "mv4.index = mv4.index + 1"
   ]
  },
  {
   "cell_type": "code",
   "execution_count": 110,
   "id": "2fc09955",
   "metadata": {},
   "outputs": [],
   "source": [
    "mv4.drop('Ranking', axis=1, inplace=True)"
   ]
  },
  {
   "cell_type": "code",
   "execution_count": null,
   "id": "8ee21116",
   "metadata": {},
   "outputs": [],
   "source": [
    "mv4"
   ]
  },
  {
   "cell_type": "code",
   "execution_count": 112,
   "id": "f657fd12",
   "metadata": {},
   "outputs": [],
   "source": [
    "IMDB_India = pd.concat([mv4, ratings2], axis=1)"
   ]
  },
  {
   "cell_type": "code",
   "execution_count": null,
   "id": "4c357fe7",
   "metadata": {},
   "outputs": [],
   "source": [
    "IMDB_India"
   ]
  },
  {
   "cell_type": "code",
   "execution_count": 126,
   "id": "6a2354ef",
   "metadata": {},
   "outputs": [],
   "source": [
    "IMDB_India.drop(IMDB_India.index[100:], inplace = True)"
   ]
  },
  {
   "cell_type": "code",
   "execution_count": 127,
   "id": "47639c4f",
   "metadata": {},
   "outputs": [
    {
     "data": {
      "text/html": [
       "<div>\n",
       "<style scoped>\n",
       "    .dataframe tbody tr th:only-of-type {\n",
       "        vertical-align: middle;\n",
       "    }\n",
       "\n",
       "    .dataframe tbody tr th {\n",
       "        vertical-align: top;\n",
       "    }\n",
       "\n",
       "    .dataframe thead th {\n",
       "        text-align: right;\n",
       "    }\n",
       "</style>\n",
       "<table border=\"1\" class=\"dataframe\">\n",
       "  <thead>\n",
       "    <tr style=\"text-align: right;\">\n",
       "      <th></th>\n",
       "      <th>Movie</th>\n",
       "      <th>Year</th>\n",
       "      <th>Rating</th>\n",
       "    </tr>\n",
       "  </thead>\n",
       "  <tbody>\n",
       "    <tr>\n",
       "      <th>1</th>\n",
       "      <td>Jai Bhim</td>\n",
       "      <td>(2021)</td>\n",
       "      <td>8.4</td>\n",
       "    </tr>\n",
       "    <tr>\n",
       "      <th>2</th>\n",
       "      <td>Anbe Sivam</td>\n",
       "      <td>(2003)</td>\n",
       "      <td>8.4</td>\n",
       "    </tr>\n",
       "    <tr>\n",
       "      <th>3</th>\n",
       "      <td>Golmaal</td>\n",
       "      <td>(1979)</td>\n",
       "      <td>8.4</td>\n",
       "    </tr>\n",
       "    <tr>\n",
       "      <th>4</th>\n",
       "      <td>Nayakan</td>\n",
       "      <td>(1987)</td>\n",
       "      <td>8.4</td>\n",
       "    </tr>\n",
       "    <tr>\n",
       "      <th>5</th>\n",
       "      <td>Pariyerum Perumal</td>\n",
       "      <td>(2018)</td>\n",
       "      <td>8.4</td>\n",
       "    </tr>\n",
       "    <tr>\n",
       "      <th>...</th>\n",
       "      <td>...</td>\n",
       "      <td>...</td>\n",
       "      <td>...</td>\n",
       "    </tr>\n",
       "    <tr>\n",
       "      <th>96</th>\n",
       "      <td>Baasha</td>\n",
       "      <td>(1995)</td>\n",
       "      <td>8.0</td>\n",
       "    </tr>\n",
       "    <tr>\n",
       "      <th>97</th>\n",
       "      <td>Masaan</td>\n",
       "      <td>(2015)</td>\n",
       "      <td>8.0</td>\n",
       "    </tr>\n",
       "    <tr>\n",
       "      <th>98</th>\n",
       "      <td>Kahaani</td>\n",
       "      <td>(2012)</td>\n",
       "      <td>8.0</td>\n",
       "    </tr>\n",
       "    <tr>\n",
       "      <th>99</th>\n",
       "      <td>Baahubali 2: The Conclusion</td>\n",
       "      <td>(2017)</td>\n",
       "      <td>8.0</td>\n",
       "    </tr>\n",
       "    <tr>\n",
       "      <th>100</th>\n",
       "      <td>Dil Chahta Hai</td>\n",
       "      <td>(2001)</td>\n",
       "      <td>8.0</td>\n",
       "    </tr>\n",
       "  </tbody>\n",
       "</table>\n",
       "<p>100 rows × 3 columns</p>\n",
       "</div>"
      ],
      "text/plain": [
       "                                 Movie    Year Rating\n",
       "1                             Jai Bhim  (2021)    8.4\n",
       "2                           Anbe Sivam  (2003)    8.4\n",
       "3                              Golmaal  (1979)    8.4\n",
       "4                              Nayakan  (1987)    8.4\n",
       "5                    Pariyerum Perumal  (2018)    8.4\n",
       "..                                 ...     ...    ...\n",
       "96                              Baasha  (1995)    8.0\n",
       "97                              Masaan  (2015)    8.0\n",
       "98                             Kahaani  (2012)    8.0\n",
       "99         Baahubali 2: The Conclusion  (2017)    8.0\n",
       "100                     Dil Chahta Hai  (2001)    8.0\n",
       "\n",
       "[100 rows x 3 columns]"
      ]
     },
     "execution_count": 127,
     "metadata": {},
     "output_type": "execute_result"
    }
   ],
   "source": [
    "IMDB_India"
   ]
  },
  {
   "cell_type": "markdown",
   "id": "0c8eeda3",
   "metadata": {},
   "source": [
    "# Former Presidents of India"
   ]
  },
  {
   "cell_type": "code",
   "execution_count": 128,
   "id": "be332ec4",
   "metadata": {},
   "outputs": [
    {
     "data": {
      "text/plain": [
       "<Response [200]>"
      ]
     },
     "execution_count": 128,
     "metadata": {},
     "output_type": "execute_result"
    }
   ],
   "source": [
    "page4 = requests.get('https://presidentofindia.nic.in/former-presidents.htm')\n",
    "page4"
   ]
  },
  {
   "cell_type": "code",
   "execution_count": 129,
   "id": "3136be95",
   "metadata": {},
   "outputs": [],
   "source": [
    "soup4 = BeautifulSoup(page4.content)\n"
   ]
  },
  {
   "cell_type": "code",
   "execution_count": 130,
   "id": "d72ac607",
   "metadata": {},
   "outputs": [],
   "source": [
    "names = []\n",
    "\n",
    "for i in soup4.find_all('div', class_='presidentListing'):\n",
    "    names.append(i.text)\n",
    "    "
   ]
  },
  {
   "cell_type": "code",
   "execution_count": 135,
   "id": "da94e16e",
   "metadata": {},
   "outputs": [],
   "source": [
    "a = pd.DataFrame({'Names':names})"
   ]
  },
  {
   "cell_type": "code",
   "execution_count": null,
   "id": "f6c35465",
   "metadata": {},
   "outputs": [],
   "source": [
    "names"
   ]
  },
  {
   "cell_type": "code",
   "execution_count": 138,
   "id": "61f3a0e2",
   "metadata": {},
   "outputs": [],
   "source": [
    "a[['test', 'Name','Term','test','test']]= a['Names'].str.split('\\n', expand=True)"
   ]
  },
  {
   "cell_type": "code",
   "execution_count": 140,
   "id": "e0281eba",
   "metadata": {},
   "outputs": [],
   "source": [
    "a.drop(['Names', 'test'], axis=1, inplace=True )"
   ]
  },
  {
   "cell_type": "code",
   "execution_count": 142,
   "id": "95e873e2",
   "metadata": {},
   "outputs": [],
   "source": [
    "a[['test', 'Term of Office']]= a['Term'].str.split(':', expand=True)"
   ]
  },
  {
   "cell_type": "code",
   "execution_count": 144,
   "id": "5aeca818",
   "metadata": {},
   "outputs": [],
   "source": [
    "a.drop(['Term', 'test'], axis=1, inplace=True )"
   ]
  },
  {
   "cell_type": "code",
   "execution_count": null,
   "id": "468db0c2",
   "metadata": {},
   "outputs": [],
   "source": [
    "a"
   ]
  },
  {
   "cell_type": "code",
   "execution_count": 146,
   "id": "3d66d320",
   "metadata": {},
   "outputs": [],
   "source": [
    "a.index = a.index + 1"
   ]
  },
  {
   "cell_type": "code",
   "execution_count": 148,
   "id": "65a0b460",
   "metadata": {},
   "outputs": [],
   "source": [
    "a[['Names', 'test']]= a['Name'].str.split('(', expand=True)"
   ]
  },
  {
   "cell_type": "code",
   "execution_count": 150,
   "id": "d963fc74",
   "metadata": {},
   "outputs": [],
   "source": [
    "a.drop(['Name', 'test'], axis=1, inplace=True )"
   ]
  },
  {
   "cell_type": "code",
   "execution_count": null,
   "id": "7ac1ea22",
   "metadata": {},
   "outputs": [],
   "source": [
    "a"
   ]
  },
  {
   "cell_type": "code",
   "execution_count": 152,
   "id": "9728f8ab",
   "metadata": {},
   "outputs": [
    {
     "data": {
      "text/html": [
       "<div>\n",
       "<style scoped>\n",
       "    .dataframe tbody tr th:only-of-type {\n",
       "        vertical-align: middle;\n",
       "    }\n",
       "\n",
       "    .dataframe tbody tr th {\n",
       "        vertical-align: top;\n",
       "    }\n",
       "\n",
       "    .dataframe thead th {\n",
       "        text-align: right;\n",
       "    }\n",
       "</style>\n",
       "<table border=\"1\" class=\"dataframe\">\n",
       "  <thead>\n",
       "    <tr style=\"text-align: right;\">\n",
       "      <th></th>\n",
       "      <th>Names</th>\n",
       "      <th>Term of Office</th>\n",
       "    </tr>\n",
       "  </thead>\n",
       "  <tbody>\n",
       "    <tr>\n",
       "      <th>1</th>\n",
       "      <td>Shri Pranab Mukherjee</td>\n",
       "      <td>25 July, 2012 to 25 July, 2017</td>\n",
       "    </tr>\n",
       "    <tr>\n",
       "      <th>2</th>\n",
       "      <td>Smt Pratibha Devisingh Patil</td>\n",
       "      <td>25 July, 2007 to 25 July, 2012</td>\n",
       "    </tr>\n",
       "    <tr>\n",
       "      <th>3</th>\n",
       "      <td>DR. A.P.J. Abdul Kalam</td>\n",
       "      <td>25 July, 2002 to 25 July, 2007</td>\n",
       "    </tr>\n",
       "    <tr>\n",
       "      <th>4</th>\n",
       "      <td>Shri K. R. Narayanan</td>\n",
       "      <td>25 July, 1997 to 25 July, 2002</td>\n",
       "    </tr>\n",
       "    <tr>\n",
       "      <th>5</th>\n",
       "      <td>Dr Shankar Dayal Sharma</td>\n",
       "      <td>25 July, 1992 to 25 July, 1997</td>\n",
       "    </tr>\n",
       "    <tr>\n",
       "      <th>6</th>\n",
       "      <td>Shri R Venkataraman</td>\n",
       "      <td>25 July, 1987 to 25 July, 1992</td>\n",
       "    </tr>\n",
       "    <tr>\n",
       "      <th>7</th>\n",
       "      <td>Giani Zail Singh</td>\n",
       "      <td>25 July, 1982 to 25 July, 1987</td>\n",
       "    </tr>\n",
       "    <tr>\n",
       "      <th>8</th>\n",
       "      <td>Shri Neelam Sanjiva Reddy</td>\n",
       "      <td>25 July, 1977 to 25 July, 1982</td>\n",
       "    </tr>\n",
       "    <tr>\n",
       "      <th>9</th>\n",
       "      <td>Dr. Fakhruddin Ali Ahmed</td>\n",
       "      <td>24 August, 1974 to 11 February, 1977</td>\n",
       "    </tr>\n",
       "    <tr>\n",
       "      <th>10</th>\n",
       "      <td>Shri Varahagiri Venkata Giri</td>\n",
       "      <td>3 May, 1969 to 20 July, 1969 and 24 August, 1...</td>\n",
       "    </tr>\n",
       "    <tr>\n",
       "      <th>11</th>\n",
       "      <td>Dr. Zakir Husain</td>\n",
       "      <td>13 May, 1967 to 3 May, 1969</td>\n",
       "    </tr>\n",
       "    <tr>\n",
       "      <th>12</th>\n",
       "      <td>Dr. Sarvepalli Radhakrishnan</td>\n",
       "      <td>13 May, 1962 to 13 May, 1967</td>\n",
       "    </tr>\n",
       "    <tr>\n",
       "      <th>13</th>\n",
       "      <td>Dr. Rajendra Prasad</td>\n",
       "      <td>26 January, 1950 to 13 May, 1962</td>\n",
       "    </tr>\n",
       "  </tbody>\n",
       "</table>\n",
       "</div>"
      ],
      "text/plain": [
       "                            Names  \\\n",
       "1          Shri Pranab Mukherjee    \n",
       "2   Smt Pratibha Devisingh Patil    \n",
       "3         DR. A.P.J. Abdul Kalam    \n",
       "4           Shri K. R. Narayanan    \n",
       "5        Dr Shankar Dayal Sharma    \n",
       "6            Shri R Venkataraman    \n",
       "7               Giani Zail Singh    \n",
       "8      Shri Neelam Sanjiva Reddy    \n",
       "9       Dr. Fakhruddin Ali Ahmed    \n",
       "10  Shri Varahagiri Venkata Giri    \n",
       "11              Dr. Zakir Husain    \n",
       "12  Dr. Sarvepalli Radhakrishnan    \n",
       "13           Dr. Rajendra Prasad    \n",
       "\n",
       "                                       Term of Office  \n",
       "1                     25 July, 2012 to 25 July, 2017   \n",
       "2                     25 July, 2007 to 25 July, 2012   \n",
       "3                     25 July, 2002 to 25 July, 2007   \n",
       "4                     25 July, 1997 to 25 July, 2002   \n",
       "5                     25 July, 1992 to 25 July, 1997   \n",
       "6                     25 July, 1987 to 25 July, 1992   \n",
       "7                     25 July, 1982 to 25 July, 1987   \n",
       "8                     25 July, 1977 to 25 July, 1982   \n",
       "9                24 August, 1974 to 11 February, 1977  \n",
       "10   3 May, 1969 to 20 July, 1969 and 24 August, 1...  \n",
       "11                        13 May, 1967 to 3 May, 1969  \n",
       "12                       13 May, 1962 to 13 May, 1967  \n",
       "13                   26 January, 1950 to 13 May, 1962  "
      ]
     },
     "execution_count": 152,
     "metadata": {},
     "output_type": "execute_result"
    }
   ],
   "source": [
    "a = a[['Names', 'Term of Office']]\n",
    "a"
   ]
  },
  {
   "cell_type": "markdown",
   "id": "4a8d7fe1",
   "metadata": {},
   "source": [
    "# Cricket Rankings"
   ]
  },
  {
   "cell_type": "markdown",
   "id": "c3b6f96f",
   "metadata": {},
   "source": [
    "# Top 10 ODI teams"
   ]
  },
  {
   "cell_type": "code",
   "execution_count": 7,
   "id": "0278f02e",
   "metadata": {},
   "outputs": [],
   "source": [
    "page5 = requests.get('https://www.icc-cricket.com/rankings/mens/team-rankings/odi')\n",
    "soup5 = BeautifulSoup(page5.content)"
   ]
  },
  {
   "cell_type": "code",
   "execution_count": 26,
   "id": "f7367d0c",
   "metadata": {},
   "outputs": [],
   "source": [
    "tab= []\n",
    "\n",
    "for i in soup5.find_all('tr', class_='table-body'):\n",
    "    tab.append(i.text)\n"
   ]
  },
  {
   "cell_type": "code",
   "execution_count": 19,
   "id": "cf456c32",
   "metadata": {},
   "outputs": [],
   "source": [
    "matcht = pd.DataFrame({'test':tab})\n"
   ]
  },
  {
   "cell_type": "code",
   "execution_count": 20,
   "id": "07c4674d",
   "metadata": {},
   "outputs": [],
   "source": [
    "matcht[['test','Ranking','test','test','Team','test','test','Matches','Points','Ratings','test']]= matcht['test'].str.split('\\n', expand = True)"
   ]
  },
  {
   "cell_type": "code",
   "execution_count": 24,
   "id": "90abaea3",
   "metadata": {},
   "outputs": [],
   "source": [
    "matcht.index = matcht['Ranking']\n",
    "matcht.drop(['test','Ranking'], axis =1, inplace=True)"
   ]
  },
  {
   "cell_type": "code",
   "execution_count": null,
   "id": "eb679e3b",
   "metadata": {},
   "outputs": [],
   "source": [
    "\n",
    "matcht = matcht.reset_index()\n",
    "\n",
    "matcht.index = matcht.index + 1\n",
    "matcht"
   ]
  },
  {
   "cell_type": "code",
   "execution_count": 44,
   "id": "26a97085",
   "metadata": {},
   "outputs": [
    {
     "data": {
      "text/plain": [
       "'\\n                            125\\n                            \\n\\n'"
      ]
     },
     "execution_count": 44,
     "metadata": {},
     "output_type": "execute_result"
    }
   ],
   "source": [
    "n = soup5.find('span', class_='u-hide-phablet')\n",
    "n.text\n",
    "m = soup5.find('td', class_='rankings-block__banner--matches')\n",
    "m.text\n",
    "p = soup5.find('td', class_='rankings-block__banner--points')\n",
    "p.text\n",
    "r = soup5.find('td', class_='rankings-block__banner--rating u-text-right')\n",
    "r.text"
   ]
  },
  {
   "cell_type": "code",
   "execution_count": 51,
   "id": "982d7a8e",
   "metadata": {},
   "outputs": [],
   "source": [
    "o = r.text.split()"
   ]
  },
  {
   "cell_type": "code",
   "execution_count": 59,
   "id": "c9da695a",
   "metadata": {},
   "outputs": [],
   "source": [
    "top = pd.DataFrame({'Team':n,\n",
    "                   'Matches':m,\n",
    "                   'Points':p,\n",
    "                   'Ratings':o})"
   ]
  },
  {
   "cell_type": "code",
   "execution_count": 62,
   "id": "d86ba062",
   "metadata": {},
   "outputs": [
    {
     "data": {
      "text/html": [
       "<div>\n",
       "<style scoped>\n",
       "    .dataframe tbody tr th:only-of-type {\n",
       "        vertical-align: middle;\n",
       "    }\n",
       "\n",
       "    .dataframe tbody tr th {\n",
       "        vertical-align: top;\n",
       "    }\n",
       "\n",
       "    .dataframe thead th {\n",
       "        text-align: right;\n",
       "    }\n",
       "</style>\n",
       "<table border=\"1\" class=\"dataframe\">\n",
       "  <thead>\n",
       "    <tr style=\"text-align: right;\">\n",
       "      <th></th>\n",
       "      <th>Team</th>\n",
       "      <th>Matches</th>\n",
       "      <th>Points</th>\n",
       "      <th>Ratings</th>\n",
       "      <th>Ranking</th>\n",
       "    </tr>\n",
       "  </thead>\n",
       "  <tbody>\n",
       "    <tr>\n",
       "      <th>0</th>\n",
       "      <td>New Zealand</td>\n",
       "      <td>12</td>\n",
       "      <td>1,505</td>\n",
       "      <td>125</td>\n",
       "      <td>1</td>\n",
       "    </tr>\n",
       "  </tbody>\n",
       "</table>\n",
       "</div>"
      ],
      "text/plain": [
       "          Team Matches Points Ratings Ranking\n",
       "0  New Zealand      12  1,505     125       1"
      ]
     },
     "execution_count": 62,
     "metadata": {},
     "output_type": "execute_result"
    }
   ],
   "source": [
    "top['Ranking'] = ['1']\n",
    "top"
   ]
  },
  {
   "cell_type": "code",
   "execution_count": 90,
   "id": "4d4e5927",
   "metadata": {},
   "outputs": [],
   "source": [
    "table = pd.concat([matcht, top])\n"
   ]
  },
  {
   "cell_type": "code",
   "execution_count": 83,
   "id": "e4b0767c",
   "metadata": {},
   "outputs": [],
   "source": [
    "Match1 = table.reindex([0,1,2,3,4,5,6,7,8,9])"
   ]
  },
  {
   "cell_type": "code",
   "execution_count": 86,
   "id": "fa9ed6b9",
   "metadata": {},
   "outputs": [],
   "source": [
    "Match1.index = Match1['Ranking']"
   ]
  },
  {
   "cell_type": "code",
   "execution_count": 88,
   "id": "24cdf729",
   "metadata": {},
   "outputs": [],
   "source": [
    "Match1.drop(\"Ranking\",axis=1,inplace=True)"
   ]
  },
  {
   "cell_type": "code",
   "execution_count": 89,
   "id": "3796ce9c",
   "metadata": {},
   "outputs": [
    {
     "data": {
      "text/html": [
       "<div>\n",
       "<style scoped>\n",
       "    .dataframe tbody tr th:only-of-type {\n",
       "        vertical-align: middle;\n",
       "    }\n",
       "\n",
       "    .dataframe tbody tr th {\n",
       "        vertical-align: top;\n",
       "    }\n",
       "\n",
       "    .dataframe thead th {\n",
       "        text-align: right;\n",
       "    }\n",
       "</style>\n",
       "<table border=\"1\" class=\"dataframe\">\n",
       "  <thead>\n",
       "    <tr style=\"text-align: right;\">\n",
       "      <th></th>\n",
       "      <th>Team</th>\n",
       "      <th>Matches</th>\n",
       "      <th>Points</th>\n",
       "      <th>Ratings</th>\n",
       "    </tr>\n",
       "    <tr>\n",
       "      <th>Ranking</th>\n",
       "      <th></th>\n",
       "      <th></th>\n",
       "      <th></th>\n",
       "      <th></th>\n",
       "    </tr>\n",
       "  </thead>\n",
       "  <tbody>\n",
       "    <tr>\n",
       "      <th>1</th>\n",
       "      <td>New Zealand</td>\n",
       "      <td>12</td>\n",
       "      <td>1,505</td>\n",
       "      <td>125</td>\n",
       "    </tr>\n",
       "    <tr>\n",
       "      <th>2</th>\n",
       "      <td>England</td>\n",
       "      <td>22</td>\n",
       "      <td>2,756</td>\n",
       "      <td>125</td>\n",
       "    </tr>\n",
       "    <tr>\n",
       "      <th>3</th>\n",
       "      <td>Pakistan</td>\n",
       "      <td>19</td>\n",
       "      <td>2,005</td>\n",
       "      <td>106</td>\n",
       "    </tr>\n",
       "    <tr>\n",
       "      <th>4</th>\n",
       "      <td>India</td>\n",
       "      <td>22</td>\n",
       "      <td>2,304</td>\n",
       "      <td>105</td>\n",
       "    </tr>\n",
       "    <tr>\n",
       "      <th>5</th>\n",
       "      <td>Australia</td>\n",
       "      <td>22</td>\n",
       "      <td>2,182</td>\n",
       "      <td>99</td>\n",
       "    </tr>\n",
       "    <tr>\n",
       "      <th>6</th>\n",
       "      <td>South Africa</td>\n",
       "      <td>19</td>\n",
       "      <td>1,872</td>\n",
       "      <td>99</td>\n",
       "    </tr>\n",
       "    <tr>\n",
       "      <th>7</th>\n",
       "      <td>Bangladesh</td>\n",
       "      <td>24</td>\n",
       "      <td>2,275</td>\n",
       "      <td>95</td>\n",
       "    </tr>\n",
       "    <tr>\n",
       "      <th>8</th>\n",
       "      <td>Sri Lanka</td>\n",
       "      <td>28</td>\n",
       "      <td>2,609</td>\n",
       "      <td>93</td>\n",
       "    </tr>\n",
       "    <tr>\n",
       "      <th>9</th>\n",
       "      <td>West Indies</td>\n",
       "      <td>32</td>\n",
       "      <td>2,306</td>\n",
       "      <td>72</td>\n",
       "    </tr>\n",
       "    <tr>\n",
       "      <th>10</th>\n",
       "      <td>Afghanistan</td>\n",
       "      <td>18</td>\n",
       "      <td>1,238</td>\n",
       "      <td>69</td>\n",
       "    </tr>\n",
       "  </tbody>\n",
       "</table>\n",
       "</div>"
      ],
      "text/plain": [
       "                 Team Matches Points Ratings\n",
       "Ranking                                     \n",
       "1         New Zealand      12  1,505     125\n",
       "2             England      22  2,756     125\n",
       "3            Pakistan      19  2,005     106\n",
       "4               India      22  2,304     105\n",
       "5           Australia      22  2,182      99\n",
       "6        South Africa      19  1,872      99\n",
       "7          Bangladesh      24  2,275      95\n",
       "8           Sri Lanka      28  2,609      93\n",
       "9         West Indies      32  2,306      72\n",
       "10        Afghanistan      18  1,238      69"
      ]
     },
     "execution_count": 89,
     "metadata": {},
     "output_type": "execute_result"
    }
   ],
   "source": [
    "Match1"
   ]
  },
  {
   "cell_type": "markdown",
   "id": "35bf93ea",
   "metadata": {},
   "source": [
    "# Top 10 ODI Batsmen"
   ]
  },
  {
   "cell_type": "code",
   "execution_count": 3,
   "id": "259f01dc",
   "metadata": {},
   "outputs": [],
   "source": [
    "page6 = requests.get('https://www.icc-cricket.com/rankings/mens/player-rankings/odi/batting')\n",
    "soup6 = BeautifulSoup(page6.content)"
   ]
  },
  {
   "cell_type": "code",
   "execution_count": 18,
   "id": "f36d0650",
   "metadata": {},
   "outputs": [],
   "source": [
    "tab= []\n",
    "\n",
    "for i in soup6.find_all('td', class_='table-body__cell rankings-table__name name'):\n",
    "    tab.append(i.text)"
   ]
  },
  {
   "cell_type": "code",
   "execution_count": 28,
   "id": "40e33517",
   "metadata": {},
   "outputs": [],
   "source": [
    "names = pd.DataFrame({'tab':tab})\n"
   ]
  },
  {
   "cell_type": "code",
   "execution_count": 29,
   "id": "0de91b47",
   "metadata": {},
   "outputs": [],
   "source": [
    "names[['test','Name','test']]= names['tab'].str.split('\\n', expand=True)"
   ]
  },
  {
   "cell_type": "code",
   "execution_count": 30,
   "id": "431d2be8",
   "metadata": {},
   "outputs": [],
   "source": [
    "names.drop(['tab','test'],axis=1,inplace=True)"
   ]
  },
  {
   "cell_type": "code",
   "execution_count": 103,
   "id": "8bae9494",
   "metadata": {},
   "outputs": [],
   "source": [
    "names.drop(names.index[10:], inplace=True)"
   ]
  },
  {
   "cell_type": "code",
   "execution_count": 81,
   "id": "30288709",
   "metadata": {},
   "outputs": [],
   "source": [
    "\n",
    "one = soup6.find('tr', class_='rankings-block__banner')\n",
    "b = one.text.split()[2:6]"
   ]
  },
  {
   "cell_type": "code",
   "execution_count": 83,
   "id": "90f51ed5",
   "metadata": {},
   "outputs": [],
   "source": [
    "b[0:2] = [' '.join(b[0:2])]"
   ]
  },
  {
   "cell_type": "code",
   "execution_count": 91,
   "id": "c099212b",
   "metadata": {},
   "outputs": [],
   "source": [
    "c=pd.DataFrame(b)"
   ]
  },
  {
   "cell_type": "code",
   "execution_count": 97,
   "id": "75b7710f",
   "metadata": {},
   "outputs": [
    {
     "data": {
      "text/html": [
       "<div>\n",
       "<style scoped>\n",
       "    .dataframe tbody tr th:only-of-type {\n",
       "        vertical-align: middle;\n",
       "    }\n",
       "\n",
       "    .dataframe tbody tr th {\n",
       "        vertical-align: top;\n",
       "    }\n",
       "\n",
       "    .dataframe thead th {\n",
       "        text-align: right;\n",
       "    }\n",
       "</style>\n",
       "<table border=\"1\" class=\"dataframe\">\n",
       "  <thead>\n",
       "    <tr style=\"text-align: right;\">\n",
       "      <th></th>\n",
       "      <th>Name</th>\n",
       "      <th>Team</th>\n",
       "      <th>Rating</th>\n",
       "    </tr>\n",
       "  </thead>\n",
       "  <tbody>\n",
       "    <tr>\n",
       "      <th>0</th>\n",
       "      <td>Babar Azam</td>\n",
       "      <td>PAK</td>\n",
       "      <td>892</td>\n",
       "    </tr>\n",
       "  </tbody>\n",
       "</table>\n",
       "</div>"
      ],
      "text/plain": [
       "         Name Team Rating\n",
       "0  Babar Azam  PAK    892"
      ]
     },
     "execution_count": 97,
     "metadata": {},
     "output_type": "execute_result"
    }
   ],
   "source": [
    "d = c.T\n",
    "d.columns = ['Name','Team','Rating']\n",
    "d"
   ]
  },
  {
   "cell_type": "code",
   "execution_count": 98,
   "id": "fe9d973b",
   "metadata": {},
   "outputs": [],
   "source": [
    "\n",
    "\n",
    "team= []\n",
    "\n",
    "for i in soup6.find_all('span', class_='table-body__logo-text'):\n",
    "    team.append(i.text)\n",
    "    \n",
    "\n",
    "rate= []\n",
    "\n",
    "for i in soup6.find_all('td', class_='table-body__cell rating'):\n",
    "    rate.append(i.text)"
   ]
  },
  {
   "cell_type": "code",
   "execution_count": 99,
   "id": "01838971",
   "metadata": {},
   "outputs": [],
   "source": [
    "a= pd.DataFrame({'Team':team, 'Rating':rate})\n"
   ]
  },
  {
   "cell_type": "code",
   "execution_count": 101,
   "id": "0e533b10",
   "metadata": {},
   "outputs": [],
   "source": [
    "a.drop(a.index[10:], inplace=True)"
   ]
  },
  {
   "cell_type": "code",
   "execution_count": 104,
   "id": "812821c7",
   "metadata": {},
   "outputs": [],
   "source": [
    "table3 = pd.concat([names,a], axis=1)"
   ]
  },
  {
   "cell_type": "code",
   "execution_count": 108,
   "id": "038ea0cf",
   "metadata": {},
   "outputs": [],
   "source": [
    "table4= pd.concat([table3,d])"
   ]
  },
  {
   "cell_type": "code",
   "execution_count": 110,
   "id": "fa15a2ac",
   "metadata": {},
   "outputs": [],
   "source": [
    "table4 = table4.reset_index()"
   ]
  },
  {
   "cell_type": "code",
   "execution_count": 114,
   "id": "92812fe9",
   "metadata": {},
   "outputs": [],
   "source": [
    "table4 = table4.reindex([10,0,1,2,3,4,5,6,7,8,9])"
   ]
  },
  {
   "cell_type": "code",
   "execution_count": 122,
   "id": "8cd0a486",
   "metadata": {},
   "outputs": [],
   "source": [
    "table4.drop('level_0',axis=1, inplace=True)"
   ]
  },
  {
   "cell_type": "code",
   "execution_count": 124,
   "id": "99969ddf",
   "metadata": {},
   "outputs": [],
   "source": [
    "table4.drop('index',axis=1, inplace=True)"
   ]
  },
  {
   "cell_type": "code",
   "execution_count": 126,
   "id": "15dcf260",
   "metadata": {},
   "outputs": [],
   "source": [
    "table4.index = table4.index+1"
   ]
  },
  {
   "cell_type": "code",
   "execution_count": 128,
   "id": "3eb8ee8c",
   "metadata": {},
   "outputs": [],
   "source": [
    "table4.drop(table4.index[10:], inplace=True)"
   ]
  },
  {
   "cell_type": "code",
   "execution_count": 129,
   "id": "d864274d",
   "metadata": {},
   "outputs": [
    {
     "data": {
      "text/html": [
       "<div>\n",
       "<style scoped>\n",
       "    .dataframe tbody tr th:only-of-type {\n",
       "        vertical-align: middle;\n",
       "    }\n",
       "\n",
       "    .dataframe tbody tr th {\n",
       "        vertical-align: top;\n",
       "    }\n",
       "\n",
       "    .dataframe thead th {\n",
       "        text-align: right;\n",
       "    }\n",
       "</style>\n",
       "<table border=\"1\" class=\"dataframe\">\n",
       "  <thead>\n",
       "    <tr style=\"text-align: right;\">\n",
       "      <th></th>\n",
       "      <th>Name</th>\n",
       "      <th>Team</th>\n",
       "      <th>Rating</th>\n",
       "    </tr>\n",
       "  </thead>\n",
       "  <tbody>\n",
       "    <tr>\n",
       "      <th>1</th>\n",
       "      <td>Babar Azam</td>\n",
       "      <td>PAK</td>\n",
       "      <td>892</td>\n",
       "    </tr>\n",
       "    <tr>\n",
       "      <th>2</th>\n",
       "      <td>Imam-ul-Haq</td>\n",
       "      <td>PAK</td>\n",
       "      <td>815</td>\n",
       "    </tr>\n",
       "    <tr>\n",
       "      <th>3</th>\n",
       "      <td>Virat Kohli</td>\n",
       "      <td>IND</td>\n",
       "      <td>811</td>\n",
       "    </tr>\n",
       "    <tr>\n",
       "      <th>4</th>\n",
       "      <td>Rohit Sharma</td>\n",
       "      <td>IND</td>\n",
       "      <td>791</td>\n",
       "    </tr>\n",
       "    <tr>\n",
       "      <th>5</th>\n",
       "      <td>Quinton de Kock</td>\n",
       "      <td>SA</td>\n",
       "      <td>789</td>\n",
       "    </tr>\n",
       "    <tr>\n",
       "      <th>6</th>\n",
       "      <td>Ross Taylor</td>\n",
       "      <td>NZ</td>\n",
       "      <td>775</td>\n",
       "    </tr>\n",
       "    <tr>\n",
       "      <th>7</th>\n",
       "      <td>Rassie van der Dussen</td>\n",
       "      <td>SA</td>\n",
       "      <td>769</td>\n",
       "    </tr>\n",
       "    <tr>\n",
       "      <th>8</th>\n",
       "      <td>Jonny Bairstow</td>\n",
       "      <td>ENG</td>\n",
       "      <td>760</td>\n",
       "    </tr>\n",
       "    <tr>\n",
       "      <th>9</th>\n",
       "      <td>David Warner</td>\n",
       "      <td>AUS</td>\n",
       "      <td>745</td>\n",
       "    </tr>\n",
       "    <tr>\n",
       "      <th>10</th>\n",
       "      <td>Aaron Finch</td>\n",
       "      <td>AUS</td>\n",
       "      <td>727</td>\n",
       "    </tr>\n",
       "  </tbody>\n",
       "</table>\n",
       "</div>"
      ],
      "text/plain": [
       "                     Name Team Rating\n",
       "1              Babar Azam  PAK    892\n",
       "2             Imam-ul-Haq  PAK    815\n",
       "3             Virat Kohli  IND    811\n",
       "4            Rohit Sharma  IND    791\n",
       "5         Quinton de Kock   SA    789\n",
       "6             Ross Taylor   NZ    775\n",
       "7   Rassie van der Dussen   SA    769\n",
       "8          Jonny Bairstow  ENG    760\n",
       "9            David Warner  AUS    745\n",
       "10            Aaron Finch  AUS    727"
      ]
     },
     "execution_count": 129,
     "metadata": {},
     "output_type": "execute_result"
    }
   ],
   "source": [
    "table4"
   ]
  },
  {
   "cell_type": "markdown",
   "id": "fd8d798b",
   "metadata": {},
   "source": [
    "# Top 10 ODI Bowlers"
   ]
  },
  {
   "cell_type": "code",
   "execution_count": 130,
   "id": "7308d7af",
   "metadata": {},
   "outputs": [],
   "source": [
    "page7 = requests.get('https://www.icc-cricket.com/rankings/mens/player-rankings/odi/bowling')\n",
    "soup7 = BeautifulSoup(page7.content)"
   ]
  },
  {
   "cell_type": "code",
   "execution_count": 131,
   "id": "2cc3bffd",
   "metadata": {},
   "outputs": [],
   "source": [
    "N= []\n",
    "\n",
    "for i in soup7.find_all('td', class_='table-body__cell rankings-table__name name'):\n",
    "    N.append(i.text)\n",
    "    \n",
    "T= []\n",
    "\n",
    "for i in soup7.find_all('span', class_='table-body__logo-text'):\n",
    "    T.append(i.text)\n",
    "    \n",
    "\n",
    "R= []\n",
    "\n",
    "for i in soup7.find_all('td', class_='table-body__cell rating'):\n",
    "    R.append(i.text)"
   ]
  },
  {
   "cell_type": "code",
   "execution_count": 140,
   "id": "6350f378",
   "metadata": {},
   "outputs": [],
   "source": [
    "sec = pd.DataFrame({'Name':N,\n",
    "                   'Team':T,\n",
    "                   'Rating':R})"
   ]
  },
  {
   "cell_type": "code",
   "execution_count": 142,
   "id": "2c9d0c0e",
   "metadata": {},
   "outputs": [],
   "source": [
    "sec[['test','Names','test']]= sec['Name'].str.split('\\n', expand=True)\n"
   ]
  },
  {
   "cell_type": "code",
   "execution_count": 143,
   "id": "d17d2c37",
   "metadata": {},
   "outputs": [],
   "source": [
    "sec.drop(['Name','test'],axis=1,inplace=True)\n"
   ]
  },
  {
   "cell_type": "code",
   "execution_count": 144,
   "id": "83248340",
   "metadata": {},
   "outputs": [],
   "source": [
    "sec = sec[['Names','Team','Rating']]"
   ]
  },
  {
   "cell_type": "code",
   "execution_count": 146,
   "id": "4fe92a58",
   "metadata": {},
   "outputs": [
    {
     "name": "stderr",
     "output_type": "stream",
     "text": [
      "C:\\Users\\sawan\\anaconda3\\lib\\site-packages\\pandas\\core\\frame.py:4906: SettingWithCopyWarning: \n",
      "A value is trying to be set on a copy of a slice from a DataFrame\n",
      "\n",
      "See the caveats in the documentation: https://pandas.pydata.org/pandas-docs/stable/user_guide/indexing.html#returning-a-view-versus-a-copy\n",
      "  return super().drop(\n"
     ]
    }
   ],
   "source": [
    "sec.drop(sec.index[9:],inplace=True)"
   ]
  },
  {
   "cell_type": "code",
   "execution_count": 156,
   "id": "b74e1b8f",
   "metadata": {},
   "outputs": [],
   "source": [
    "a = soup7.find('div', class_='rankings-block__banner--name-large')\n",
    "a1 = a.text\n",
    "c = soup7.find('div', class_='rankings-block__banner--rating')\n",
    "c1 = c.text"
   ]
  },
  {
   "cell_type": "code",
   "execution_count": 159,
   "id": "df7fcdc1",
   "metadata": {},
   "outputs": [],
   "source": [
    "b = soup7.find('div', class_='rankings-block__banner--nationality')\n",
    "b1= b.text.split()"
   ]
  },
  {
   "cell_type": "code",
   "execution_count": 161,
   "id": "6d5d353d",
   "metadata": {},
   "outputs": [
    {
     "data": {
      "text/html": [
       "<div>\n",
       "<style scoped>\n",
       "    .dataframe tbody tr th:only-of-type {\n",
       "        vertical-align: middle;\n",
       "    }\n",
       "\n",
       "    .dataframe tbody tr th {\n",
       "        vertical-align: top;\n",
       "    }\n",
       "\n",
       "    .dataframe thead th {\n",
       "        text-align: right;\n",
       "    }\n",
       "</style>\n",
       "<table border=\"1\" class=\"dataframe\">\n",
       "  <thead>\n",
       "    <tr style=\"text-align: right;\">\n",
       "      <th></th>\n",
       "      <th>Names</th>\n",
       "      <th>Team</th>\n",
       "      <th>Rating</th>\n",
       "    </tr>\n",
       "  </thead>\n",
       "  <tbody>\n",
       "    <tr>\n",
       "      <th>0</th>\n",
       "      <td>Trent Boult</td>\n",
       "      <td>NZ</td>\n",
       "      <td>726</td>\n",
       "    </tr>\n",
       "  </tbody>\n",
       "</table>\n",
       "</div>"
      ],
      "text/plain": [
       "         Names Team Rating\n",
       "0  Trent Boult   NZ    726"
      ]
     },
     "execution_count": 161,
     "metadata": {},
     "output_type": "execute_result"
    }
   ],
   "source": [
    "d = pd.DataFrame({ 'Names':a1,\n",
    "                  'Team':b1,\n",
    "                  'Rating':c1})\n",
    "d"
   ]
  },
  {
   "cell_type": "code",
   "execution_count": null,
   "id": "4b75777d",
   "metadata": {},
   "outputs": [],
   "source": [
    "table5 = pd.concat([sec,d])\n",
    "table5"
   ]
  },
  {
   "cell_type": "code",
   "execution_count": 166,
   "id": "0458ebf5",
   "metadata": {},
   "outputs": [],
   "source": [
    "table5 = table5.reset_index()"
   ]
  },
  {
   "cell_type": "code",
   "execution_count": 168,
   "id": "138b18a3",
   "metadata": {},
   "outputs": [],
   "source": [
    "table5 = table5.reindex([9,0,1,2,3,4,5,6,7,8])"
   ]
  },
  {
   "cell_type": "code",
   "execution_count": 170,
   "id": "46ec3eea",
   "metadata": {},
   "outputs": [],
   "source": [
    "table5 = table5.reset_index()"
   ]
  },
  {
   "cell_type": "code",
   "execution_count": 172,
   "id": "72a72aef",
   "metadata": {},
   "outputs": [],
   "source": [
    "table5.drop(['level_0','index'],axis=1,inplace=True)"
   ]
  },
  {
   "cell_type": "code",
   "execution_count": 176,
   "id": "2e89fffc",
   "metadata": {},
   "outputs": [],
   "source": [
    "table5.index=table5.index-1"
   ]
  },
  {
   "cell_type": "code",
   "execution_count": 195,
   "id": "a4c529fa",
   "metadata": {},
   "outputs": [
    {
     "data": {
      "text/html": [
       "<div>\n",
       "<style scoped>\n",
       "    .dataframe tbody tr th:only-of-type {\n",
       "        vertical-align: middle;\n",
       "    }\n",
       "\n",
       "    .dataframe tbody tr th {\n",
       "        vertical-align: top;\n",
       "    }\n",
       "\n",
       "    .dataframe thead th {\n",
       "        text-align: right;\n",
       "    }\n",
       "</style>\n",
       "<table border=\"1\" class=\"dataframe\">\n",
       "  <thead>\n",
       "    <tr style=\"text-align: right;\">\n",
       "      <th></th>\n",
       "      <th>Names</th>\n",
       "      <th>Team</th>\n",
       "      <th>Rating</th>\n",
       "    </tr>\n",
       "  </thead>\n",
       "  <tbody>\n",
       "    <tr>\n",
       "      <th>1</th>\n",
       "      <td>Trent Boult</td>\n",
       "      <td>NZ</td>\n",
       "      <td>726</td>\n",
       "    </tr>\n",
       "    <tr>\n",
       "      <th>2</th>\n",
       "      <td>Chris Woakes</td>\n",
       "      <td>ENG</td>\n",
       "      <td>686</td>\n",
       "    </tr>\n",
       "    <tr>\n",
       "      <th>3</th>\n",
       "      <td>Matt Henry</td>\n",
       "      <td>NZ</td>\n",
       "      <td>683</td>\n",
       "    </tr>\n",
       "    <tr>\n",
       "      <th>4</th>\n",
       "      <td>Shaheen Afridi</td>\n",
       "      <td>PAK</td>\n",
       "      <td>681</td>\n",
       "    </tr>\n",
       "    <tr>\n",
       "      <th>5</th>\n",
       "      <td>Jasprit Bumrah</td>\n",
       "      <td>IND</td>\n",
       "      <td>679</td>\n",
       "    </tr>\n",
       "    <tr>\n",
       "      <th>6</th>\n",
       "      <td>Mujeeb Ur Rahman</td>\n",
       "      <td>AFG</td>\n",
       "      <td>676</td>\n",
       "    </tr>\n",
       "    <tr>\n",
       "      <th>7</th>\n",
       "      <td>Josh Hazlewood</td>\n",
       "      <td>AUS</td>\n",
       "      <td>667</td>\n",
       "    </tr>\n",
       "    <tr>\n",
       "      <th>8</th>\n",
       "      <td>Mehedi Hasan</td>\n",
       "      <td>BAN</td>\n",
       "      <td>661</td>\n",
       "    </tr>\n",
       "    <tr>\n",
       "      <th>9</th>\n",
       "      <td>Mohammad Nabi</td>\n",
       "      <td>AFG</td>\n",
       "      <td>657</td>\n",
       "    </tr>\n",
       "    <tr>\n",
       "      <th>10</th>\n",
       "      <td>Shakib Al Hasan</td>\n",
       "      <td>BAN</td>\n",
       "      <td>657</td>\n",
       "    </tr>\n",
       "  </tbody>\n",
       "</table>\n",
       "</div>"
      ],
      "text/plain": [
       "               Names Team Rating\n",
       "1        Trent Boult   NZ    726\n",
       "2       Chris Woakes  ENG    686\n",
       "3         Matt Henry   NZ    683\n",
       "4     Shaheen Afridi  PAK    681\n",
       "5     Jasprit Bumrah  IND    679\n",
       "6   Mujeeb Ur Rahman  AFG    676\n",
       "7     Josh Hazlewood  AUS    667\n",
       "8       Mehedi Hasan  BAN    661\n",
       "9      Mohammad Nabi  AFG    657\n",
       "10   Shakib Al Hasan  BAN    657"
      ]
     },
     "execution_count": 195,
     "metadata": {},
     "output_type": "execute_result"
    }
   ],
   "source": [
    "table5"
   ]
  },
  {
   "cell_type": "markdown",
   "id": "9b2fce92",
   "metadata": {},
   "source": [
    "# Top 10 ODI Women's teams"
   ]
  },
  {
   "cell_type": "code",
   "execution_count": 196,
   "id": "32dac6b4",
   "metadata": {},
   "outputs": [],
   "source": [
    "page8 = requests.get('https://www.icc-cricket.com/rankings/womens/team-rankings/odi')\n",
    "soup8 = BeautifulSoup(page8.content)"
   ]
  },
  {
   "cell_type": "code",
   "execution_count": null,
   "id": "fa2c4f5b",
   "metadata": {},
   "outputs": [],
   "source": [
    "Y = []\n",
    "\n",
    "for i in soup8.find_all('tr', class_='table-body'):\n",
    "    Y.append(i.text)\n",
    "    \n",
    "Y"
   ]
  },
  {
   "cell_type": "code",
   "execution_count": null,
   "id": "9fb39caa",
   "metadata": {},
   "outputs": [],
   "source": [
    "table2 = pd.DataFrame({'test':Y})\n",
    "table2"
   ]
  },
  {
   "cell_type": "code",
   "execution_count": 205,
   "id": "42198005",
   "metadata": {},
   "outputs": [],
   "source": [
    "table2[['test','Rank','test','test','Name','Team','test','Matches','Points','Rating','test']]=table2['test'].str.split('\\n', expand = True)"
   ]
  },
  {
   "cell_type": "code",
   "execution_count": 207,
   "id": "bc64305d",
   "metadata": {},
   "outputs": [],
   "source": [
    "table2.drop(['test','Rank'],axis=1,inplace=True)"
   ]
  },
  {
   "cell_type": "code",
   "execution_count": 209,
   "id": "99575f71",
   "metadata": {},
   "outputs": [],
   "source": [
    "table2.drop(['Team'],axis=1,inplace=True)"
   ]
  },
  {
   "cell_type": "code",
   "execution_count": null,
   "id": "9c916e04",
   "metadata": {},
   "outputs": [],
   "source": [
    "table2"
   ]
  },
  {
   "cell_type": "code",
   "execution_count": 228,
   "id": "2627585c",
   "metadata": {},
   "outputs": [],
   "source": [
    "a = soup8.find('span', class_='u-hide-phablet')\n",
    "a1 = a.text\n",
    "b = soup8.find('td', class_='rankings-block__banner--matches')\n",
    "b1= b.text\n",
    "c = soup8.find('td', class_='rankings-block__banner--points')\n",
    "c1 = c.text\n",
    "d = soup8.find('td', class_='rankings-block__banner--rating u-text-right')\n",
    "d1 = d.text.split()"
   ]
  },
  {
   "cell_type": "code",
   "execution_count": 230,
   "id": "37d0ffa6",
   "metadata": {},
   "outputs": [
    {
     "data": {
      "text/html": [
       "<div>\n",
       "<style scoped>\n",
       "    .dataframe tbody tr th:only-of-type {\n",
       "        vertical-align: middle;\n",
       "    }\n",
       "\n",
       "    .dataframe tbody tr th {\n",
       "        vertical-align: top;\n",
       "    }\n",
       "\n",
       "    .dataframe thead th {\n",
       "        text-align: right;\n",
       "    }\n",
       "</style>\n",
       "<table border=\"1\" class=\"dataframe\">\n",
       "  <thead>\n",
       "    <tr style=\"text-align: right;\">\n",
       "      <th></th>\n",
       "      <th>Name</th>\n",
       "      <th>Matches</th>\n",
       "      <th>Points</th>\n",
       "      <th>Rating</th>\n",
       "    </tr>\n",
       "  </thead>\n",
       "  <tbody>\n",
       "    <tr>\n",
       "      <th>0</th>\n",
       "      <td>Australia</td>\n",
       "      <td>29</td>\n",
       "      <td>4,837</td>\n",
       "      <td>167</td>\n",
       "    </tr>\n",
       "  </tbody>\n",
       "</table>\n",
       "</div>"
      ],
      "text/plain": [
       "        Name Matches Points Rating\n",
       "0  Australia      29  4,837    167"
      ]
     },
     "execution_count": 230,
     "metadata": {},
     "output_type": "execute_result"
    }
   ],
   "source": [
    "one = pd.DataFrame({\n",
    "    'Name':a1,\n",
    "    'Matches':b1,\n",
    "    'Points':c1,\n",
    "    'Rating':d1\n",
    "})\n",
    "one"
   ]
  },
  {
   "cell_type": "code",
   "execution_count": 237,
   "id": "a2a36162",
   "metadata": {},
   "outputs": [],
   "source": [
    "match3 = pd.concat([table2,one])\n"
   ]
  },
  {
   "cell_type": "code",
   "execution_count": 247,
   "id": "871f0d64",
   "metadata": {},
   "outputs": [],
   "source": [
    "match3 = match3.reset_index()"
   ]
  },
  {
   "cell_type": "code",
   "execution_count": 249,
   "id": "0ac0c452",
   "metadata": {},
   "outputs": [],
   "source": [
    "match3 = match3.reindex([10,0,1,2,3,4,5,6,7,8,9])"
   ]
  },
  {
   "cell_type": "code",
   "execution_count": 251,
   "id": "a369dab4",
   "metadata": {},
   "outputs": [],
   "source": [
    "match3 = match3.reset_index()"
   ]
  },
  {
   "cell_type": "code",
   "execution_count": 253,
   "id": "03a52f58",
   "metadata": {},
   "outputs": [],
   "source": [
    "match3.drop(['level_0','index'],axis=1,inplace=True)"
   ]
  },
  {
   "cell_type": "code",
   "execution_count": 255,
   "id": "d9f72569",
   "metadata": {},
   "outputs": [],
   "source": [
    "match3.index = match3.index + 1"
   ]
  },
  {
   "cell_type": "code",
   "execution_count": 264,
   "id": "113da257",
   "metadata": {},
   "outputs": [],
   "source": [
    "match3.drop([match3.index[10]], inplace=True)"
   ]
  },
  {
   "cell_type": "code",
   "execution_count": 265,
   "id": "e5080ad3",
   "metadata": {},
   "outputs": [
    {
     "data": {
      "text/html": [
       "<div>\n",
       "<style scoped>\n",
       "    .dataframe tbody tr th:only-of-type {\n",
       "        vertical-align: middle;\n",
       "    }\n",
       "\n",
       "    .dataframe tbody tr th {\n",
       "        vertical-align: top;\n",
       "    }\n",
       "\n",
       "    .dataframe thead th {\n",
       "        text-align: right;\n",
       "    }\n",
       "</style>\n",
       "<table border=\"1\" class=\"dataframe\">\n",
       "  <thead>\n",
       "    <tr style=\"text-align: right;\">\n",
       "      <th></th>\n",
       "      <th>Name</th>\n",
       "      <th>Matches</th>\n",
       "      <th>Points</th>\n",
       "      <th>Rating</th>\n",
       "    </tr>\n",
       "  </thead>\n",
       "  <tbody>\n",
       "    <tr>\n",
       "      <th>1</th>\n",
       "      <td>Australia</td>\n",
       "      <td>29</td>\n",
       "      <td>4,837</td>\n",
       "      <td>167</td>\n",
       "    </tr>\n",
       "    <tr>\n",
       "      <th>2</th>\n",
       "      <td>South Africa</td>\n",
       "      <td>32</td>\n",
       "      <td>3,949</td>\n",
       "      <td>123</td>\n",
       "    </tr>\n",
       "    <tr>\n",
       "      <th>3</th>\n",
       "      <td>England</td>\n",
       "      <td>30</td>\n",
       "      <td>3,531</td>\n",
       "      <td>118</td>\n",
       "    </tr>\n",
       "    <tr>\n",
       "      <th>4</th>\n",
       "      <td>India</td>\n",
       "      <td>29</td>\n",
       "      <td>2,889</td>\n",
       "      <td>100</td>\n",
       "    </tr>\n",
       "    <tr>\n",
       "      <th>5</th>\n",
       "      <td>New Zealand</td>\n",
       "      <td>31</td>\n",
       "      <td>3,019</td>\n",
       "      <td>97</td>\n",
       "    </tr>\n",
       "    <tr>\n",
       "      <th>6</th>\n",
       "      <td>West Indies</td>\n",
       "      <td>30</td>\n",
       "      <td>2,768</td>\n",
       "      <td>92</td>\n",
       "    </tr>\n",
       "    <tr>\n",
       "      <th>7</th>\n",
       "      <td>Bangladesh</td>\n",
       "      <td>12</td>\n",
       "      <td>930</td>\n",
       "      <td>78</td>\n",
       "    </tr>\n",
       "    <tr>\n",
       "      <th>8</th>\n",
       "      <td>Pakistan</td>\n",
       "      <td>30</td>\n",
       "      <td>1,962</td>\n",
       "      <td>65</td>\n",
       "    </tr>\n",
       "    <tr>\n",
       "      <th>9</th>\n",
       "      <td>Sri Lanka</td>\n",
       "      <td>8</td>\n",
       "      <td>384</td>\n",
       "      <td>48</td>\n",
       "    </tr>\n",
       "    <tr>\n",
       "      <th>10</th>\n",
       "      <td>Ireland</td>\n",
       "      <td>8</td>\n",
       "      <td>351</td>\n",
       "      <td>44</td>\n",
       "    </tr>\n",
       "  </tbody>\n",
       "</table>\n",
       "</div>"
      ],
      "text/plain": [
       "            Name Matches Points Rating\n",
       "1      Australia      29  4,837    167\n",
       "2   South Africa      32  3,949    123\n",
       "3        England      30  3,531    118\n",
       "4          India      29  2,889    100\n",
       "5    New Zealand      31  3,019     97\n",
       "6    West Indies      30  2,768     92\n",
       "7     Bangladesh      12    930     78\n",
       "8       Pakistan      30  1,962     65\n",
       "9      Sri Lanka       8    384     48\n",
       "10       Ireland       8    351     44"
      ]
     },
     "execution_count": 265,
     "metadata": {},
     "output_type": "execute_result"
    }
   ],
   "source": [
    "match3"
   ]
  },
  {
   "cell_type": "markdown",
   "id": "e3b59b2e",
   "metadata": {},
   "source": [
    "# Top 10 Women’s ODI Batting"
   ]
  },
  {
   "cell_type": "code",
   "execution_count": 266,
   "id": "53f192be",
   "metadata": {},
   "outputs": [],
   "source": [
    "page9 = requests.get('https://www.icc-cricket.com/rankings/womens/player-rankings/odi/batting')\n",
    "soup9 = BeautifulSoup(page9.content)"
   ]
  },
  {
   "cell_type": "code",
   "execution_count": 274,
   "id": "9550669e",
   "metadata": {},
   "outputs": [],
   "source": [
    "X = []\n",
    "\n",
    "for i in soup9.find_all('span', class_='table-body__logo-text'):\n",
    "    X.append(i.text)\n",
    "\n",
    "Z = []\n",
    "\n",
    "for i in soup9.find_all('td', class_='table-body__cell rating'):\n",
    "    Z.append(i.text)\n",
    "\n",
    "P = []\n",
    "\n",
    "for i in soup9.find_all('td', class_='table-body__cell rankings-table__name name'):\n",
    "    P.append(i.text)"
   ]
  },
  {
   "cell_type": "code",
   "execution_count": 276,
   "id": "33d1d450",
   "metadata": {},
   "outputs": [],
   "source": [
    "table3 = pd.DataFrame({\n",
    "    'Name':P,\n",
    "    'Team':X,\n",
    "    'Rating':Z\n",
    "})"
   ]
  },
  {
   "cell_type": "code",
   "execution_count": 278,
   "id": "0bb4a300",
   "metadata": {},
   "outputs": [],
   "source": [
    "table3[['test','Names','test']]=table3['Name'].str.split('\\n',expand=True)"
   ]
  },
  {
   "cell_type": "code",
   "execution_count": 280,
   "id": "99c3bd51",
   "metadata": {},
   "outputs": [],
   "source": [
    "table3.drop(['Name','test'],axis=1,inplace=True)"
   ]
  },
  {
   "cell_type": "code",
   "execution_count": null,
   "id": "e9bbf84f",
   "metadata": {},
   "outputs": [],
   "source": [
    "table3 = table3[['Names','Team','Rating']]\n",
    "table3"
   ]
  },
  {
   "cell_type": "code",
   "execution_count": 283,
   "id": "d3d9cc1f",
   "metadata": {},
   "outputs": [],
   "source": [
    "a = soup9.find('div', class_='rankings-block__banner--name-large')\n",
    "a1 = a.text\n",
    "b = soup9.find('div', class_='rankings-block__banner--nationality')\n",
    "b1= b.text.split()\n",
    "c = soup9.find('div', class_='rankings-block__banner--rating')\n",
    "c1 = c.text\n"
   ]
  },
  {
   "cell_type": "code",
   "execution_count": 287,
   "id": "480e1996",
   "metadata": {},
   "outputs": [],
   "source": [
    "T = pd.DataFrame({\n",
    "    'Names':a1,\n",
    "    'Team':b1,\n",
    "    'Rating':c1\n",
    "})"
   ]
  },
  {
   "cell_type": "code",
   "execution_count": 288,
   "id": "66b94e77",
   "metadata": {},
   "outputs": [
    {
     "data": {
      "text/html": [
       "<div>\n",
       "<style scoped>\n",
       "    .dataframe tbody tr th:only-of-type {\n",
       "        vertical-align: middle;\n",
       "    }\n",
       "\n",
       "    .dataframe tbody tr th {\n",
       "        vertical-align: top;\n",
       "    }\n",
       "\n",
       "    .dataframe thead th {\n",
       "        text-align: right;\n",
       "    }\n",
       "</style>\n",
       "<table border=\"1\" class=\"dataframe\">\n",
       "  <thead>\n",
       "    <tr style=\"text-align: right;\">\n",
       "      <th></th>\n",
       "      <th>Names</th>\n",
       "      <th>Team</th>\n",
       "      <th>Rating</th>\n",
       "    </tr>\n",
       "  </thead>\n",
       "  <tbody>\n",
       "    <tr>\n",
       "      <th>0</th>\n",
       "      <td>Alyssa Healy</td>\n",
       "      <td>AUS</td>\n",
       "      <td>785</td>\n",
       "    </tr>\n",
       "  </tbody>\n",
       "</table>\n",
       "</div>"
      ],
      "text/plain": [
       "          Names Team Rating\n",
       "0  Alyssa Healy  AUS    785"
      ]
     },
     "execution_count": 288,
     "metadata": {},
     "output_type": "execute_result"
    }
   ],
   "source": [
    "T"
   ]
  },
  {
   "cell_type": "code",
   "execution_count": 301,
   "id": "02c8bd26",
   "metadata": {},
   "outputs": [],
   "source": [
    "match7 = pd.concat([T,table3])"
   ]
  },
  {
   "cell_type": "code",
   "execution_count": 303,
   "id": "c701a20e",
   "metadata": {},
   "outputs": [],
   "source": [
    "match7 = match7.reset_index()\n",
    "\n",
    "match7.index = match7.index +1"
   ]
  },
  {
   "cell_type": "code",
   "execution_count": 305,
   "id": "6b422540",
   "metadata": {},
   "outputs": [],
   "source": [
    "match7.drop('index', axis=1, inplace=True)"
   ]
  },
  {
   "cell_type": "code",
   "execution_count": 308,
   "id": "d9369c4c",
   "metadata": {},
   "outputs": [],
   "source": [
    "match7.drop(match7.index[10:], inplace=True)"
   ]
  },
  {
   "cell_type": "markdown",
   "id": "b5fae82b",
   "metadata": {},
   "source": [
    "Top 10 Women’s ODI Batting"
   ]
  },
  {
   "cell_type": "code",
   "execution_count": 309,
   "id": "18bbd75c",
   "metadata": {},
   "outputs": [
    {
     "data": {
      "text/html": [
       "<div>\n",
       "<style scoped>\n",
       "    .dataframe tbody tr th:only-of-type {\n",
       "        vertical-align: middle;\n",
       "    }\n",
       "\n",
       "    .dataframe tbody tr th {\n",
       "        vertical-align: top;\n",
       "    }\n",
       "\n",
       "    .dataframe thead th {\n",
       "        text-align: right;\n",
       "    }\n",
       "</style>\n",
       "<table border=\"1\" class=\"dataframe\">\n",
       "  <thead>\n",
       "    <tr style=\"text-align: right;\">\n",
       "      <th></th>\n",
       "      <th>Names</th>\n",
       "      <th>Team</th>\n",
       "      <th>Rating</th>\n",
       "    </tr>\n",
       "  </thead>\n",
       "  <tbody>\n",
       "    <tr>\n",
       "      <th>1</th>\n",
       "      <td>Alyssa Healy</td>\n",
       "      <td>AUS</td>\n",
       "      <td>785</td>\n",
       "    </tr>\n",
       "    <tr>\n",
       "      <th>2</th>\n",
       "      <td>Natalie Sciver</td>\n",
       "      <td>ENG</td>\n",
       "      <td>750</td>\n",
       "    </tr>\n",
       "    <tr>\n",
       "      <th>3</th>\n",
       "      <td>Beth Mooney</td>\n",
       "      <td>AUS</td>\n",
       "      <td>748</td>\n",
       "    </tr>\n",
       "    <tr>\n",
       "      <th>4</th>\n",
       "      <td>Laura Wolvaardt</td>\n",
       "      <td>SA</td>\n",
       "      <td>713</td>\n",
       "    </tr>\n",
       "    <tr>\n",
       "      <th>5</th>\n",
       "      <td>Meg Lanning</td>\n",
       "      <td>AUS</td>\n",
       "      <td>710</td>\n",
       "    </tr>\n",
       "    <tr>\n",
       "      <th>6</th>\n",
       "      <td>Rachael Haynes</td>\n",
       "      <td>AUS</td>\n",
       "      <td>701</td>\n",
       "    </tr>\n",
       "    <tr>\n",
       "      <th>7</th>\n",
       "      <td>Amy Satterthwaite</td>\n",
       "      <td>NZ</td>\n",
       "      <td>681</td>\n",
       "    </tr>\n",
       "    <tr>\n",
       "      <th>8</th>\n",
       "      <td>Smriti Mandhana</td>\n",
       "      <td>IND</td>\n",
       "      <td>669</td>\n",
       "    </tr>\n",
       "    <tr>\n",
       "      <th>9</th>\n",
       "      <td>Tammy Beaumont</td>\n",
       "      <td>ENG</td>\n",
       "      <td>659</td>\n",
       "    </tr>\n",
       "    <tr>\n",
       "      <th>10</th>\n",
       "      <td>Ellyse Perry</td>\n",
       "      <td>AUS</td>\n",
       "      <td>642</td>\n",
       "    </tr>\n",
       "  </tbody>\n",
       "</table>\n",
       "</div>"
      ],
      "text/plain": [
       "                Names Team Rating\n",
       "1        Alyssa Healy  AUS    785\n",
       "2      Natalie Sciver  ENG    750\n",
       "3         Beth Mooney  AUS    748\n",
       "4     Laura Wolvaardt   SA    713\n",
       "5         Meg Lanning  AUS    710\n",
       "6      Rachael Haynes  AUS    701\n",
       "7   Amy Satterthwaite   NZ    681\n",
       "8     Smriti Mandhana  IND    669\n",
       "9      Tammy Beaumont  ENG    659\n",
       "10       Ellyse Perry  AUS    642"
      ]
     },
     "execution_count": 309,
     "metadata": {},
     "output_type": "execute_result"
    }
   ],
   "source": [
    "match7"
   ]
  },
  {
   "cell_type": "markdown",
   "id": "d96c97c8",
   "metadata": {},
   "source": [
    "# Top 10 Women’s ODI All-Rounder"
   ]
  },
  {
   "cell_type": "code",
   "execution_count": 313,
   "id": "9df96899",
   "metadata": {},
   "outputs": [],
   "source": [
    "page01 = requests.get('https://www.icc-cricket.com/rankings/womens/player-rankings/odi/all-rounder')\n",
    "soup01 = BeautifulSoup(page01.content)"
   ]
  },
  {
   "cell_type": "code",
   "execution_count": 314,
   "id": "040d856b",
   "metadata": {},
   "outputs": [],
   "source": [
    "X = []\n",
    "\n",
    "for i in soup01.find_all('td', class_='table-body__cell rankings-table__name name'):\n",
    "    X.append(i.text)\n",
    "\n",
    "Z = []\n",
    "\n",
    "for i in soup01.find_all('span', class_='table-body__logo-text'):\n",
    "    Z.append(i.text)\n",
    "\n",
    "P = []\n",
    "\n",
    "for i in soup01.find_all('td', class_='table-body__cell rating'):\n",
    "    P.append(i.text)"
   ]
  },
  {
   "cell_type": "code",
   "execution_count": 327,
   "id": "6185d286",
   "metadata": {},
   "outputs": [],
   "source": [
    "Y = pd.DataFrame({\n",
    "    'Name':X,\n",
    "    'Team':Z,\n",
    "    'Rating':P\n",
    "})"
   ]
  },
  {
   "cell_type": "code",
   "execution_count": 328,
   "id": "b04d48e1",
   "metadata": {},
   "outputs": [],
   "source": [
    "Y.drop(Y.index[9:],inplace=True)"
   ]
  },
  {
   "cell_type": "code",
   "execution_count": 331,
   "id": "12e13a06",
   "metadata": {},
   "outputs": [],
   "source": [
    "Y[['test','Name','test']]=Y['Name'].str.split('\\n',expand= True)"
   ]
  },
  {
   "cell_type": "code",
   "execution_count": 333,
   "id": "8c47d6d7",
   "metadata": {},
   "outputs": [],
   "source": [
    "Y.drop('test',axis=1, inplace=True)"
   ]
  },
  {
   "cell_type": "code",
   "execution_count": null,
   "id": "bb156878",
   "metadata": {},
   "outputs": [],
   "source": [
    "Y"
   ]
  },
  {
   "cell_type": "code",
   "execution_count": 336,
   "id": "339fc255",
   "metadata": {},
   "outputs": [],
   "source": [
    "a1 = soup01.find('div', class_='rankings-block__banner--name-large')\n",
    "a = a.text\n",
    "b1 = soup01.find('div', class_='rankings-block__banner--nationality')\n",
    "b= b.text.split()\n",
    "c1 = soup01.find('div', class_='rankings-block__banner--rating')\n",
    "c = c.text"
   ]
  },
  {
   "cell_type": "code",
   "execution_count": 340,
   "id": "661a69e1",
   "metadata": {},
   "outputs": [],
   "source": [
    "d = pd.DataFrame({\n",
    "    'Name':a,\n",
    "    'Team':b,\n",
    "    'Rating':c\n",
    "})"
   ]
  },
  {
   "cell_type": "code",
   "execution_count": 341,
   "id": "a836b4ee",
   "metadata": {},
   "outputs": [
    {
     "data": {
      "text/html": [
       "<div>\n",
       "<style scoped>\n",
       "    .dataframe tbody tr th:only-of-type {\n",
       "        vertical-align: middle;\n",
       "    }\n",
       "\n",
       "    .dataframe tbody tr th {\n",
       "        vertical-align: top;\n",
       "    }\n",
       "\n",
       "    .dataframe thead th {\n",
       "        text-align: right;\n",
       "    }\n",
       "</style>\n",
       "<table border=\"1\" class=\"dataframe\">\n",
       "  <thead>\n",
       "    <tr style=\"text-align: right;\">\n",
       "      <th></th>\n",
       "      <th>Name</th>\n",
       "      <th>Team</th>\n",
       "      <th>Rating</th>\n",
       "    </tr>\n",
       "  </thead>\n",
       "  <tbody>\n",
       "    <tr>\n",
       "      <th>0</th>\n",
       "      <td>Natalie Sciver</td>\n",
       "      <td>ENG</td>\n",
       "      <td>393</td>\n",
       "    </tr>\n",
       "  </tbody>\n",
       "</table>\n",
       "</div>"
      ],
      "text/plain": [
       "             Name Team Rating\n",
       "0  Natalie Sciver  ENG    393"
      ]
     },
     "execution_count": 341,
     "metadata": {},
     "output_type": "execute_result"
    }
   ],
   "source": [
    "d"
   ]
  },
  {
   "cell_type": "code",
   "execution_count": 342,
   "id": "7a85e865",
   "metadata": {},
   "outputs": [],
   "source": [
    "match7 = pd.concat([d,Y])"
   ]
  },
  {
   "cell_type": "code",
   "execution_count": 344,
   "id": "c8cbdb85",
   "metadata": {},
   "outputs": [],
   "source": [
    "match7 = match7.reset_index()\n",
    "match7.index = match7.index + 1"
   ]
  },
  {
   "cell_type": "code",
   "execution_count": 346,
   "id": "e45c4b7d",
   "metadata": {},
   "outputs": [],
   "source": [
    "match7.drop('index',axis=1, inplace=True)"
   ]
  },
  {
   "cell_type": "markdown",
   "id": "8fb5174c",
   "metadata": {},
   "source": [
    "Top 10 Women’s ODI All-Rounder"
   ]
  },
  {
   "cell_type": "code",
   "execution_count": 347,
   "id": "30f74f98",
   "metadata": {},
   "outputs": [
    {
     "data": {
      "text/html": [
       "<div>\n",
       "<style scoped>\n",
       "    .dataframe tbody tr th:only-of-type {\n",
       "        vertical-align: middle;\n",
       "    }\n",
       "\n",
       "    .dataframe tbody tr th {\n",
       "        vertical-align: top;\n",
       "    }\n",
       "\n",
       "    .dataframe thead th {\n",
       "        text-align: right;\n",
       "    }\n",
       "</style>\n",
       "<table border=\"1\" class=\"dataframe\">\n",
       "  <thead>\n",
       "    <tr style=\"text-align: right;\">\n",
       "      <th></th>\n",
       "      <th>Name</th>\n",
       "      <th>Team</th>\n",
       "      <th>Rating</th>\n",
       "    </tr>\n",
       "  </thead>\n",
       "  <tbody>\n",
       "    <tr>\n",
       "      <th>1</th>\n",
       "      <td>Natalie Sciver</td>\n",
       "      <td>ENG</td>\n",
       "      <td>393</td>\n",
       "    </tr>\n",
       "    <tr>\n",
       "      <th>2</th>\n",
       "      <td>Ellyse Perry</td>\n",
       "      <td>AUS</td>\n",
       "      <td>374</td>\n",
       "    </tr>\n",
       "    <tr>\n",
       "      <th>3</th>\n",
       "      <td>Hayley Matthews</td>\n",
       "      <td>WI</td>\n",
       "      <td>338</td>\n",
       "    </tr>\n",
       "    <tr>\n",
       "      <th>4</th>\n",
       "      <td>Marizanne Kapp</td>\n",
       "      <td>SA</td>\n",
       "      <td>338</td>\n",
       "    </tr>\n",
       "    <tr>\n",
       "      <th>5</th>\n",
       "      <td>Amelia Kerr</td>\n",
       "      <td>NZ</td>\n",
       "      <td>335</td>\n",
       "    </tr>\n",
       "    <tr>\n",
       "      <th>6</th>\n",
       "      <td>Ashleigh Gardner</td>\n",
       "      <td>AUS</td>\n",
       "      <td>269</td>\n",
       "    </tr>\n",
       "    <tr>\n",
       "      <th>7</th>\n",
       "      <td>Deepti Sharma</td>\n",
       "      <td>IND</td>\n",
       "      <td>249</td>\n",
       "    </tr>\n",
       "    <tr>\n",
       "      <th>8</th>\n",
       "      <td>Jess Jonassen</td>\n",
       "      <td>AUS</td>\n",
       "      <td>245</td>\n",
       "    </tr>\n",
       "    <tr>\n",
       "      <th>9</th>\n",
       "      <td>Sune Luus</td>\n",
       "      <td>SA</td>\n",
       "      <td>223</td>\n",
       "    </tr>\n",
       "    <tr>\n",
       "      <th>10</th>\n",
       "      <td>Katherine Brunt</td>\n",
       "      <td>ENG</td>\n",
       "      <td>221</td>\n",
       "    </tr>\n",
       "  </tbody>\n",
       "</table>\n",
       "</div>"
      ],
      "text/plain": [
       "                Name Team Rating\n",
       "1     Natalie Sciver  ENG    393\n",
       "2       Ellyse Perry  AUS    374\n",
       "3    Hayley Matthews   WI    338\n",
       "4     Marizanne Kapp   SA    338\n",
       "5        Amelia Kerr   NZ    335\n",
       "6   Ashleigh Gardner  AUS    269\n",
       "7      Deepti Sharma  IND    249\n",
       "8      Jess Jonassen  AUS    245\n",
       "9          Sune Luus   SA    223\n",
       "10   Katherine Brunt  ENG    221"
      ]
     },
     "execution_count": 347,
     "metadata": {},
     "output_type": "execute_result"
    }
   ],
   "source": [
    "match7"
   ]
  },
  {
   "cell_type": "markdown",
   "id": "c4300d66",
   "metadata": {},
   "source": [
    "# NEWS Headings"
   ]
  },
  {
   "cell_type": "code",
   "execution_count": 348,
   "id": "eda0454e",
   "metadata": {},
   "outputs": [],
   "source": [
    "page02 = requests.get('https://www.cnbc.com/world/?region=world')\n",
    "soup02 = BeautifulSoup(page02.content)"
   ]
  },
  {
   "cell_type": "code",
   "execution_count": 350,
   "id": "793fe9ea",
   "metadata": {},
   "outputs": [],
   "source": [
    "P = []\n",
    "\n",
    "for i in soup02.find_all('a', class_='LatestNews-headline'):\n",
    "    P.append(i.text)\n",
    "    \n"
   ]
  },
  {
   "cell_type": "code",
   "execution_count": 351,
   "id": "16fe594b",
   "metadata": {},
   "outputs": [],
   "source": [
    "N = pd.DataFrame({'Heading':P})"
   ]
  },
  {
   "cell_type": "code",
   "execution_count": 357,
   "id": "534f5630",
   "metadata": {},
   "outputs": [],
   "source": [
    "L = []\n",
    "\n",
    "for i in soup02.find_all('a', class_='LatestNews-headline'):\n",
    "    L.append(i['href'])\n"
   ]
  },
  {
   "cell_type": "code",
   "execution_count": 358,
   "id": "6b3f2143",
   "metadata": {},
   "outputs": [],
   "source": [
    "Link = pd.DataFrame({'Link':L})\n"
   ]
  },
  {
   "cell_type": "code",
   "execution_count": 360,
   "id": "d6558e6f",
   "metadata": {},
   "outputs": [],
   "source": [
    "\n",
    "T = []\n",
    "\n",
    "for i in soup02.find_all('time', class_='LatestNews-timestamp'):\n",
    "    T.append(i.text)\n"
   ]
  },
  {
   "cell_type": "code",
   "execution_count": 361,
   "id": "a091c14a",
   "metadata": {},
   "outputs": [],
   "source": [
    "Time = pd.DataFrame({'Time':T})\n"
   ]
  },
  {
   "cell_type": "code",
   "execution_count": 362,
   "id": "3297842e",
   "metadata": {},
   "outputs": [
    {
     "data": {
      "text/html": [
       "<div>\n",
       "<style scoped>\n",
       "    .dataframe tbody tr th:only-of-type {\n",
       "        vertical-align: middle;\n",
       "    }\n",
       "\n",
       "    .dataframe tbody tr th {\n",
       "        vertical-align: top;\n",
       "    }\n",
       "\n",
       "    .dataframe thead th {\n",
       "        text-align: right;\n",
       "    }\n",
       "</style>\n",
       "<table border=\"1\" class=\"dataframe\">\n",
       "  <thead>\n",
       "    <tr style=\"text-align: right;\">\n",
       "      <th></th>\n",
       "      <th>Heading</th>\n",
       "      <th>Link</th>\n",
       "      <th>Time</th>\n",
       "    </tr>\n",
       "  </thead>\n",
       "  <tbody>\n",
       "    <tr>\n",
       "      <th>0</th>\n",
       "      <td>Goldman Sachs names several top stocks to weat...</td>\n",
       "      <td>https://www.cnbc.com/2022/06/25/buy-stocks-lik...</td>\n",
       "      <td>2 Min Ago</td>\n",
       "    </tr>\n",
       "    <tr>\n",
       "      <th>1</th>\n",
       "      <td>Every new car sold in the world will be electr...</td>\n",
       "      <td>https://www.cnbc.com/2022/06/25/exxon-mobil-ce...</td>\n",
       "      <td>13 Min Ago</td>\n",
       "    </tr>\n",
       "    <tr>\n",
       "      <th>2</th>\n",
       "      <td>Stay away from this company poised to go publi...</td>\n",
       "      <td>https://www.cnbc.com/2022/06/24/stay-away-from...</td>\n",
       "      <td>12 Hours Ago</td>\n",
       "    </tr>\n",
       "    <tr>\n",
       "      <th>3</th>\n",
       "      <td>Cramer's lightning round: Move on from Digital...</td>\n",
       "      <td>https://www.cnbc.com/2022/06/24/cramers-lightn...</td>\n",
       "      <td>12 Hours Ago</td>\n",
       "    </tr>\n",
       "    <tr>\n",
       "      <th>4</th>\n",
       "      <td>Google memo on end of Roe v. Wade says employe...</td>\n",
       "      <td>https://www.cnbc.com/2022/06/24/google-memo-to...</td>\n",
       "      <td>12 Hours Ago</td>\n",
       "    </tr>\n",
       "    <tr>\n",
       "      <th>5</th>\n",
       "      <td>Tech leaders react to Roe v. Wade reversal</td>\n",
       "      <td>https://www.cnbc.com/2022/06/24/tech-execs-rea...</td>\n",
       "      <td>12 Hours Ago</td>\n",
       "    </tr>\n",
       "    <tr>\n",
       "      <th>6</th>\n",
       "      <td>'I'm outraged:' Women react to Roe v. Wade rul...</td>\n",
       "      <td>https://www.cnbc.com/2022/06/24/im-outraged-wo...</td>\n",
       "      <td>13 Hours Ago</td>\n",
       "    </tr>\n",
       "    <tr>\n",
       "      <th>7</th>\n",
       "      <td>Cramer’s week ahead: Next week will be a bellw...</td>\n",
       "      <td>https://www.cnbc.com/2022/06/24/cramers-week-a...</td>\n",
       "      <td>13 Hours Ago</td>\n",
       "    </tr>\n",
       "    <tr>\n",
       "      <th>8</th>\n",
       "      <td>Frontier Airlines sweetens offer for Spirit me...</td>\n",
       "      <td>https://www.cnbc.com/2022/06/24/frontier-sweet...</td>\n",
       "      <td>14 Hours Ago</td>\n",
       "    </tr>\n",
       "    <tr>\n",
       "      <th>9</th>\n",
       "      <td>Best trades on CNBC Friday: Pros put money in ...</td>\n",
       "      <td>https://www.cnbc.com/2022/06/24/best-trades-on...</td>\n",
       "      <td>14 Hours Ago</td>\n",
       "    </tr>\n",
       "    <tr>\n",
       "      <th>10</th>\n",
       "      <td>Roe v. Wade's demise forces companies to grapp...</td>\n",
       "      <td>https://www.cnbc.com/2022/06/24/roe-v-wade-abo...</td>\n",
       "      <td>14 Hours Ago</td>\n",
       "    </tr>\n",
       "    <tr>\n",
       "      <th>11</th>\n",
       "      <td>Airlines, FAA spar over flight delays ahead of...</td>\n",
       "      <td>https://www.cnbc.com/2022/06/24/airlines-faa-s...</td>\n",
       "      <td>15 Hours Ago</td>\n",
       "    </tr>\n",
       "    <tr>\n",
       "      <th>12</th>\n",
       "      <td>Investing Club: The week in review, the week a...</td>\n",
       "      <td>https://www.cnbc.com/2022/06/24/investing-club...</td>\n",
       "      <td>15 Hours Ago</td>\n",
       "    </tr>\n",
       "    <tr>\n",
       "      <th>13</th>\n",
       "      <td>Disney, Apple and Amazon keep waiting as NFL c...</td>\n",
       "      <td>https://www.cnbc.com/2022/06/24/disney-apple-a...</td>\n",
       "      <td>15 Hours Ago</td>\n",
       "    </tr>\n",
       "    <tr>\n",
       "      <th>14</th>\n",
       "      <td>Apple responds to Roe v. Wade rollback, covers...</td>\n",
       "      <td>https://www.cnbc.com/2022/06/24/apple-responds...</td>\n",
       "      <td>15 Hours Ago</td>\n",
       "    </tr>\n",
       "    <tr>\n",
       "      <th>15</th>\n",
       "      <td>Planned Parenthood CEO on abortion ruling: 'Al...</td>\n",
       "      <td>https://www.cnbc.com/2022/06/24/planned-parent...</td>\n",
       "      <td>17 Hours Ago</td>\n",
       "    </tr>\n",
       "    <tr>\n",
       "      <th>16</th>\n",
       "      <td>Supreme Court abortion ruling on Roe is 'catas...</td>\n",
       "      <td>https://www.cnbc.com/2022/06/24/roe-v-wade-rul...</td>\n",
       "      <td>17 Hours Ago</td>\n",
       "    </tr>\n",
       "    <tr>\n",
       "      <th>17</th>\n",
       "      <td>Decision overturning Roe v. Wade will hurt the...</td>\n",
       "      <td>https://www.cnbc.com/2022/06/24/roe-v-wade-dec...</td>\n",
       "      <td>17 Hours Ago</td>\n",
       "    </tr>\n",
       "    <tr>\n",
       "      <th>18</th>\n",
       "      <td>What to watch in the markets in the week ahead</td>\n",
       "      <td>https://www.cnbc.com/2022/06/24/quarter-end-bu...</td>\n",
       "      <td>17 Hours Ago</td>\n",
       "    </tr>\n",
       "    <tr>\n",
       "      <th>19</th>\n",
       "      <td>Trump takes credit for end of Roe after court ...</td>\n",
       "      <td>https://www.cnbc.com/2022/06/24/roe-v-wade-dec...</td>\n",
       "      <td>17 Hours Ago</td>\n",
       "    </tr>\n",
       "    <tr>\n",
       "      <th>20</th>\n",
       "      <td>Several states immediately ban abortion after ...</td>\n",
       "      <td>https://www.cnbc.com/2022/06/24/us-states-imme...</td>\n",
       "      <td>17 Hours Ago</td>\n",
       "    </tr>\n",
       "    <tr>\n",
       "      <th>21</th>\n",
       "      <td>Two billionaire investors take aim at struggli...</td>\n",
       "      <td>https://www.cnbc.com/2022/06/24/investing-club...</td>\n",
       "      <td>17 Hours Ago</td>\n",
       "    </tr>\n",
       "    <tr>\n",
       "      <th>22</th>\n",
       "      <td>How much money gas tax holidays save drivers: ...</td>\n",
       "      <td>https://www.cnbc.com/2022/06/24/gas-tax-holida...</td>\n",
       "      <td>17 Hours Ago</td>\n",
       "    </tr>\n",
       "    <tr>\n",
       "      <th>23</th>\n",
       "      <td>Goldman recommends stable and consistent stock...</td>\n",
       "      <td>https://www.cnbc.com/2022/06/24/goldman-advise...</td>\n",
       "      <td>18 Hours Ago</td>\n",
       "    </tr>\n",
       "    <tr>\n",
       "      <th>24</th>\n",
       "      <td>Supreme Court's Thomas: Gay rights, contracept...</td>\n",
       "      <td>https://www.cnbc.com/2022/06/24/roe-v-wade-sup...</td>\n",
       "      <td>18 Hours Ago</td>\n",
       "    </tr>\n",
       "    <tr>\n",
       "      <th>25</th>\n",
       "      <td>Congress passes most significant gun reform bi...</td>\n",
       "      <td>https://www.cnbc.com/2022/06/24/congress-passe...</td>\n",
       "      <td>18 Hours Ago</td>\n",
       "    </tr>\n",
       "    <tr>\n",
       "      <th>26</th>\n",
       "      <td>Disney tells employees it will provide ‘compre...</td>\n",
       "      <td>https://www.cnbc.com/2022/06/24/roe-v-wade-dec...</td>\n",
       "      <td>18 Hours Ago</td>\n",
       "    </tr>\n",
       "    <tr>\n",
       "      <th>27</th>\n",
       "      <td>Stocks making the biggest moves midday: Carniv...</td>\n",
       "      <td>https://www.cnbc.com/2022/06/24/stocks-making-...</td>\n",
       "      <td>18 Hours Ago</td>\n",
       "    </tr>\n",
       "    <tr>\n",
       "      <th>28</th>\n",
       "      <td>U.S. Attorney General Garland says DOJ 'strong...</td>\n",
       "      <td>https://www.cnbc.com/2022/06/24/roe-v-wade-us-...</td>\n",
       "      <td>19 Hours Ago</td>\n",
       "    </tr>\n",
       "    <tr>\n",
       "      <th>29</th>\n",
       "      <td>Tech the new value stocks? Here are the 10 che...</td>\n",
       "      <td>https://www.cnbc.com/2022/06/24/tech-the-new-v...</td>\n",
       "      <td>19 Hours Ago</td>\n",
       "    </tr>\n",
       "  </tbody>\n",
       "</table>\n",
       "</div>"
      ],
      "text/plain": [
       "                                              Heading  \\\n",
       "0   Goldman Sachs names several top stocks to weat...   \n",
       "1   Every new car sold in the world will be electr...   \n",
       "2   Stay away from this company poised to go publi...   \n",
       "3   Cramer's lightning round: Move on from Digital...   \n",
       "4   Google memo on end of Roe v. Wade says employe...   \n",
       "5          Tech leaders react to Roe v. Wade reversal   \n",
       "6   'I'm outraged:' Women react to Roe v. Wade rul...   \n",
       "7   Cramer’s week ahead: Next week will be a bellw...   \n",
       "8   Frontier Airlines sweetens offer for Spirit me...   \n",
       "9   Best trades on CNBC Friday: Pros put money in ...   \n",
       "10  Roe v. Wade's demise forces companies to grapp...   \n",
       "11  Airlines, FAA spar over flight delays ahead of...   \n",
       "12  Investing Club: The week in review, the week a...   \n",
       "13  Disney, Apple and Amazon keep waiting as NFL c...   \n",
       "14  Apple responds to Roe v. Wade rollback, covers...   \n",
       "15  Planned Parenthood CEO on abortion ruling: 'Al...   \n",
       "16  Supreme Court abortion ruling on Roe is 'catas...   \n",
       "17  Decision overturning Roe v. Wade will hurt the...   \n",
       "18     What to watch in the markets in the week ahead   \n",
       "19  Trump takes credit for end of Roe after court ...   \n",
       "20  Several states immediately ban abortion after ...   \n",
       "21  Two billionaire investors take aim at struggli...   \n",
       "22  How much money gas tax holidays save drivers: ...   \n",
       "23  Goldman recommends stable and consistent stock...   \n",
       "24  Supreme Court's Thomas: Gay rights, contracept...   \n",
       "25  Congress passes most significant gun reform bi...   \n",
       "26  Disney tells employees it will provide ‘compre...   \n",
       "27  Stocks making the biggest moves midday: Carniv...   \n",
       "28  U.S. Attorney General Garland says DOJ 'strong...   \n",
       "29  Tech the new value stocks? Here are the 10 che...   \n",
       "\n",
       "                                                 Link          Time  \n",
       "0   https://www.cnbc.com/2022/06/25/buy-stocks-lik...     2 Min Ago  \n",
       "1   https://www.cnbc.com/2022/06/25/exxon-mobil-ce...    13 Min Ago  \n",
       "2   https://www.cnbc.com/2022/06/24/stay-away-from...  12 Hours Ago  \n",
       "3   https://www.cnbc.com/2022/06/24/cramers-lightn...  12 Hours Ago  \n",
       "4   https://www.cnbc.com/2022/06/24/google-memo-to...  12 Hours Ago  \n",
       "5   https://www.cnbc.com/2022/06/24/tech-execs-rea...  12 Hours Ago  \n",
       "6   https://www.cnbc.com/2022/06/24/im-outraged-wo...  13 Hours Ago  \n",
       "7   https://www.cnbc.com/2022/06/24/cramers-week-a...  13 Hours Ago  \n",
       "8   https://www.cnbc.com/2022/06/24/frontier-sweet...  14 Hours Ago  \n",
       "9   https://www.cnbc.com/2022/06/24/best-trades-on...  14 Hours Ago  \n",
       "10  https://www.cnbc.com/2022/06/24/roe-v-wade-abo...  14 Hours Ago  \n",
       "11  https://www.cnbc.com/2022/06/24/airlines-faa-s...  15 Hours Ago  \n",
       "12  https://www.cnbc.com/2022/06/24/investing-club...  15 Hours Ago  \n",
       "13  https://www.cnbc.com/2022/06/24/disney-apple-a...  15 Hours Ago  \n",
       "14  https://www.cnbc.com/2022/06/24/apple-responds...  15 Hours Ago  \n",
       "15  https://www.cnbc.com/2022/06/24/planned-parent...  17 Hours Ago  \n",
       "16  https://www.cnbc.com/2022/06/24/roe-v-wade-rul...  17 Hours Ago  \n",
       "17  https://www.cnbc.com/2022/06/24/roe-v-wade-dec...  17 Hours Ago  \n",
       "18  https://www.cnbc.com/2022/06/24/quarter-end-bu...  17 Hours Ago  \n",
       "19  https://www.cnbc.com/2022/06/24/roe-v-wade-dec...  17 Hours Ago  \n",
       "20  https://www.cnbc.com/2022/06/24/us-states-imme...  17 Hours Ago  \n",
       "21  https://www.cnbc.com/2022/06/24/investing-club...  17 Hours Ago  \n",
       "22  https://www.cnbc.com/2022/06/24/gas-tax-holida...  17 Hours Ago  \n",
       "23  https://www.cnbc.com/2022/06/24/goldman-advise...  18 Hours Ago  \n",
       "24  https://www.cnbc.com/2022/06/24/roe-v-wade-sup...  18 Hours Ago  \n",
       "25  https://www.cnbc.com/2022/06/24/congress-passe...  18 Hours Ago  \n",
       "26  https://www.cnbc.com/2022/06/24/roe-v-wade-dec...  18 Hours Ago  \n",
       "27  https://www.cnbc.com/2022/06/24/stocks-making-...  18 Hours Ago  \n",
       "28  https://www.cnbc.com/2022/06/24/roe-v-wade-us-...  19 Hours Ago  \n",
       "29  https://www.cnbc.com/2022/06/24/tech-the-new-v...  19 Hours Ago  "
      ]
     },
     "execution_count": 362,
     "metadata": {},
     "output_type": "execute_result"
    }
   ],
   "source": [
    "News = pd.concat([N,Link,Time],axis=1)\n",
    "News"
   ]
  },
  {
   "cell_type": "markdown",
   "id": "e0aec8b4",
   "metadata": {},
   "source": [
    "# Most Downloaded Articles"
   ]
  },
  {
   "cell_type": "code",
   "execution_count": 364,
   "id": "444ccccc",
   "metadata": {},
   "outputs": [],
   "source": [
    "page03 = requests.get('https://www.journals.elsevier.com/artificial-intelligence/most-downloaded-articles')\n",
    "soup03 = BeautifulSoup(page03.content)"
   ]
  },
  {
   "cell_type": "code",
   "execution_count": 372,
   "id": "5bef2010",
   "metadata": {},
   "outputs": [],
   "source": [
    "a1 = soup03.find('p', class_='sc-1q3g1nv-0 sc-15ho9eu-1 eTETae bqTbOd')\n",
    "a = a1.text\n",
    "\n",
    "b1 = soup03.find('span', class_='sc-1w3fpd7-0 pgLAT')\n",
    "b = b1.text\n",
    "\n",
    "c1 = soup03.find('span', class_='sc-1thf9ly-2 bKddwo')\n",
    "c = c1.text\n"
   ]
  },
  {
   "cell_type": "code",
   "execution_count": 400,
   "id": "1b5afb9f",
   "metadata": {},
   "outputs": [],
   "source": [
    "d = soup03.find('a', class_='sc-5smygv-0 nrDZj')\n",
    "d= d['href']\n"
   ]
  },
  {
   "cell_type": "code",
   "execution_count": 408,
   "id": "4a7742ee",
   "metadata": {},
   "outputs": [],
   "source": [
    "a1 = [a]\n",
    "a2 = [b]\n",
    "a3 = [c]\n",
    "a4 = [d]"
   ]
  },
  {
   "cell_type": "code",
   "execution_count": 411,
   "id": "95bd700f",
   "metadata": {},
   "outputs": [],
   "source": [
    "F = pd.DataFrame({'Paper Title':a1,\n",
    "      'Authors':a2,\n",
    "      'Published Date':a3,\n",
    "       'Paper URL':a4\n",
    "      })"
   ]
  },
  {
   "cell_type": "code",
   "execution_count": 413,
   "id": "ec83da63",
   "metadata": {},
   "outputs": [
    {
     "data": {
      "text/html": [
       "<div>\n",
       "<style scoped>\n",
       "    .dataframe tbody tr th:only-of-type {\n",
       "        vertical-align: middle;\n",
       "    }\n",
       "\n",
       "    .dataframe tbody tr th {\n",
       "        vertical-align: top;\n",
       "    }\n",
       "\n",
       "    .dataframe thead th {\n",
       "        text-align: right;\n",
       "    }\n",
       "</style>\n",
       "<table border=\"1\" class=\"dataframe\">\n",
       "  <thead>\n",
       "    <tr style=\"text-align: right;\">\n",
       "      <th></th>\n",
       "      <th>0</th>\n",
       "    </tr>\n",
       "  </thead>\n",
       "  <tbody>\n",
       "    <tr>\n",
       "      <th>Paper Title</th>\n",
       "      <td>The most downloaded articles from Artificial I...</td>\n",
       "    </tr>\n",
       "    <tr>\n",
       "      <th>Authors</th>\n",
       "      <td>Silver, David, Singh, Satinder, Precup, Doina,...</td>\n",
       "    </tr>\n",
       "    <tr>\n",
       "      <th>Published Date</th>\n",
       "      <td>October 2021</td>\n",
       "    </tr>\n",
       "    <tr>\n",
       "      <th>Paper URL</th>\n",
       "      <td>https://www.sciencedirect.com/science/article/...</td>\n",
       "    </tr>\n",
       "  </tbody>\n",
       "</table>\n",
       "</div>"
      ],
      "text/plain": [
       "                                                                0\n",
       "Paper Title     The most downloaded articles from Artificial I...\n",
       "Authors         Silver, David, Singh, Satinder, Precup, Doina,...\n",
       "Published Date                                       October 2021\n",
       "Paper URL       https://www.sciencedirect.com/science/article/..."
      ]
     },
     "execution_count": 413,
     "metadata": {},
     "output_type": "execute_result"
    }
   ],
   "source": [
    "F.T"
   ]
  },
  {
   "cell_type": "markdown",
   "id": "98a974a7",
   "metadata": {},
   "source": [
    "# Dineout.co.in Restaurant"
   ]
  },
  {
   "cell_type": "code",
   "execution_count": 5,
   "id": "63ca1cce",
   "metadata": {},
   "outputs": [],
   "source": [
    "page04 = requests.get('https://www.dineout.co.in/mumbai-restaurants')\n",
    "soup04 = BeautifulSoup(page04.content)"
   ]
  },
  {
   "cell_type": "code",
   "execution_count": 47,
   "id": "d7e38a66",
   "metadata": {},
   "outputs": [],
   "source": [
    "X = []\n",
    "\n",
    "for i in soup04.find_all('a', class_='restnt-name ellipsis'):\n",
    "    X.append(i.text)\n",
    "\n",
    "Z = []\n",
    "\n",
    "for i in soup04.find_all('span', class_='double-line-ellipsis'):\n",
    "    Z.append(i.text)\n",
    "\n",
    "P = []\n",
    "\n",
    "for i in soup04.find_all('div', class_='restnt-rating rating-4'):\n",
    "    P.append(i.text)\n",
    "    \n",
    "L = []\n",
    "\n",
    "for i in soup04.find_all('div', class_='restnt-loc ellipsis'):\n",
    "    L.append(i.text)"
   ]
  },
  {
   "cell_type": "code",
   "execution_count": 63,
   "id": "f5f5b79e",
   "metadata": {},
   "outputs": [],
   "source": [
    "P=[]\n",
    "\n",
    "for i in soup04.find_all('div', class_='img-wrap'):\n",
    "    P.append(i.text)"
   ]
  },
  {
   "cell_type": "code",
   "execution_count": 49,
   "id": "ac65dd3d",
   "metadata": {},
   "outputs": [],
   "source": [
    "P[1]='4.3'\n",
    "P[2]='3.6'\n",
    "P[14]='4.3'\n",
    "P[15]='4.3'\n"
   ]
  },
  {
   "cell_type": "code",
   "execution_count": 58,
   "id": "ba5c60ab",
   "metadata": {},
   "outputs": [],
   "source": [
    "Q = []\n",
    "\n",
    "for i in soup04.find_all('img', class_='no-img'):\n",
    "    Q.append(i['data-src'])"
   ]
  },
  {
   "cell_type": "code",
   "execution_count": 59,
   "id": "fe45d0a5",
   "metadata": {},
   "outputs": [],
   "source": [
    "data = pd.DataFrame({\n",
    "    'Name':X,\n",
    "    'Cuisine':Z,\n",
    "    'Location':L,\n",
    "    'Rating':P,\n",
    "    'Image URL':Q\n",
    "})"
   ]
  },
  {
   "cell_type": "code",
   "execution_count": 60,
   "id": "438bbd68",
   "metadata": {},
   "outputs": [],
   "source": [
    "data[['Price','Cuisine']]=data['Cuisine'].str.split('|',expand=True)"
   ]
  },
  {
   "cell_type": "code",
   "execution_count": 61,
   "id": "2017ccb3",
   "metadata": {},
   "outputs": [],
   "source": [
    "data.drop('Price',axis=1,inplace=True)"
   ]
  },
  {
   "cell_type": "code",
   "execution_count": 62,
   "id": "06574786",
   "metadata": {},
   "outputs": [
    {
     "data": {
      "text/html": [
       "<div>\n",
       "<style scoped>\n",
       "    .dataframe tbody tr th:only-of-type {\n",
       "        vertical-align: middle;\n",
       "    }\n",
       "\n",
       "    .dataframe tbody tr th {\n",
       "        vertical-align: top;\n",
       "    }\n",
       "\n",
       "    .dataframe thead th {\n",
       "        text-align: right;\n",
       "    }\n",
       "</style>\n",
       "<table border=\"1\" class=\"dataframe\">\n",
       "  <thead>\n",
       "    <tr style=\"text-align: right;\">\n",
       "      <th></th>\n",
       "      <th>Name</th>\n",
       "      <th>Cuisine</th>\n",
       "      <th>Location</th>\n",
       "      <th>Rating</th>\n",
       "      <th>Image URL</th>\n",
       "    </tr>\n",
       "  </thead>\n",
       "  <tbody>\n",
       "    <tr>\n",
       "      <th>0</th>\n",
       "      <td>Episode One</td>\n",
       "      <td>Finger Food, Asian, Italian, Chinese</td>\n",
       "      <td>Delphi Building,Powai, Powai</td>\n",
       "      <td>4.2</td>\n",
       "      <td>https://im1.dineout.co.in/images/uploads/resta...</td>\n",
       "    </tr>\n",
       "    <tr>\n",
       "      <th>1</th>\n",
       "      <td>Sigree Global Grill</td>\n",
       "      <td>North Indian, Biryani</td>\n",
       "      <td>Ventura Building,Powai, Powai</td>\n",
       "      <td>4.3</td>\n",
       "      <td>https://im1.dineout.co.in/images/uploads/resta...</td>\n",
       "    </tr>\n",
       "    <tr>\n",
       "      <th>2</th>\n",
       "      <td>Rude Lounge</td>\n",
       "      <td>North Indian, Fast Food</td>\n",
       "      <td>Supreme Business Park,Powai, Powai</td>\n",
       "      <td>3.6</td>\n",
       "      <td>https://im1.dineout.co.in/images/uploads/resta...</td>\n",
       "    </tr>\n",
       "    <tr>\n",
       "      <th>3</th>\n",
       "      <td>Hitchki</td>\n",
       "      <td>North Indian, Fast Food</td>\n",
       "      <td>R City Mall,Ghatkopar West, Central Suburbs</td>\n",
       "      <td>4.3</td>\n",
       "      <td>https://im1.dineout.co.in/images/uploads/resta...</td>\n",
       "    </tr>\n",
       "    <tr>\n",
       "      <th>4</th>\n",
       "      <td>Pop Tate's</td>\n",
       "      <td>Continental, Chinese, Fast Food</td>\n",
       "      <td>R City Mall,Ghatkopar West, Central Suburbs</td>\n",
       "      <td>4.4</td>\n",
       "      <td>https://im1.dineout.co.in/images/uploads/resta...</td>\n",
       "    </tr>\n",
       "    <tr>\n",
       "      <th>5</th>\n",
       "      <td>Pop Tate's</td>\n",
       "      <td>Continental, Chinese, Fast Food</td>\n",
       "      <td>Mayfair Sonata Green CHS,Vikhroli West, Centra...</td>\n",
       "      <td>4.3</td>\n",
       "      <td>https://im1.dineout.co.in/images/uploads/resta...</td>\n",
       "    </tr>\n",
       "    <tr>\n",
       "      <th>6</th>\n",
       "      <td>Bombay Martini</td>\n",
       "      <td>Finger Food, North Indian, Continental</td>\n",
       "      <td>Kailash Towers,Powai, Powai</td>\n",
       "      <td>3.7</td>\n",
       "      <td>https://im1.dineout.co.in/images/uploads/resta...</td>\n",
       "    </tr>\n",
       "    <tr>\n",
       "      <th>7</th>\n",
       "      <td>Green Autobahn</td>\n",
       "      <td>Goan, North Indian, Bengali, Chettinad</td>\n",
       "      <td>R City Mall,Ghatkopar West, Central Suburbs</td>\n",
       "      <td>4.1</td>\n",
       "      <td>https://im1.dineout.co.in/images/uploads/resta...</td>\n",
       "    </tr>\n",
       "    <tr>\n",
       "      <th>8</th>\n",
       "      <td>Urban Tadka</td>\n",
       "      <td>North Indian, Mughlai</td>\n",
       "      <td>R City Mall,Ghatkopar West, Central Suburbs</td>\n",
       "      <td>4.3</td>\n",
       "      <td>https://im1.dineout.co.in/images/uploads/resta...</td>\n",
       "    </tr>\n",
       "    <tr>\n",
       "      <th>9</th>\n",
       "      <td>Lord of the Drinks</td>\n",
       "      <td>Chinese, European, Asian, North Indian</td>\n",
       "      <td>Powai, Powai</td>\n",
       "      <td>4.2</td>\n",
       "      <td>https://im1.dineout.co.in/images/uploads/resta...</td>\n",
       "    </tr>\n",
       "    <tr>\n",
       "      <th>10</th>\n",
       "      <td>Mainland China</td>\n",
       "      <td>Chinese, Asian, Thai</td>\n",
       "      <td>Hiranandani, Powai</td>\n",
       "      <td>4.3</td>\n",
       "      <td>https://im1.dineout.co.in/images/uploads/resta...</td>\n",
       "    </tr>\n",
       "    <tr>\n",
       "      <th>11</th>\n",
       "      <td>Hitchki</td>\n",
       "      <td>North Indian, Fast Food</td>\n",
       "      <td>Hiranandani Business Park,Powai, Powai</td>\n",
       "      <td>4.5</td>\n",
       "      <td>https://im1.dineout.co.in/images/uploads/resta...</td>\n",
       "    </tr>\n",
       "    <tr>\n",
       "      <th>12</th>\n",
       "      <td>PizzaExpress</td>\n",
       "      <td>Italian, Pizza, Beverages</td>\n",
       "      <td>Ventura Building,Powai, Powai</td>\n",
       "      <td>4.4</td>\n",
       "      <td>https://im1.dineout.co.in/images/uploads/resta...</td>\n",
       "    </tr>\n",
       "    <tr>\n",
       "      <th>13</th>\n",
       "      <td>Khandani Rajdhani</td>\n",
       "      <td>Gujarati, Rajasthani, North Indian</td>\n",
       "      <td>R City Mall,Ghatkopar West, Central Suburbs</td>\n",
       "      <td>4.2</td>\n",
       "      <td>https://im1.dineout.co.in/images/uploads/resta...</td>\n",
       "    </tr>\n",
       "    <tr>\n",
       "      <th>14</th>\n",
       "      <td>Cream Centre- Ghatkopar West</td>\n",
       "      <td>North Indian, Street Food, Fast Food, Mexican...</td>\n",
       "      <td>R City Mall,Ghatkopar West, Central Suburbs</td>\n",
       "      <td>4.3</td>\n",
       "      <td>https://im1.dineout.co.in/images/uploads/resta...</td>\n",
       "    </tr>\n",
       "    <tr>\n",
       "      <th>15</th>\n",
       "      <td>ABs - Absolute Barbecues</td>\n",
       "      <td>North Indian</td>\n",
       "      <td>Chandivali, Powai</td>\n",
       "      <td>4.3</td>\n",
       "      <td>https://im1.dineout.co.in/images/uploads/resta...</td>\n",
       "    </tr>\n",
       "    <tr>\n",
       "      <th>16</th>\n",
       "      <td>The Sassy Spoon</td>\n",
       "      <td>Continental, European</td>\n",
       "      <td>Delphi Building,Powai, Powai</td>\n",
       "      <td>4.3</td>\n",
       "      <td>https://im1.dineout.co.in/images/uploads/resta...</td>\n",
       "    </tr>\n",
       "    <tr>\n",
       "      <th>17</th>\n",
       "      <td>The Butter Kitchen</td>\n",
       "      <td>North Indian</td>\n",
       "      <td>Ventura Building,Powai, Powai</td>\n",
       "      <td>3.8</td>\n",
       "      <td>https://im1.dineout.co.in/images/uploads/resta...</td>\n",
       "    </tr>\n",
       "    <tr>\n",
       "      <th>18</th>\n",
       "      <td>Chili’s American Grill and Bar</td>\n",
       "      <td>American, Mexican, Tex Mex</td>\n",
       "      <td>Ventura Building,Powai, Powai</td>\n",
       "      <td>4.2</td>\n",
       "      <td>https://im1.dineout.co.in/images/uploads/resta...</td>\n",
       "    </tr>\n",
       "    <tr>\n",
       "      <th>19</th>\n",
       "      <td>Timbuctoo</td>\n",
       "      <td>Finger Food, Chinese, Italian, North Indian</td>\n",
       "      <td>Mayfair Sonata Green CHS,Vikhroli West, Centra...</td>\n",
       "      <td>4.3</td>\n",
       "      <td>https://im1.dineout.co.in/images/uploads/resta...</td>\n",
       "    </tr>\n",
       "    <tr>\n",
       "      <th>20</th>\n",
       "      <td>House of Mandarin</td>\n",
       "      <td>Asian</td>\n",
       "      <td>Delphi Building,Powai, Powai</td>\n",
       "      <td>4.5</td>\n",
       "      <td>https://im1.dineout.co.in/images/uploads/resta...</td>\n",
       "    </tr>\n",
       "  </tbody>\n",
       "</table>\n",
       "</div>"
      ],
      "text/plain": [
       "                              Name  \\\n",
       "0                      Episode One   \n",
       "1              Sigree Global Grill   \n",
       "2                      Rude Lounge   \n",
       "3                          Hitchki   \n",
       "4                       Pop Tate's   \n",
       "5                       Pop Tate's   \n",
       "6                   Bombay Martini   \n",
       "7                   Green Autobahn   \n",
       "8                      Urban Tadka   \n",
       "9               Lord of the Drinks   \n",
       "10                  Mainland China   \n",
       "11                         Hitchki   \n",
       "12                    PizzaExpress   \n",
       "13               Khandani Rajdhani   \n",
       "14    Cream Centre- Ghatkopar West   \n",
       "15        ABs - Absolute Barbecues   \n",
       "16                 The Sassy Spoon   \n",
       "17              The Butter Kitchen   \n",
       "18  Chili’s American Grill and Bar   \n",
       "19                       Timbuctoo   \n",
       "20               House of Mandarin   \n",
       "\n",
       "                                              Cuisine  \\\n",
       "0                Finger Food, Asian, Italian, Chinese   \n",
       "1                               North Indian, Biryani   \n",
       "2                             North Indian, Fast Food   \n",
       "3                             North Indian, Fast Food   \n",
       "4                     Continental, Chinese, Fast Food   \n",
       "5                     Continental, Chinese, Fast Food   \n",
       "6              Finger Food, North Indian, Continental   \n",
       "7              Goan, North Indian, Bengali, Chettinad   \n",
       "8                               North Indian, Mughlai   \n",
       "9              Chinese, European, Asian, North Indian   \n",
       "10                               Chinese, Asian, Thai   \n",
       "11                            North Indian, Fast Food   \n",
       "12                          Italian, Pizza, Beverages   \n",
       "13                 Gujarati, Rajasthani, North Indian   \n",
       "14   North Indian, Street Food, Fast Food, Mexican...   \n",
       "15                                       North Indian   \n",
       "16                              Continental, European   \n",
       "17                                       North Indian   \n",
       "18                         American, Mexican, Tex Mex   \n",
       "19        Finger Food, Chinese, Italian, North Indian   \n",
       "20                                              Asian   \n",
       "\n",
       "                                             Location Rating  \\\n",
       "0                        Delphi Building,Powai, Powai    4.2   \n",
       "1                       Ventura Building,Powai, Powai    4.3   \n",
       "2                  Supreme Business Park,Powai, Powai    3.6   \n",
       "3         R City Mall,Ghatkopar West, Central Suburbs    4.3   \n",
       "4         R City Mall,Ghatkopar West, Central Suburbs    4.4   \n",
       "5   Mayfair Sonata Green CHS,Vikhroli West, Centra...    4.3   \n",
       "6                         Kailash Towers,Powai, Powai    3.7   \n",
       "7         R City Mall,Ghatkopar West, Central Suburbs    4.1   \n",
       "8         R City Mall,Ghatkopar West, Central Suburbs    4.3   \n",
       "9                                        Powai, Powai    4.2   \n",
       "10                                 Hiranandani, Powai    4.3   \n",
       "11             Hiranandani Business Park,Powai, Powai    4.5   \n",
       "12                      Ventura Building,Powai, Powai    4.4   \n",
       "13        R City Mall,Ghatkopar West, Central Suburbs    4.2   \n",
       "14        R City Mall,Ghatkopar West, Central Suburbs    4.3   \n",
       "15                                  Chandivali, Powai    4.3   \n",
       "16                       Delphi Building,Powai, Powai    4.3   \n",
       "17                      Ventura Building,Powai, Powai    3.8   \n",
       "18                      Ventura Building,Powai, Powai    4.2   \n",
       "19  Mayfair Sonata Green CHS,Vikhroli West, Centra...    4.3   \n",
       "20                       Delphi Building,Powai, Powai    4.5   \n",
       "\n",
       "                                            Image URL  \n",
       "0   https://im1.dineout.co.in/images/uploads/resta...  \n",
       "1   https://im1.dineout.co.in/images/uploads/resta...  \n",
       "2   https://im1.dineout.co.in/images/uploads/resta...  \n",
       "3   https://im1.dineout.co.in/images/uploads/resta...  \n",
       "4   https://im1.dineout.co.in/images/uploads/resta...  \n",
       "5   https://im1.dineout.co.in/images/uploads/resta...  \n",
       "6   https://im1.dineout.co.in/images/uploads/resta...  \n",
       "7   https://im1.dineout.co.in/images/uploads/resta...  \n",
       "8   https://im1.dineout.co.in/images/uploads/resta...  \n",
       "9   https://im1.dineout.co.in/images/uploads/resta...  \n",
       "10  https://im1.dineout.co.in/images/uploads/resta...  \n",
       "11  https://im1.dineout.co.in/images/uploads/resta...  \n",
       "12  https://im1.dineout.co.in/images/uploads/resta...  \n",
       "13  https://im1.dineout.co.in/images/uploads/resta...  \n",
       "14  https://im1.dineout.co.in/images/uploads/resta...  \n",
       "15  https://im1.dineout.co.in/images/uploads/resta...  \n",
       "16  https://im1.dineout.co.in/images/uploads/resta...  \n",
       "17  https://im1.dineout.co.in/images/uploads/resta...  \n",
       "18  https://im1.dineout.co.in/images/uploads/resta...  \n",
       "19  https://im1.dineout.co.in/images/uploads/resta...  \n",
       "20  https://im1.dineout.co.in/images/uploads/resta...  "
      ]
     },
     "execution_count": 62,
     "metadata": {},
     "output_type": "execute_result"
    }
   ],
   "source": [
    "data"
   ]
  },
  {
   "cell_type": "markdown",
   "id": "b3db6cb6",
   "metadata": {},
   "source": []
  },
  {
   "cell_type": "markdown",
   "id": "409a18db",
   "metadata": {},
   "source": [
    "# Top Publications"
   ]
  },
  {
   "cell_type": "code",
   "execution_count": 148,
   "id": "9b9fc0d0",
   "metadata": {},
   "outputs": [],
   "source": [
    "page05 = requests.get('https://scholar.google.com/citations?view_op=top_venues&hl=en')\n",
    "soup05 = BeautifulSoup(page05.content)"
   ]
  },
  {
   "cell_type": "code",
   "execution_count": 149,
   "id": "008a2f10",
   "metadata": {},
   "outputs": [],
   "source": [
    "\n",
    "\n",
    "X = []\n",
    "\n",
    "for i in soup05.find_all('td', class_='gsc_mvt_t'):\n",
    "    X.append(i.text)\n",
    "\n",
    "Z = []\n",
    "\n",
    "for i in soup05.find_all('td', class_='gsc_mvt_n'):\n",
    "    Z.append(i.text)\n"
   ]
  },
  {
   "cell_type": "code",
   "execution_count": 208,
   "id": "0d0e39db",
   "metadata": {},
   "outputs": [],
   "source": [
    "z = pd.DataFrame({'Z':Z})\n"
   ]
  },
  {
   "cell_type": "code",
   "execution_count": 165,
   "id": "b519669e",
   "metadata": {},
   "outputs": [],
   "source": [
    "a = z.loc[(np.arange(1,200,2))]\n",
    "b = z.loc[(np.arange(0,200,2))]"
   ]
  },
  {
   "cell_type": "code",
   "execution_count": 176,
   "id": "b7581d52",
   "metadata": {},
   "outputs": [],
   "source": [
    "a = a.reset_index()\n",
    "b = b.reset_index()"
   ]
  },
  {
   "cell_type": "code",
   "execution_count": 196,
   "id": "dc10ddd1",
   "metadata": {},
   "outputs": [],
   "source": [
    "df = pd.DataFrame({\n",
    "    'Publication':X,\n",
    "})"
   ]
  },
  {
   "cell_type": "code",
   "execution_count": 197,
   "id": "a770e185",
   "metadata": {},
   "outputs": [],
   "source": [
    "df = pd.concat([df,a,b],axis=1)"
   ]
  },
  {
   "cell_type": "code",
   "execution_count": 200,
   "id": "97a2ae5f",
   "metadata": {},
   "outputs": [],
   "source": [
    "df.columns.values[2] = 'h5-median'\n",
    "df.columns.values[4] = 'h5-index'\n"
   ]
  },
  {
   "cell_type": "code",
   "execution_count": 203,
   "id": "4023cc85",
   "metadata": {},
   "outputs": [],
   "source": [
    "df.drop('index',axis=1,inplace=True)"
   ]
  },
  {
   "cell_type": "code",
   "execution_count": 204,
   "id": "4c7241c8",
   "metadata": {},
   "outputs": [],
   "source": [
    "df = df[['Publication','h5-index','h5-median']]\n",
    "df = df.reset_index()\n",
    "df.index = df.index + 1 "
   ]
  },
  {
   "cell_type": "code",
   "execution_count": 206,
   "id": "9589bd2d",
   "metadata": {},
   "outputs": [],
   "source": [
    "df.drop('index',axis=1,inplace=True)"
   ]
  },
  {
   "cell_type": "code",
   "execution_count": 218,
   "id": "615447eb",
   "metadata": {},
   "outputs": [
    {
     "data": {
      "text/html": [
       "<div>\n",
       "<style scoped>\n",
       "    .dataframe tbody tr th:only-of-type {\n",
       "        vertical-align: middle;\n",
       "    }\n",
       "\n",
       "    .dataframe tbody tr th {\n",
       "        vertical-align: top;\n",
       "    }\n",
       "\n",
       "    .dataframe thead th {\n",
       "        text-align: right;\n",
       "    }\n",
       "</style>\n",
       "<table border=\"1\" class=\"dataframe\">\n",
       "  <thead>\n",
       "    <tr style=\"text-align: right;\">\n",
       "      <th></th>\n",
       "      <th>Publication</th>\n",
       "      <th>h5-index</th>\n",
       "      <th>h5-median</th>\n",
       "    </tr>\n",
       "    <tr>\n",
       "      <th>Ranking</th>\n",
       "      <th></th>\n",
       "      <th></th>\n",
       "      <th></th>\n",
       "    </tr>\n",
       "  </thead>\n",
       "  <tbody>\n",
       "    <tr>\n",
       "      <th>1</th>\n",
       "      <td>Nature</td>\n",
       "      <td>414</td>\n",
       "      <td>607</td>\n",
       "    </tr>\n",
       "    <tr>\n",
       "      <th>2</th>\n",
       "      <td>The New England Journal of Medicine</td>\n",
       "      <td>410</td>\n",
       "      <td>704</td>\n",
       "    </tr>\n",
       "    <tr>\n",
       "      <th>3</th>\n",
       "      <td>Science</td>\n",
       "      <td>391</td>\n",
       "      <td>564</td>\n",
       "    </tr>\n",
       "    <tr>\n",
       "      <th>4</th>\n",
       "      <td>IEEE/CVF Conference on Computer Vision and Pat...</td>\n",
       "      <td>356</td>\n",
       "      <td>583</td>\n",
       "    </tr>\n",
       "    <tr>\n",
       "      <th>5</th>\n",
       "      <td>The Lancet</td>\n",
       "      <td>345</td>\n",
       "      <td>600</td>\n",
       "    </tr>\n",
       "    <tr>\n",
       "      <th>...</th>\n",
       "      <td>...</td>\n",
       "      <td>...</td>\n",
       "      <td>...</td>\n",
       "    </tr>\n",
       "    <tr>\n",
       "      <th>96</th>\n",
       "      <td>Frontiers in Immunology</td>\n",
       "      <td>134</td>\n",
       "      <td>177</td>\n",
       "    </tr>\n",
       "    <tr>\n",
       "      <th>97</th>\n",
       "      <td>Small</td>\n",
       "      <td>134</td>\n",
       "      <td>173</td>\n",
       "    </tr>\n",
       "    <tr>\n",
       "      <th>98</th>\n",
       "      <td>Nature Immunology</td>\n",
       "      <td>133</td>\n",
       "      <td>210</td>\n",
       "    </tr>\n",
       "    <tr>\n",
       "      <th>99</th>\n",
       "      <td>JAMA Oncology</td>\n",
       "      <td>133</td>\n",
       "      <td>202</td>\n",
       "    </tr>\n",
       "    <tr>\n",
       "      <th>100</th>\n",
       "      <td>The Lancet Neurology</td>\n",
       "      <td>133</td>\n",
       "      <td>200</td>\n",
       "    </tr>\n",
       "  </tbody>\n",
       "</table>\n",
       "<p>100 rows × 3 columns</p>\n",
       "</div>"
      ],
      "text/plain": [
       "                                               Publication h5-index h5-median\n",
       "Ranking                                                                      \n",
       "1                                                   Nature      414       607\n",
       "2                      The New England Journal of Medicine      410       704\n",
       "3                                                  Science      391       564\n",
       "4        IEEE/CVF Conference on Computer Vision and Pat...      356       583\n",
       "5                                               The Lancet      345       600\n",
       "...                                                    ...      ...       ...\n",
       "96                                 Frontiers in Immunology      134       177\n",
       "97                                                   Small      134       173\n",
       "98                                       Nature Immunology      133       210\n",
       "99                                           JAMA Oncology      133       202\n",
       "100                                   The Lancet Neurology      133       200\n",
       "\n",
       "[100 rows x 3 columns]"
      ]
     },
     "execution_count": 218,
     "metadata": {},
     "output_type": "execute_result"
    }
   ],
   "source": [
    "df.index.names = ['Ranking']\n",
    "df"
   ]
  },
  {
   "cell_type": "markdown",
   "id": "3ab24c90",
   "metadata": {},
   "source": [
    "# Thank You "
   ]
  },
  {
   "cell_type": "code",
   "execution_count": null,
   "id": "56ccbe01",
   "metadata": {},
   "outputs": [],
   "source": []
  }
 ],
 "metadata": {
  "kernelspec": {
   "display_name": "Python 3 (ipykernel)",
   "language": "python",
   "name": "python3"
  },
  "language_info": {
   "codemirror_mode": {
    "name": "ipython",
    "version": 3
   },
   "file_extension": ".py",
   "mimetype": "text/x-python",
   "name": "python",
   "nbconvert_exporter": "python",
   "pygments_lexer": "ipython3",
   "version": "3.9.7"
  }
 },
 "nbformat": 4,
 "nbformat_minor": 5
}
