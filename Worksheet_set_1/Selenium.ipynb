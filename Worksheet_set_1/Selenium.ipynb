{
 "cells": [
  {
   "cell_type": "code",
   "execution_count": 1,
   "id": "7d2e58bd",
   "metadata": {},
   "outputs": [
    {
     "name": "stdout",
     "output_type": "stream",
     "text": [
      "Requirement already satisfied: selenium in c:\\users\\sawan\\anaconda3\\lib\\site-packages (4.3.0)\n",
      "Requirement already satisfied: urllib3[secure,socks]~=1.26 in c:\\users\\sawan\\anaconda3\\lib\\site-packages (from selenium) (1.26.7)\n",
      "Requirement already satisfied: trio~=0.17 in c:\\users\\sawan\\anaconda3\\lib\\site-packages (from selenium) (0.21.0)\n",
      "Requirement already satisfied: trio-websocket~=0.9 in c:\\users\\sawan\\anaconda3\\lib\\site-packages (from selenium) (0.9.2)\n",
      "Requirement already satisfied: cffi>=1.14 in c:\\users\\sawan\\anaconda3\\lib\\site-packages (from trio~=0.17->selenium) (1.14.6)\n",
      "Requirement already satisfied: idna in c:\\users\\sawan\\anaconda3\\lib\\site-packages (from trio~=0.17->selenium) (3.2)\n",
      "Requirement already satisfied: attrs>=19.2.0 in c:\\users\\sawan\\anaconda3\\lib\\site-packages (from trio~=0.17->selenium) (21.2.0)\n",
      "Requirement already satisfied: sniffio in c:\\users\\sawan\\anaconda3\\lib\\site-packages (from trio~=0.17->selenium) (1.2.0)\n",
      "Requirement already satisfied: outcome in c:\\users\\sawan\\anaconda3\\lib\\site-packages (from trio~=0.17->selenium) (1.2.0)\n",
      "Requirement already satisfied: sortedcontainers in c:\\users\\sawan\\anaconda3\\lib\\site-packages (from trio~=0.17->selenium) (2.4.0)\n",
      "Requirement already satisfied: async-generator>=1.9 in c:\\users\\sawan\\anaconda3\\lib\\site-packages (from trio~=0.17->selenium) (1.10)\n",
      "Requirement already satisfied: pycparser in c:\\users\\sawan\\anaconda3\\lib\\site-packages (from cffi>=1.14->trio~=0.17->selenium) (2.20)\n",
      "Requirement already satisfied: wsproto>=0.14 in c:\\users\\sawan\\anaconda3\\lib\\site-packages (from trio-websocket~=0.9->selenium) (1.1.0)\n",
      "Requirement already satisfied: PySocks!=1.5.7,<2.0,>=1.5.6 in c:\\users\\sawan\\anaconda3\\lib\\site-packages (from urllib3[secure,socks]~=1.26->selenium) (1.7.1)\n",
      "Requirement already satisfied: pyOpenSSL>=0.14 in c:\\users\\sawan\\anaconda3\\lib\\site-packages (from urllib3[secure,socks]~=1.26->selenium) (21.0.0)\n",
      "Requirement already satisfied: cryptography>=1.3.4 in c:\\users\\sawan\\anaconda3\\lib\\site-packages (from urllib3[secure,socks]~=1.26->selenium) (3.4.8)\n",
      "Requirement already satisfied: certifi in c:\\users\\sawan\\anaconda3\\lib\\site-packages (from urllib3[secure,socks]~=1.26->selenium) (2021.10.8)\n",
      "Requirement already satisfied: six>=1.5.2 in c:\\users\\sawan\\anaconda3\\lib\\site-packages (from pyOpenSSL>=0.14->urllib3[secure,socks]~=1.26->selenium) (1.16.0)\n",
      "Requirement already satisfied: h11<1,>=0.9.0 in c:\\users\\sawan\\anaconda3\\lib\\site-packages (from wsproto>=0.14->trio-websocket~=0.9->selenium) (0.13.0)\n"
     ]
    }
   ],
   "source": [
    "!pip install selenium"
   ]
  },
  {
   "cell_type": "code",
   "execution_count": 113,
   "id": "15b651d4",
   "metadata": {},
   "outputs": [],
   "source": [
    "import selenium\n",
    "from selenium import webdriver \n",
    "import pandas as pd\n",
    "import numpy as np\n",
    "import warnings\n",
    "warnings.filterwarnings('ignore')\n",
    "from selenium .webdriver.common.by import By"
   ]
  },
  {
   "cell_type": "code",
   "execution_count": 2,
   "id": "7b49b519",
   "metadata": {},
   "outputs": [],
   "source": []
  },
  {
   "cell_type": "markdown",
   "id": "3cad8987",
   "metadata": {},
   "source": []
  },
  {
   "cell_type": "markdown",
   "id": "3f5a8e8a",
   "metadata": {},
   "source": [
    "# Naukari.com Job Titles (Q1 and Q2)\n"
   ]
  },
  {
   "cell_type": "code",
   "execution_count": 324,
   "id": "535b41a5",
   "metadata": {},
   "outputs": [],
   "source": [
    "driver = webdriver.Chrome(r'C:\\Users\\sawan\\Desktop\\chromedriver.exe')"
   ]
  },
  {
   "cell_type": "code",
   "execution_count": 325,
   "id": "5561619b",
   "metadata": {},
   "outputs": [],
   "source": [
    "url = 'https://www.naukri.com/'\n",
    "driver.get(url)"
   ]
  },
  {
   "cell_type": "code",
   "execution_count": 326,
   "id": "f3f43f6e",
   "metadata": {},
   "outputs": [
    {
     "data": {
      "text/plain": [
       "<selenium.webdriver.remote.webelement.WebElement (session=\"294849720732ff6f69ebba6dbde7704b\", element=\"b895eb64-b380-42fa-888a-a4b7bca5d4fc\")>"
      ]
     },
     "execution_count": 326,
     "metadata": {},
     "output_type": "execute_result"
    }
   ],
   "source": [
    "search_job = driver.find_element(By.CLASS_NAME,\"suggestor-input\")\n",
    "search_job"
   ]
  },
  {
   "cell_type": "code",
   "execution_count": 327,
   "id": "7e5bc181",
   "metadata": {},
   "outputs": [],
   "source": [
    "search_job.send_keys('Data Scientist')"
   ]
  },
  {
   "cell_type": "code",
   "execution_count": 328,
   "id": "db977275",
   "metadata": {},
   "outputs": [
    {
     "data": {
      "text/plain": [
       "<selenium.webdriver.remote.webelement.WebElement (session=\"294849720732ff6f69ebba6dbde7704b\", element=\"2a007be6-730f-40a5-af7f-b7d0ebb6f90c\")>"
      ]
     },
     "execution_count": 328,
     "metadata": {},
     "output_type": "execute_result"
    }
   ],
   "source": [
    "search_loc = driver.find_element(By.XPATH,\"/html/body/div[1]/div[2]/div[3]/div/div/div[5]/div/div/div/input\")\n",
    "search_loc"
   ]
  },
  {
   "cell_type": "code",
   "execution_count": 329,
   "id": "df107d60",
   "metadata": {},
   "outputs": [],
   "source": [
    "search_loc.send_keys('Bangalore')"
   ]
  },
  {
   "cell_type": "code",
   "execution_count": 330,
   "id": "37ec3d28",
   "metadata": {},
   "outputs": [
    {
     "data": {
      "text/plain": [
       "<selenium.webdriver.remote.webelement.WebElement (session=\"294849720732ff6f69ebba6dbde7704b\", element=\"43ee70d0-7e69-49fa-b75a-a9775c35701b\")>"
      ]
     },
     "execution_count": 330,
     "metadata": {},
     "output_type": "execute_result"
    }
   ],
   "source": [
    "enter = driver.find_element(By.XPATH,\"/html/body/div[1]/div[2]/div[3]/div/div/div[6]\")\n",
    "enter"
   ]
  },
  {
   "cell_type": "code",
   "execution_count": 331,
   "id": "148e30d6",
   "metadata": {},
   "outputs": [],
   "source": [
    "enter.click()"
   ]
  },
  {
   "cell_type": "code",
   "execution_count": 332,
   "id": "f9d461e5",
   "metadata": {},
   "outputs": [
    {
     "data": {
      "text/plain": [
       "20"
      ]
     },
     "execution_count": 332,
     "metadata": {},
     "output_type": "execute_result"
    }
   ],
   "source": [
    "naukari_heading = driver.find_elements(By.XPATH,\"//a[@class='title fw500 ellipsis']\")\n",
    "len(naukari_heading)"
   ]
  },
  {
   "cell_type": "code",
   "execution_count": 333,
   "id": "3d944595",
   "metadata": {},
   "outputs": [],
   "source": [
    "jobs = []\n",
    "\n",
    "for i in naukari_heading:\n",
    "    jobs.append(i.text)\n"
   ]
  },
  {
   "cell_type": "code",
   "execution_count": 334,
   "id": "7e75c887",
   "metadata": {},
   "outputs": [],
   "source": [
    "naukari_loc = driver.find_elements(By.XPATH,\"//li[@class='fleft grey-text br2 placeHolderLi location']\")\n",
    "\n",
    "loc = []\n",
    "\n",
    "for i in naukari_loc:\n",
    "    loc.append(i.text)\n"
   ]
  },
  {
   "cell_type": "code",
   "execution_count": 335,
   "id": "8699032f",
   "metadata": {},
   "outputs": [],
   "source": [
    "naukari_comp = driver.find_elements(By.XPATH,\"//a[@class='subTitle ellipsis fleft']\")\n",
    "\n",
    "comp = []\n",
    "\n",
    "for i in naukari_comp:\n",
    "    comp.append(i.text)\n",
    "\n"
   ]
  },
  {
   "cell_type": "code",
   "execution_count": 336,
   "id": "18120257",
   "metadata": {},
   "outputs": [],
   "source": [
    "naukari_exp = driver.find_elements(By.XPATH,\"//li[@class='fleft grey-text br2 placeHolderLi experience']\")\n",
    "\n",
    "exp = []\n",
    "\n",
    "for i in naukari_exp:\n",
    "    exp.append(i.text)"
   ]
  },
  {
   "cell_type": "code",
   "execution_count": 337,
   "id": "f6cbe103",
   "metadata": {},
   "outputs": [],
   "source": [
    "job_data = pd.DataFrame ({\n",
    "    'Job Title': jobs,\n",
    "    'Company Name': comp,\n",
    "    'Experience required': exp,\n",
    "    'Location': loc\n",
    "})"
   ]
  },
  {
   "cell_type": "code",
   "execution_count": 338,
   "id": "0c1970b3",
   "metadata": {},
   "outputs": [
    {
     "data": {
      "text/html": [
       "<div>\n",
       "<style scoped>\n",
       "    .dataframe tbody tr th:only-of-type {\n",
       "        vertical-align: middle;\n",
       "    }\n",
       "\n",
       "    .dataframe tbody tr th {\n",
       "        vertical-align: top;\n",
       "    }\n",
       "\n",
       "    .dataframe thead th {\n",
       "        text-align: right;\n",
       "    }\n",
       "</style>\n",
       "<table border=\"1\" class=\"dataframe\">\n",
       "  <thead>\n",
       "    <tr style=\"text-align: right;\">\n",
       "      <th></th>\n",
       "      <th>Job Title</th>\n",
       "      <th>Company Name</th>\n",
       "      <th>Experience required</th>\n",
       "      <th>Location</th>\n",
       "    </tr>\n",
       "  </thead>\n",
       "  <tbody>\n",
       "    <tr>\n",
       "      <th>0</th>\n",
       "      <td>Data Scientist/ Senior Data Scientist</td>\n",
       "      <td>Fractal Analytics</td>\n",
       "      <td>3-8 Yrs</td>\n",
       "      <td>Bangalore/Bengaluru, Pune, Gurgaon/Gurugram, C...</td>\n",
       "    </tr>\n",
       "    <tr>\n",
       "      <th>1</th>\n",
       "      <td>Urgent Job Opening For AI Practitioner - Data ...</td>\n",
       "      <td>Wipro</td>\n",
       "      <td>11-21 Yrs</td>\n",
       "      <td>Bangalore/Bengaluru, Kochi/Cochin, New Delhi, ...</td>\n",
       "    </tr>\n",
       "    <tr>\n",
       "      <th>2</th>\n",
       "      <td>Hiring For Senior Data Scientist</td>\n",
       "      <td>TATA CONSULTANCY SERVICES (TCS)</td>\n",
       "      <td>8-13 Yrs</td>\n",
       "      <td>Bangalore/Bengaluru, Pune</td>\n",
       "    </tr>\n",
       "    <tr>\n",
       "      <th>3</th>\n",
       "      <td>Dataiku Consultant</td>\n",
       "      <td>Wipro</td>\n",
       "      <td>10-16 Yrs</td>\n",
       "      <td>Bangalore/Bengaluru, Pune, Chennai</td>\n",
       "    </tr>\n",
       "    <tr>\n",
       "      <th>4</th>\n",
       "      <td>Data Scientist</td>\n",
       "      <td>Applied Materials</td>\n",
       "      <td>4-7 Yrs</td>\n",
       "      <td>Bangalore/Bengaluru</td>\n",
       "    </tr>\n",
       "    <tr>\n",
       "      <th>5</th>\n",
       "      <td>Data &amp; Analytics Tech - Informatica Cloud- Sen...</td>\n",
       "      <td>PwC</td>\n",
       "      <td>6-10 Yrs</td>\n",
       "      <td>Bangalore/Bengaluru</td>\n",
       "    </tr>\n",
       "    <tr>\n",
       "      <th>6</th>\n",
       "      <td>Data Scientist: Advanced Analytics</td>\n",
       "      <td>IBM</td>\n",
       "      <td>2-7 Yrs</td>\n",
       "      <td>Bangalore/Bengaluru</td>\n",
       "    </tr>\n",
       "    <tr>\n",
       "      <th>7</th>\n",
       "      <td>Research Scientist</td>\n",
       "      <td>IBM</td>\n",
       "      <td>3-7 Yrs</td>\n",
       "      <td>Bangalore/Bengaluru</td>\n",
       "    </tr>\n",
       "    <tr>\n",
       "      <th>8</th>\n",
       "      <td>Principal - Data Scientist</td>\n",
       "      <td>Schneider Electric</td>\n",
       "      <td>7-10 Yrs</td>\n",
       "      <td>Bangalore/Bengaluru</td>\n",
       "    </tr>\n",
       "    <tr>\n",
       "      <th>9</th>\n",
       "      <td>Research and Development -AI/ML -(PhD )</td>\n",
       "      <td>EXL</td>\n",
       "      <td>4-8 Yrs</td>\n",
       "      <td>Bangalore/Bengaluru, Noida, Hyderabad/Secunder...</td>\n",
       "    </tr>\n",
       "  </tbody>\n",
       "</table>\n",
       "</div>"
      ],
      "text/plain": [
       "                                           Job Title  \\\n",
       "0              Data Scientist/ Senior Data Scientist   \n",
       "1  Urgent Job Opening For AI Practitioner - Data ...   \n",
       "2                   Hiring For Senior Data Scientist   \n",
       "3                                 Dataiku Consultant   \n",
       "4                                     Data Scientist   \n",
       "5  Data & Analytics Tech - Informatica Cloud- Sen...   \n",
       "6                 Data Scientist: Advanced Analytics   \n",
       "7                                 Research Scientist   \n",
       "8                         Principal - Data Scientist   \n",
       "9            Research and Development -AI/ML -(PhD )   \n",
       "\n",
       "                      Company Name Experience required  \\\n",
       "0                Fractal Analytics             3-8 Yrs   \n",
       "1                            Wipro           11-21 Yrs   \n",
       "2  TATA CONSULTANCY SERVICES (TCS)            8-13 Yrs   \n",
       "3                            Wipro           10-16 Yrs   \n",
       "4                Applied Materials             4-7 Yrs   \n",
       "5                              PwC            6-10 Yrs   \n",
       "6                              IBM             2-7 Yrs   \n",
       "7                              IBM             3-7 Yrs   \n",
       "8               Schneider Electric            7-10 Yrs   \n",
       "9                              EXL             4-8 Yrs   \n",
       "\n",
       "                                            Location  \n",
       "0  Bangalore/Bengaluru, Pune, Gurgaon/Gurugram, C...  \n",
       "1  Bangalore/Bengaluru, Kochi/Cochin, New Delhi, ...  \n",
       "2                          Bangalore/Bengaluru, Pune  \n",
       "3                 Bangalore/Bengaluru, Pune, Chennai  \n",
       "4                                Bangalore/Bengaluru  \n",
       "5                                Bangalore/Bengaluru  \n",
       "6                                Bangalore/Bengaluru  \n",
       "7                                Bangalore/Bengaluru  \n",
       "8                                Bangalore/Bengaluru  \n",
       "9  Bangalore/Bengaluru, Noida, Hyderabad/Secunder...  "
      ]
     },
     "execution_count": 338,
     "metadata": {},
     "output_type": "execute_result"
    }
   ],
   "source": [
    "Data = job_data[0:10]\n",
    "Data"
   ]
  },
  {
   "cell_type": "markdown",
   "id": "ea1ddfda",
   "metadata": {},
   "source": [
    "### Q1 with Experience required"
   ]
  },
  {
   "cell_type": "code",
   "execution_count": 339,
   "id": "f8134acc",
   "metadata": {},
   "outputs": [
    {
     "data": {
      "text/html": [
       "<div>\n",
       "<style scoped>\n",
       "    .dataframe tbody tr th:only-of-type {\n",
       "        vertical-align: middle;\n",
       "    }\n",
       "\n",
       "    .dataframe tbody tr th {\n",
       "        vertical-align: top;\n",
       "    }\n",
       "\n",
       "    .dataframe thead th {\n",
       "        text-align: right;\n",
       "    }\n",
       "</style>\n",
       "<table border=\"1\" class=\"dataframe\">\n",
       "  <thead>\n",
       "    <tr style=\"text-align: right;\">\n",
       "      <th></th>\n",
       "      <th>Job Title</th>\n",
       "      <th>Company Name</th>\n",
       "      <th>Location</th>\n",
       "    </tr>\n",
       "  </thead>\n",
       "  <tbody>\n",
       "    <tr>\n",
       "      <th>0</th>\n",
       "      <td>Data Scientist/ Senior Data Scientist</td>\n",
       "      <td>Fractal Analytics</td>\n",
       "      <td>Bangalore/Bengaluru, Pune, Gurgaon/Gurugram, C...</td>\n",
       "    </tr>\n",
       "    <tr>\n",
       "      <th>1</th>\n",
       "      <td>Urgent Job Opening For AI Practitioner - Data ...</td>\n",
       "      <td>Wipro</td>\n",
       "      <td>Bangalore/Bengaluru, Kochi/Cochin, New Delhi, ...</td>\n",
       "    </tr>\n",
       "    <tr>\n",
       "      <th>2</th>\n",
       "      <td>Hiring For Senior Data Scientist</td>\n",
       "      <td>TATA CONSULTANCY SERVICES (TCS)</td>\n",
       "      <td>Bangalore/Bengaluru, Pune</td>\n",
       "    </tr>\n",
       "    <tr>\n",
       "      <th>3</th>\n",
       "      <td>Dataiku Consultant</td>\n",
       "      <td>Wipro</td>\n",
       "      <td>Bangalore/Bengaluru, Pune, Chennai</td>\n",
       "    </tr>\n",
       "    <tr>\n",
       "      <th>4</th>\n",
       "      <td>Data Scientist</td>\n",
       "      <td>Applied Materials</td>\n",
       "      <td>Bangalore/Bengaluru</td>\n",
       "    </tr>\n",
       "    <tr>\n",
       "      <th>5</th>\n",
       "      <td>Data &amp; Analytics Tech - Informatica Cloud- Sen...</td>\n",
       "      <td>PwC</td>\n",
       "      <td>Bangalore/Bengaluru</td>\n",
       "    </tr>\n",
       "    <tr>\n",
       "      <th>6</th>\n",
       "      <td>Data Scientist: Advanced Analytics</td>\n",
       "      <td>IBM</td>\n",
       "      <td>Bangalore/Bengaluru</td>\n",
       "    </tr>\n",
       "    <tr>\n",
       "      <th>7</th>\n",
       "      <td>Research Scientist</td>\n",
       "      <td>IBM</td>\n",
       "      <td>Bangalore/Bengaluru</td>\n",
       "    </tr>\n",
       "    <tr>\n",
       "      <th>8</th>\n",
       "      <td>Principal - Data Scientist</td>\n",
       "      <td>Schneider Electric</td>\n",
       "      <td>Bangalore/Bengaluru</td>\n",
       "    </tr>\n",
       "    <tr>\n",
       "      <th>9</th>\n",
       "      <td>Research and Development -AI/ML -(PhD )</td>\n",
       "      <td>EXL</td>\n",
       "      <td>Bangalore/Bengaluru, Noida, Hyderabad/Secunder...</td>\n",
       "    </tr>\n",
       "  </tbody>\n",
       "</table>\n",
       "</div>"
      ],
      "text/plain": [
       "                                           Job Title  \\\n",
       "0              Data Scientist/ Senior Data Scientist   \n",
       "1  Urgent Job Opening For AI Practitioner - Data ...   \n",
       "2                   Hiring For Senior Data Scientist   \n",
       "3                                 Dataiku Consultant   \n",
       "4                                     Data Scientist   \n",
       "5  Data & Analytics Tech - Informatica Cloud- Sen...   \n",
       "6                 Data Scientist: Advanced Analytics   \n",
       "7                                 Research Scientist   \n",
       "8                         Principal - Data Scientist   \n",
       "9            Research and Development -AI/ML -(PhD )   \n",
       "\n",
       "                      Company Name  \\\n",
       "0                Fractal Analytics   \n",
       "1                            Wipro   \n",
       "2  TATA CONSULTANCY SERVICES (TCS)   \n",
       "3                            Wipro   \n",
       "4                Applied Materials   \n",
       "5                              PwC   \n",
       "6                              IBM   \n",
       "7                              IBM   \n",
       "8               Schneider Electric   \n",
       "9                              EXL   \n",
       "\n",
       "                                            Location  \n",
       "0  Bangalore/Bengaluru, Pune, Gurgaon/Gurugram, C...  \n",
       "1  Bangalore/Bengaluru, Kochi/Cochin, New Delhi, ...  \n",
       "2                          Bangalore/Bengaluru, Pune  \n",
       "3                 Bangalore/Bengaluru, Pune, Chennai  \n",
       "4                                Bangalore/Bengaluru  \n",
       "5                                Bangalore/Bengaluru  \n",
       "6                                Bangalore/Bengaluru  \n",
       "7                                Bangalore/Bengaluru  \n",
       "8                                Bangalore/Bengaluru  \n",
       "9  Bangalore/Bengaluru, Noida, Hyderabad/Secunder...  "
      ]
     },
     "execution_count": 339,
     "metadata": {},
     "output_type": "execute_result"
    }
   ],
   "source": [
    "data = Data.drop('Experience required', axis=1)\n",
    "data"
   ]
  },
  {
   "cell_type": "markdown",
   "id": "fd0712aa",
   "metadata": {},
   "source": [
    "### Q2 without Experience required"
   ]
  },
  {
   "cell_type": "markdown",
   "id": "828755f6",
   "metadata": {},
   "source": [
    "# Naukari.com Job Titles (Q3)\n"
   ]
  },
  {
   "cell_type": "code",
   "execution_count": 20,
   "id": "752d2c91",
   "metadata": {},
   "outputs": [
    {
     "data": {
      "text/plain": [
       "<selenium.webdriver.remote.webelement.WebElement (session=\"600baa0ceeabf3fcc91cdd0e182d5fdc\", element=\"b0d57aec-d243-4ddb-acda-8ff5d63de1a1\")>"
      ]
     },
     "execution_count": 20,
     "metadata": {},
     "output_type": "execute_result"
    }
   ],
   "source": [
    "filter_sal = driver.find_element(By.XPATH,\"/html/body/div[1]/div[3]/div[2]/section[1]/div[2]/div[5]/div[2]/div[1]/label/i\")\n",
    "filter_sal"
   ]
  },
  {
   "cell_type": "code",
   "execution_count": 21,
   "id": "cd24b915",
   "metadata": {},
   "outputs": [],
   "source": [
    "filter_sal.click()"
   ]
  },
  {
   "cell_type": "code",
   "execution_count": 22,
   "id": "6ebb994c",
   "metadata": {},
   "outputs": [],
   "source": [
    "naukari_heading2 = driver.find_elements(By.XPATH,\"//a[@class='title fw500 ellipsis']\")\n",
    "jobs2 = []\n",
    "\n",
    "for i in naukari_heading2:\n",
    "    jobs2.append(i.text)\n",
    "    \n",
    "naukari_loc2 = driver.find_elements(By.XPATH,\"//li[@class='fleft grey-text br2 placeHolderLi location']\")\n",
    "\n",
    "loc2 = []\n",
    "\n",
    "for i in naukari_loc2:\n",
    "    loc2.append(i.text)\n",
    "    \n",
    "naukari_comp2 = driver.find_elements(By.XPATH,\"//a[@class='subTitle ellipsis fleft']\")\n",
    "\n",
    "comp2 = []\n",
    "\n",
    "for i in naukari_comp2:\n",
    "    comp2.append(i.text)   \n",
    "\n",
    "naukari_exp2 = driver.find_elements(By.XPATH,\"//li[@class='fleft grey-text br2 placeHolderLi experience']\")\n",
    "\n",
    "exp2 = []\n",
    "\n",
    "for i in naukari_exp2:\n",
    "    exp2.append(i.text)\n"
   ]
  },
  {
   "cell_type": "code",
   "execution_count": 23,
   "id": "6a2dd23a",
   "metadata": {},
   "outputs": [],
   "source": [
    "job_data = pd.DataFrame ({\n",
    "    'Job Title': jobs2,\n",
    "    'Company Name': comp2,\n",
    "    'Experience required': exp2,\n",
    "    'Location': loc2\n",
    "})"
   ]
  },
  {
   "cell_type": "code",
   "execution_count": 25,
   "id": "8fe5611c",
   "metadata": {},
   "outputs": [
    {
     "data": {
      "text/html": [
       "<div>\n",
       "<style scoped>\n",
       "    .dataframe tbody tr th:only-of-type {\n",
       "        vertical-align: middle;\n",
       "    }\n",
       "\n",
       "    .dataframe tbody tr th {\n",
       "        vertical-align: top;\n",
       "    }\n",
       "\n",
       "    .dataframe thead th {\n",
       "        text-align: right;\n",
       "    }\n",
       "</style>\n",
       "<table border=\"1\" class=\"dataframe\">\n",
       "  <thead>\n",
       "    <tr style=\"text-align: right;\">\n",
       "      <th></th>\n",
       "      <th>Job Title</th>\n",
       "      <th>Company Name</th>\n",
       "      <th>Experience required</th>\n",
       "      <th>Location</th>\n",
       "    </tr>\n",
       "  </thead>\n",
       "  <tbody>\n",
       "    <tr>\n",
       "      <th>0</th>\n",
       "      <td>Data Scientist</td>\n",
       "      <td>Genpact</td>\n",
       "      <td>7-12 Yrs</td>\n",
       "      <td>Bangalore/Bengaluru</td>\n",
       "    </tr>\n",
       "    <tr>\n",
       "      <th>1</th>\n",
       "      <td>Research Analyst</td>\n",
       "      <td>Xsys Software Technologies</td>\n",
       "      <td>0-5 Yrs</td>\n",
       "      <td>Bangalore/Bengaluru(Mathikere +11)</td>\n",
       "    </tr>\n",
       "    <tr>\n",
       "      <th>2</th>\n",
       "      <td>Data Scientist</td>\n",
       "      <td>Eversana</td>\n",
       "      <td>3-7 Yrs</td>\n",
       "      <td>Pune(Koregaon Park), Bangalore/Bengaluru(Bella...</td>\n",
       "    </tr>\n",
       "    <tr>\n",
       "      <th>3</th>\n",
       "      <td>Hiring For Data Science Intern- DataTrained Ed...</td>\n",
       "      <td>DataTrained</td>\n",
       "      <td>0-2 Yrs</td>\n",
       "      <td>Gurgaon/Gurugram, Bangalore/Bengaluru, Delhi /...</td>\n",
       "    </tr>\n",
       "    <tr>\n",
       "      <th>4</th>\n",
       "      <td>Data Scientist SME</td>\n",
       "      <td>AMSI TECHNOLOGIES PVT LIMITED</td>\n",
       "      <td>4-9 Yrs</td>\n",
       "      <td>Chennai, Bangalore/Bengaluru\\n(WFH during Covid)</td>\n",
       "    </tr>\n",
       "    <tr>\n",
       "      <th>5</th>\n",
       "      <td>Process Trainer</td>\n",
       "      <td>IB Business Services</td>\n",
       "      <td>2-5 Yrs</td>\n",
       "      <td>Tirunelveli, Chennai, Bangalore/Bengaluru(Vidy...</td>\n",
       "    </tr>\n",
       "    <tr>\n",
       "      <th>6</th>\n",
       "      <td>Hiring For Python Developer</td>\n",
       "      <td>ANBLICKS CLOUD DATA ENGG PRIVATE LIMITED</td>\n",
       "      <td>3-6 Yrs</td>\n",
       "      <td>Hyderabad/Secunderabad, Ahmedabad</td>\n",
       "    </tr>\n",
       "    <tr>\n",
       "      <th>7</th>\n",
       "      <td>Research Associate - Data Science</td>\n",
       "      <td>Recodeminds Pvt Ltd</td>\n",
       "      <td>1-3 Yrs</td>\n",
       "      <td>Hyderabad/Secunderabad</td>\n",
       "    </tr>\n",
       "    <tr>\n",
       "      <th>8</th>\n",
       "      <td>Data Scientist - Experienced/fresher | Kolkata</td>\n",
       "      <td>SIBIA Analytics and Consulting Services Pvt Ltd</td>\n",
       "      <td>0-4 Yrs</td>\n",
       "      <td>Kolkata</td>\n",
       "    </tr>\n",
       "    <tr>\n",
       "      <th>9</th>\n",
       "      <td>Data Scientist</td>\n",
       "      <td>cliqhr.com</td>\n",
       "      <td>5-8 Yrs</td>\n",
       "      <td>Bangalore/Bengaluru</td>\n",
       "    </tr>\n",
       "  </tbody>\n",
       "</table>\n",
       "</div>"
      ],
      "text/plain": [
       "                                           Job Title  \\\n",
       "0                                     Data Scientist   \n",
       "1                                   Research Analyst   \n",
       "2                                     Data Scientist   \n",
       "3  Hiring For Data Science Intern- DataTrained Ed...   \n",
       "4                                 Data Scientist SME   \n",
       "5                                    Process Trainer   \n",
       "6                        Hiring For Python Developer   \n",
       "7                  Research Associate - Data Science   \n",
       "8     Data Scientist - Experienced/fresher | Kolkata   \n",
       "9                                     Data Scientist   \n",
       "\n",
       "                                      Company Name Experience required  \\\n",
       "0                                          Genpact            7-12 Yrs   \n",
       "1                       Xsys Software Technologies             0-5 Yrs   \n",
       "2                                         Eversana             3-7 Yrs   \n",
       "3                                      DataTrained             0-2 Yrs   \n",
       "4                    AMSI TECHNOLOGIES PVT LIMITED             4-9 Yrs   \n",
       "5                             IB Business Services             2-5 Yrs   \n",
       "6         ANBLICKS CLOUD DATA ENGG PRIVATE LIMITED             3-6 Yrs   \n",
       "7                              Recodeminds Pvt Ltd             1-3 Yrs   \n",
       "8  SIBIA Analytics and Consulting Services Pvt Ltd             0-4 Yrs   \n",
       "9                                       cliqhr.com             5-8 Yrs   \n",
       "\n",
       "                                            Location  \n",
       "0                                Bangalore/Bengaluru  \n",
       "1                 Bangalore/Bengaluru(Mathikere +11)  \n",
       "2  Pune(Koregaon Park), Bangalore/Bengaluru(Bella...  \n",
       "3  Gurgaon/Gurugram, Bangalore/Bengaluru, Delhi /...  \n",
       "4   Chennai, Bangalore/Bengaluru\\n(WFH during Covid)  \n",
       "5  Tirunelveli, Chennai, Bangalore/Bengaluru(Vidy...  \n",
       "6                  Hyderabad/Secunderabad, Ahmedabad  \n",
       "7                             Hyderabad/Secunderabad  \n",
       "8                                            Kolkata  \n",
       "9                                Bangalore/Bengaluru  "
      ]
     },
     "execution_count": 25,
     "metadata": {},
     "output_type": "execute_result"
    }
   ],
   "source": [
    "Data2 = job_data[0:10]\n",
    "Data2"
   ]
  },
  {
   "cell_type": "markdown",
   "id": "3e7fc0ef",
   "metadata": {},
   "source": [
    "# Flipkart (\"Sunglasses\")"
   ]
  },
  {
   "cell_type": "code",
   "execution_count": 3,
   "id": "c520120c",
   "metadata": {},
   "outputs": [],
   "source": [
    "import time"
   ]
  },
  {
   "cell_type": "code",
   "execution_count": 91,
   "id": "da0d543c",
   "metadata": {},
   "outputs": [],
   "source": [
    "driver = webdriver.Chrome(r'C:\\Users\\sawan\\Desktop\\chromedriver.exe')"
   ]
  },
  {
   "cell_type": "code",
   "execution_count": 4,
   "id": "1528d26d",
   "metadata": {},
   "outputs": [],
   "source": [
    "url = 'https://www.flipkart.com/'\n",
    "driver.get(url)"
   ]
  },
  {
   "cell_type": "code",
   "execution_count": 5,
   "id": "6c8dd558",
   "metadata": {},
   "outputs": [],
   "source": [
    "close = driver.find_element(By.XPATH,\"/html/body/div[2]/div/div/button\")\n",
    "close.click()"
   ]
  },
  {
   "cell_type": "code",
   "execution_count": 6,
   "id": "11659f4f",
   "metadata": {},
   "outputs": [],
   "source": [
    "search = driver.find_element(By.XPATH,\"/html/body/div[1]/div/div[1]/div[1]/div[2]/div[2]/form/div/div/input\")\n",
    "search.send_keys('Sunglass')"
   ]
  },
  {
   "cell_type": "code",
   "execution_count": 15,
   "id": "57c2b579",
   "metadata": {},
   "outputs": [],
   "source": [
    "enter = driver.find_element(By.XPATH,\"/html/body/div[1]/div/div[1]/div[1]/div[2]/div[2]/form/div/button\")\n",
    "enter.click()"
   ]
  },
  {
   "cell_type": "code",
   "execution_count": 16,
   "id": "c72592b3",
   "metadata": {},
   "outputs": [],
   "source": [
    "company = []\n",
    "des = []\n",
    "price = []\n",
    "dis = []\n",
    "   \n",
    "sunglass_company = driver.find_elements(By.XPATH,\"//div[@class='_2WkVRV']\")\n",
    "    \n",
    "\n",
    "for i in sunglass_company:\n",
    "    company.append(i.text)\n",
    "    \n",
    "sunglass_des = driver.find_elements(By.XPATH,\"//a[@class='IRpwTa']\")\n",
    "\n",
    "    \n",
    "\n",
    "for j in sunglass_des:\n",
    "    des.append(j.text)\n",
    "    \n",
    "sunglass_price = driver.find_elements(By.XPATH,\"//div[@class='_30jeq3']\")\n",
    "    \n",
    "    \n",
    "\n",
    "for k in sunglass_price:\n",
    "    price.append(k.text)   \n",
    "    \n",
    "sunglass_dis = driver.find_elements(By.XPATH,\"//div[@class='_3Ay6Sb']\")\n",
    "\n",
    "    \n",
    "\n",
    "for l in sunglass_dis:\n",
    "    dis.append(l.text)     \n",
    "    \n"
   ]
  },
  {
   "cell_type": "code",
   "execution_count": 18,
   "id": "e3512b2c",
   "metadata": {},
   "outputs": [],
   "source": [
    "next_b = driver.find_element(By.XPATH,\"/html/body/div[1]/div/div[3]/div[1]/div[2]/div[12]/div/div/nav/a[11]\")\n",
    "next_b.click()"
   ]
  },
  {
   "cell_type": "code",
   "execution_count": 19,
   "id": "4c4cc95f",
   "metadata": {},
   "outputs": [],
   "source": [
    "sunglass_company = driver.find_elements(By.XPATH,\"//div[@class='_2WkVRV']\")\n",
    "    \n",
    "\n",
    "for i in sunglass_company:\n",
    "    company.append(i.text)\n",
    "    \n",
    "sunglass_des = driver.find_elements(By.XPATH,\"//a[@class='IRpwTa']\")\n",
    "\n",
    "    \n",
    "\n",
    "for j in sunglass_des:\n",
    "    des.append(j.text)\n",
    "    \n",
    "sunglass_price = driver.find_elements(By.XPATH,\"//div[@class='_30jeq3']\")\n",
    "    \n",
    "    \n",
    "\n",
    "for k in sunglass_price:\n",
    "    price.append(k.text)   \n",
    "    \n",
    "sunglass_dis = driver.find_elements(By.XPATH,\"//div[@class='_3Ay6Sb']\")\n",
    "\n",
    "    \n",
    "\n",
    "for l in sunglass_dis:\n",
    "    dis.append(l.text)     \n"
   ]
  },
  {
   "cell_type": "code",
   "execution_count": 21,
   "id": "8f87e12a",
   "metadata": {},
   "outputs": [],
   "source": [
    "next_b = driver.find_element(By.XPATH,\"/html/body/div[1]/div/div[3]/div[1]/div[2]/div[12]/div/div/nav/a[12]\")\n",
    "next_b.click()"
   ]
  },
  {
   "cell_type": "code",
   "execution_count": 22,
   "id": "c97558e8",
   "metadata": {},
   "outputs": [],
   "source": [
    "sunglass_company = driver.find_elements(By.XPATH,\"//div[@class='_2WkVRV']\")\n",
    "    \n",
    "\n",
    "for i in sunglass_company:\n",
    "    company.append(i.text)\n",
    "    \n",
    "sunglass_des = driver.find_elements(By.XPATH,\"//a[@class='IRpwTa']\")\n",
    "\n",
    "    \n",
    "\n",
    "for j in sunglass_des:\n",
    "    des.append(j.text)\n",
    "    \n",
    "sunglass_price = driver.find_elements(By.XPATH,\"//div[@class='_30jeq3']\")\n",
    "    \n",
    "    \n",
    "\n",
    "for k in sunglass_price:\n",
    "    price.append(k.text)   \n",
    "    \n",
    "sunglass_dis = driver.find_elements(By.XPATH,\"//div[@class='_3Ay6Sb']\")\n",
    "\n",
    "    \n",
    "\n",
    "for l in sunglass_dis:\n",
    "    dis.append(l.text)     \n"
   ]
  },
  {
   "cell_type": "code",
   "execution_count": 23,
   "id": "2f0eaaa4",
   "metadata": {},
   "outputs": [],
   "source": [
    "next_b = driver.find_element(By.XPATH,\"/html/body/div[1]/div/div[3]/div[1]/div[2]/div[12]/div/div/nav/a[12]\")\n",
    "next_b.click()"
   ]
  },
  {
   "cell_type": "code",
   "execution_count": 24,
   "id": "737d3868",
   "metadata": {},
   "outputs": [],
   "source": [
    "sunglass_company = driver.find_elements(By.XPATH,\"//div[@class='_2WkVRV']\")\n",
    "    \n",
    "\n",
    "for i in sunglass_company:\n",
    "    company.append(i.text)\n",
    "    \n",
    "sunglass_des = driver.find_elements(By.XPATH,\"//a[@class='IRpwTa']\")\n",
    "\n",
    "    \n",
    "\n",
    "for j in sunglass_des:\n",
    "    des.append(j.text)\n",
    "    \n",
    "sunglass_price = driver.find_elements(By.XPATH,\"//div[@class='_30jeq3']\")\n",
    "    \n",
    "    \n",
    "\n",
    "for k in sunglass_price:\n",
    "    price.append(k.text)   \n",
    "    \n",
    "sunglass_dis = driver.find_elements(By.XPATH,\"//div[@class='_3Ay6Sb']\")\n",
    "\n",
    "    \n",
    "\n",
    "for l in sunglass_dis:\n",
    "    dis.append(l.text)     \n"
   ]
  },
  {
   "cell_type": "code",
   "execution_count": 26,
   "id": "2a462cec",
   "metadata": {},
   "outputs": [
    {
     "name": "stdout",
     "output_type": "stream",
     "text": [
      "160\n",
      "160\n",
      "160\n",
      "160\n"
     ]
    }
   ],
   "source": [
    "print (len(company))\n",
    "print (len(des))\n",
    "print (len(price))\n",
    "print (len(dis))"
   ]
  },
  {
   "cell_type": "code",
   "execution_count": 27,
   "id": "53a67324",
   "metadata": {},
   "outputs": [],
   "source": [
    "df = pd.DataFrame({\n",
    "    'Brand':company,\n",
    "    'Product Description':des,\n",
    "    'Price':price,\n",
    "    \"Discount\":dis\n",
    "})"
   ]
  },
  {
   "cell_type": "code",
   "execution_count": 30,
   "id": "9ae20304",
   "metadata": {},
   "outputs": [],
   "source": [
    "df = df[0:100]"
   ]
  },
  {
   "cell_type": "code",
   "execution_count": 31,
   "id": "dbceae3a",
   "metadata": {},
   "outputs": [
    {
     "data": {
      "text/html": [
       "<div>\n",
       "<style scoped>\n",
       "    .dataframe tbody tr th:only-of-type {\n",
       "        vertical-align: middle;\n",
       "    }\n",
       "\n",
       "    .dataframe tbody tr th {\n",
       "        vertical-align: top;\n",
       "    }\n",
       "\n",
       "    .dataframe thead th {\n",
       "        text-align: right;\n",
       "    }\n",
       "</style>\n",
       "<table border=\"1\" class=\"dataframe\">\n",
       "  <thead>\n",
       "    <tr style=\"text-align: right;\">\n",
       "      <th></th>\n",
       "      <th>Brand</th>\n",
       "      <th>Product Description</th>\n",
       "      <th>Price</th>\n",
       "      <th>Discount</th>\n",
       "    </tr>\n",
       "  </thead>\n",
       "  <tbody>\n",
       "    <tr>\n",
       "      <th>0</th>\n",
       "      <td>Singco India</td>\n",
       "      <td>Gradient, Toughened Glass Lens, UV Protection ...</td>\n",
       "      <td>₹598</td>\n",
       "      <td>80% off</td>\n",
       "    </tr>\n",
       "    <tr>\n",
       "      <th>1</th>\n",
       "      <td>ROZZETTA CRAFT</td>\n",
       "      <td>UV Protection, Gradient Rectangular Sunglasses...</td>\n",
       "      <td>₹449</td>\n",
       "      <td>77% off</td>\n",
       "    </tr>\n",
       "    <tr>\n",
       "      <th>2</th>\n",
       "      <td>DAHAAZIL</td>\n",
       "      <td>UV Protection, Night Vision, Riding Glasses Wa...</td>\n",
       "      <td>₹177</td>\n",
       "      <td>82% off</td>\n",
       "    </tr>\n",
       "    <tr>\n",
       "      <th>3</th>\n",
       "      <td>Fastrack</td>\n",
       "      <td>UV Protection Rectangular Sunglasses (Free Size)</td>\n",
       "      <td>₹639</td>\n",
       "      <td>20% off</td>\n",
       "    </tr>\n",
       "    <tr>\n",
       "      <th>4</th>\n",
       "      <td>New Specs</td>\n",
       "      <td>UV Protection Rectangular Sunglasses (Free Size)</td>\n",
       "      <td>₹264</td>\n",
       "      <td>89% off</td>\n",
       "    </tr>\n",
       "    <tr>\n",
       "      <th>...</th>\n",
       "      <td>...</td>\n",
       "      <td>...</td>\n",
       "      <td>...</td>\n",
       "      <td>...</td>\n",
       "    </tr>\n",
       "    <tr>\n",
       "      <th>95</th>\n",
       "      <td>DEIXELS</td>\n",
       "      <td>UV Protection Aviator Sunglasses (Free Size)</td>\n",
       "      <td>₹236</td>\n",
       "      <td>80% off</td>\n",
       "    </tr>\n",
       "    <tr>\n",
       "      <th>96</th>\n",
       "      <td>kingsunglasses</td>\n",
       "      <td>UV Protection Rectangular Sunglasses (55)</td>\n",
       "      <td>₹189</td>\n",
       "      <td>85% off</td>\n",
       "    </tr>\n",
       "    <tr>\n",
       "      <th>97</th>\n",
       "      <td>AISLIN</td>\n",
       "      <td>UV Protection, Gradient Oval Sunglasses (58)</td>\n",
       "      <td>₹498</td>\n",
       "      <td>67% off</td>\n",
       "    </tr>\n",
       "    <tr>\n",
       "      <th>98</th>\n",
       "      <td>Fastrack</td>\n",
       "      <td>UV Protection Wayfarer Sunglasses (55)</td>\n",
       "      <td>₹721</td>\n",
       "      <td>9% off</td>\n",
       "    </tr>\n",
       "    <tr>\n",
       "      <th>99</th>\n",
       "      <td>VINCENT CHASE</td>\n",
       "      <td>by Lenskart Polarized, UV Protection Rectangul...</td>\n",
       "      <td>₹749</td>\n",
       "      <td>62% off</td>\n",
       "    </tr>\n",
       "  </tbody>\n",
       "</table>\n",
       "<p>100 rows × 4 columns</p>\n",
       "</div>"
      ],
      "text/plain": [
       "             Brand                                Product Description Price  \\\n",
       "0     Singco India  Gradient, Toughened Glass Lens, UV Protection ...  ₹598   \n",
       "1   ROZZETTA CRAFT  UV Protection, Gradient Rectangular Sunglasses...  ₹449   \n",
       "2         DAHAAZIL  UV Protection, Night Vision, Riding Glasses Wa...  ₹177   \n",
       "3         Fastrack   UV Protection Rectangular Sunglasses (Free Size)  ₹639   \n",
       "4        New Specs   UV Protection Rectangular Sunglasses (Free Size)  ₹264   \n",
       "..             ...                                                ...   ...   \n",
       "95         DEIXELS       UV Protection Aviator Sunglasses (Free Size)  ₹236   \n",
       "96  kingsunglasses          UV Protection Rectangular Sunglasses (55)  ₹189   \n",
       "97          AISLIN       UV Protection, Gradient Oval Sunglasses (58)  ₹498   \n",
       "98        Fastrack             UV Protection Wayfarer Sunglasses (55)  ₹721   \n",
       "99   VINCENT CHASE  by Lenskart Polarized, UV Protection Rectangul...  ₹749   \n",
       "\n",
       "   Discount  \n",
       "0   80% off  \n",
       "1   77% off  \n",
       "2   82% off  \n",
       "3   20% off  \n",
       "4   89% off  \n",
       "..      ...  \n",
       "95  80% off  \n",
       "96  85% off  \n",
       "97  67% off  \n",
       "98   9% off  \n",
       "99  62% off  \n",
       "\n",
       "[100 rows x 4 columns]"
      ]
     },
     "execution_count": 31,
     "metadata": {},
     "output_type": "execute_result"
    }
   ],
   "source": [
    "df"
   ]
  },
  {
   "cell_type": "code",
   "execution_count": null,
   "id": "bae5eeeb",
   "metadata": {},
   "outputs": [],
   "source": []
  },
  {
   "cell_type": "code",
   "execution_count": null,
   "id": "ab47ba0d",
   "metadata": {},
   "outputs": [],
   "source": []
  },
  {
   "cell_type": "markdown",
   "id": "c4f7ce0a",
   "metadata": {},
   "source": [
    "- I tried to Automate the process by using While loop.\n",
    "\n",
    "- However it didnt work as the full XPath for 'Next' button changes after the 2nd page.\n",
    "\n",
    "- Next button Page 1 full xpath (/html/body/div[1]/div/div[3]/div[1]/div[2]/div[12]/div/div/nav/a[11])\n",
    "- Next button Page 2 full xpath (/html/body/div[1]/div/div[3]/div[1]/div[2]/div[12]/div/div/nav/a[12])"
   ]
  },
  {
   "cell_type": "code",
   "execution_count": 13,
   "id": "1a7c3da1",
   "metadata": {},
   "outputs": [],
   "source": [
    "company_name = []\n",
    "desc = []\n",
    "product_price = []\n",
    "discount = []\n",
    "\n",
    "w = 1\n",
    "\n",
    "while w < 5:    \n",
    "    sunglass_company = driver.find_elements(By.XPATH,\"//div[@class='_2WkVRV']\")\n",
    "    \n",
    "\n",
    "    for i in sunglass_company:\n",
    "        company_name.append(i.text)\n",
    "    \n",
    "    sunglass_des = driver.find_elements(By.XPATH,\"//a[@class='IRpwTa']\")\n",
    "\n",
    "    \n",
    "\n",
    "    for j in sunglass_des:\n",
    "        desc.append(j.text)\n",
    "    \n",
    "    sunglass_price = driver.find_elements(By.XPATH,\"//div[@class='_30jeq3']\")\n",
    "    \n",
    "    \n",
    "\n",
    "    for k in sunglass_price:\n",
    "        product_price.append(k.text)   \n",
    "    \n",
    "    sunglass_dis = driver.find_elements(By.XPATH,\"//div[@class='_3Ay6Sb']\")\n",
    "\n",
    "    \n",
    "\n",
    "    for l in sunglass_dis:\n",
    "        discount.append(l.text)   \n",
    "        \n",
    "    time.sleep(5) # because of the slow internet I offer some seconds to read all the info\n",
    "    \n",
    "    next_b = driver.find_element(By.XPATH,\"/html/body/div[1]/div/div[3]/div[1]/div[2]/div[12]/div/div/nav/a[11]\")\n",
    "    next_b.click()\n",
    "    \n",
    "    time.sleep(3)\n",
    "    \n",
    "    w += 1\n",
    "\n"
   ]
  },
  {
   "cell_type": "code",
   "execution_count": null,
   "id": "d9943aeb",
   "metadata": {},
   "outputs": [],
   "source": []
  },
  {
   "cell_type": "markdown",
   "id": "0ba432f7",
   "metadata": {},
   "source": [
    "# Iphone 11 reviews "
   ]
  },
  {
   "cell_type": "code",
   "execution_count": 35,
   "id": "c3b07c24",
   "metadata": {},
   "outputs": [],
   "source": [
    "driver = webdriver.Chrome(r'C:\\Users\\sawan\\Desktop\\chromedriver.exe')"
   ]
  },
  {
   "cell_type": "markdown",
   "id": "6b0db3f9",
   "metadata": {},
   "source": [
    "### I discussed with Shwetank Mishra that it was not possible to handle multiple tabs hence have provided the below link and i scrap the data from below link"
   ]
  },
  {
   "cell_type": "code",
   "execution_count": 36,
   "id": "45572e85",
   "metadata": {},
   "outputs": [],
   "source": [
    "url = 'https://www.flipkart.com/apple-iphone-11-black-64-gb/p/itm4e5041ba101fd?pid=MOBFWQ6BXGJCEYNY&lid=LSTMOBFWQ6BXGJCEYNYZXSHRJ&marketplace=FLIPKART&q=iphone+11&store=tyy%2F4io&srno=s_1_4&otracker=search&otracker1=search&fm=organic&iid=e67fc010-08f7-40eb-818a-ddb66f8f81de.MOBFWQ6BXGJCEYNY.SEARCH&ppt=hp&ppn=homepage&ssid=b7dkdvhslc0000001657690328482&qH=f6cdfdaa9f3c23f3'\n",
    "driver.get(url)"
   ]
  },
  {
   "cell_type": "code",
   "execution_count": 38,
   "id": "8f2b3679",
   "metadata": {},
   "outputs": [],
   "source": [
    "rating = []\n",
    "review_sum = []\n",
    "full_review = []"
   ]
  },
  {
   "cell_type": "code",
   "execution_count": 39,
   "id": "b131dab1",
   "metadata": {},
   "outputs": [],
   "source": [
    "rating1 = driver.find_elements(By.XPATH,\"//div[@class='_3LWZlK _1BLPMq']\")\n",
    "    \n",
    "\n",
    "for i in rating1:\n",
    "    rating.append(i.text)\n",
    "    \n",
    "review_sum1 = driver.find_elements(By.XPATH,\"//p[@class='_2-N8zT']\")\n",
    "\n",
    "    \n",
    "for m in review_sum1:\n",
    "    review_sum.append(m.text) \n",
    "    \n",
    "full_review1 = driver.find_elements(By.XPATH,\"//div[@class='t-ZTKy']\")\n",
    "    \n",
    "    \n",
    "\n",
    "for k in full_review1:\n",
    "    full_review.append(k.text)   \n",
    "    \n"
   ]
  },
  {
   "cell_type": "code",
   "execution_count": 52,
   "id": "09724fc4",
   "metadata": {},
   "outputs": [],
   "source": [
    "reviews = pd.DataFrame({\n",
    "    'Rating':rating,\n",
    "    'Review Summary':review_sum,\n",
    "    'Full Review':full_review\n",
    "})"
   ]
  },
  {
   "cell_type": "code",
   "execution_count": 53,
   "id": "c05b957e",
   "metadata": {},
   "outputs": [],
   "source": [
    "reviews = reviews[0:3]"
   ]
  },
  {
   "cell_type": "code",
   "execution_count": 54,
   "id": "ac1dcabe",
   "metadata": {},
   "outputs": [
    {
     "data": {
      "text/html": [
       "<div>\n",
       "<style scoped>\n",
       "    .dataframe tbody tr th:only-of-type {\n",
       "        vertical-align: middle;\n",
       "    }\n",
       "\n",
       "    .dataframe tbody tr th {\n",
       "        vertical-align: top;\n",
       "    }\n",
       "\n",
       "    .dataframe thead th {\n",
       "        text-align: right;\n",
       "    }\n",
       "</style>\n",
       "<table border=\"1\" class=\"dataframe\">\n",
       "  <thead>\n",
       "    <tr style=\"text-align: right;\">\n",
       "      <th></th>\n",
       "      <th>Rating</th>\n",
       "      <th>Review Summary</th>\n",
       "      <th>Full Review</th>\n",
       "    </tr>\n",
       "  </thead>\n",
       "  <tbody>\n",
       "    <tr>\n",
       "      <th>0</th>\n",
       "      <td>5</td>\n",
       "      <td>Simply awesome</td>\n",
       "      <td>Really satisfied with the Product I received.....</td>\n",
       "    </tr>\n",
       "    <tr>\n",
       "      <th>1</th>\n",
       "      <td>5</td>\n",
       "      <td>Perfect product!</td>\n",
       "      <td>Amazing phone with great cameras and better ba...</td>\n",
       "    </tr>\n",
       "    <tr>\n",
       "      <th>2</th>\n",
       "      <td>5</td>\n",
       "      <td>Best in the market!</td>\n",
       "      <td>Great iPhone very snappy experience as apple k...</td>\n",
       "    </tr>\n",
       "  </tbody>\n",
       "</table>\n",
       "</div>"
      ],
      "text/plain": [
       "  Rating       Review Summary  \\\n",
       "0      5       Simply awesome   \n",
       "1      5     Perfect product!   \n",
       "2      5  Best in the market!   \n",
       "\n",
       "                                         Full Review  \n",
       "0  Really satisfied with the Product I received.....  \n",
       "1  Amazing phone with great cameras and better ba...  \n",
       "2  Great iPhone very snappy experience as apple k...  "
      ]
     },
     "execution_count": 54,
     "metadata": {},
     "output_type": "execute_result"
    }
   ],
   "source": [
    "reviews"
   ]
  },
  {
   "cell_type": "markdown",
   "id": "b4c8a5fe",
   "metadata": {},
   "source": [
    " ### I was not able to load more reviews as it was showing a technical error that says \"Something's not right! Please try again\"\n",
    " \n",
    " ### I Tried with other iphone 11 products but it was showing the same result"
   ]
  },
  {
   "cell_type": "code",
   "execution_count": null,
   "id": "bcab0acc",
   "metadata": {},
   "outputs": [],
   "source": []
  },
  {
   "cell_type": "markdown",
   "id": "238ff58d",
   "metadata": {},
   "source": [
    "# Shoes Information"
   ]
  },
  {
   "cell_type": "code",
   "execution_count": 23,
   "id": "573210ba",
   "metadata": {},
   "outputs": [],
   "source": [
    "driver = webdriver.Chrome(r'C:\\Users\\sawan\\Desktop\\chromedriver.exe')"
   ]
  },
  {
   "cell_type": "code",
   "execution_count": 3,
   "id": "7b3f9764",
   "metadata": {},
   "outputs": [],
   "source": [
    "url = 'https://www.flipkart.com/'\n",
    "driver.get(url)"
   ]
  },
  {
   "cell_type": "code",
   "execution_count": 4,
   "id": "1fb91363",
   "metadata": {},
   "outputs": [],
   "source": [
    "close = driver.find_element(By.XPATH,\"/html/body/div[2]/div/div/button\")\n",
    "close.click()"
   ]
  },
  {
   "cell_type": "code",
   "execution_count": 5,
   "id": "a6d7319a",
   "metadata": {},
   "outputs": [],
   "source": [
    "search = driver.find_element(By.XPATH,\"/html/body/div[1]/div/div[1]/div[1]/div[2]/div[2]/form/div/div/input\")\n",
    "search.send_keys('sneakers')"
   ]
  },
  {
   "cell_type": "code",
   "execution_count": 6,
   "id": "77adf1ac",
   "metadata": {},
   "outputs": [],
   "source": [
    "enter = driver.find_element(By.XPATH,\"/html/body/div[1]/div/div[1]/div[1]/div[2]/div[2]/form/div/button\")\n",
    "enter.click()"
   ]
  },
  {
   "cell_type": "code",
   "execution_count": 7,
   "id": "9d8ddf20",
   "metadata": {},
   "outputs": [],
   "source": [
    "company = []\n",
    "des = []\n",
    "price = []\n",
    "dis = []\n"
   ]
  },
  {
   "cell_type": "code",
   "execution_count": 8,
   "id": "a08fbb25",
   "metadata": {},
   "outputs": [],
   "source": [
    "\n",
    "   \n",
    "shoes_company = driver.find_elements(By.XPATH,\"//div[@class='_2WkVRV']\")\n",
    "    \n",
    "\n",
    "for i in shoes_company:\n",
    "    company.append(i.text)\n",
    "    \n",
    "product_des = driver.find_elements(By.XPATH,\"//div[@class='_2B099V']\")\n",
    "\n",
    "    \n",
    "for m in product_des:\n",
    "    des.append(m.text) \n",
    "    \n",
    "shoes_price = driver.find_elements(By.XPATH,\"//div[@class='_30jeq3']\")\n",
    "    \n",
    "    \n",
    "\n",
    "for k in shoes_price:\n",
    "    price.append(k.text)   \n",
    "    \n",
    "shoes_dis = driver.find_elements(By.XPATH,\"//div[@class='_3Ay6Sb']\")\n",
    "\n",
    "    \n",
    "for l in shoes_dis:\n",
    "    dis.append(l.text)     \n",
    "    \n",
    "\n",
    "    \n",
    "  "
   ]
  },
  {
   "cell_type": "code",
   "execution_count": 9,
   "id": "4cad635b",
   "metadata": {},
   "outputs": [],
   "source": [
    "next_b = driver.find_element(By.XPATH,\"/html/body/div[1]/div/div[3]/div[1]/div[2]/div[12]/div/div/nav/a[11]\")\n",
    "next_b.click()"
   ]
  },
  {
   "cell_type": "code",
   "execution_count": 10,
   "id": "6a99642a",
   "metadata": {},
   "outputs": [],
   "source": [
    "shoes_company = driver.find_elements(By.XPATH,\"//div[@class='_2WkVRV']\")\n",
    "    \n",
    "\n",
    "for i in shoes_company:\n",
    "    company.append(i.text)\n",
    "    \n",
    "product_des = driver.find_elements(By.XPATH,\"//div[@class='_2B099V']\")\n",
    "\n",
    "    \n",
    "for m in product_des:\n",
    "    des.append(m.text) \n",
    "    \n",
    "shoes_price = driver.find_elements(By.XPATH,\"//div[@class='_30jeq3']\")\n",
    "    \n",
    "    \n",
    "\n",
    "for k in shoes_price:\n",
    "    price.append(k.text)   \n",
    "    \n",
    "shoes_dis = driver.find_elements(By.XPATH,\"//div[@class='_3Ay6Sb']\")\n",
    "\n",
    "    \n",
    "for l in shoes_dis:\n",
    "    dis.append(l.text) "
   ]
  },
  {
   "cell_type": "code",
   "execution_count": 11,
   "id": "2679e54c",
   "metadata": {},
   "outputs": [],
   "source": [
    "next_b = driver.find_element(By.XPATH,\"/html/body/div[1]/div/div[3]/div[1]/div[2]/div[12]/div/div/nav/a[12]\")\n",
    "next_b.click()"
   ]
  },
  {
   "cell_type": "code",
   "execution_count": 12,
   "id": "1f895406",
   "metadata": {},
   "outputs": [],
   "source": [
    "shoes_company = driver.find_elements(By.XPATH,\"//div[@class='_2WkVRV']\")\n",
    "    \n",
    "\n",
    "for i in shoes_company:\n",
    "    company.append(i.text)\n",
    "    \n",
    "product_des = driver.find_elements(By.XPATH,\"//div[@class='_2B099V']\")\n",
    "\n",
    "    \n",
    "for m in product_des:\n",
    "    des.append(m.text) \n",
    "    \n",
    "shoes_price = driver.find_elements(By.XPATH,\"//div[@class='_30jeq3']\")\n",
    "    \n",
    "    \n",
    "\n",
    "for k in shoes_price:\n",
    "    price.append(k.text)   \n",
    "    \n",
    "shoes_dis = driver.find_elements(By.XPATH,\"//div[@class='_3Ay6Sb']\")\n",
    "\n",
    "    \n",
    "for l in shoes_dis:\n",
    "    dis.append(l.text) "
   ]
  },
  {
   "cell_type": "code",
   "execution_count": 13,
   "id": "e135490a",
   "metadata": {},
   "outputs": [],
   "source": [
    "next_b = driver.find_element(By.XPATH,\"/html/body/div[1]/div/div[3]/div[1]/div[2]/div[12]/div/div/nav/a[12]\")\n",
    "next_b.click()"
   ]
  },
  {
   "cell_type": "code",
   "execution_count": 14,
   "id": "bda8354a",
   "metadata": {},
   "outputs": [],
   "source": [
    "shoes_company = driver.find_elements(By.XPATH,\"//div[@class='_2WkVRV']\")\n",
    "    \n",
    "\n",
    "for i in shoes_company:\n",
    "    company.append(i.text)\n",
    "    \n",
    "product_des = driver.find_elements(By.XPATH,\"//div[@class='_2B099V']\")\n",
    "\n",
    "    \n",
    "for m in product_des:\n",
    "    des.append(m.text) \n",
    "    \n",
    "shoes_price = driver.find_elements(By.XPATH,\"//div[@class='_30jeq3']\")\n",
    "    \n",
    "    \n",
    "\n",
    "for k in shoes_price:\n",
    "    price.append(k.text)   \n",
    "    \n",
    "shoes_dis = driver.find_elements(By.XPATH,\"//div[@class='_3Ay6Sb']\")\n",
    "\n",
    "    \n",
    "for l in shoes_dis:\n",
    "    dis.append(l.text)  "
   ]
  },
  {
   "cell_type": "code",
   "execution_count": 16,
   "id": "a0c0ed42",
   "metadata": {},
   "outputs": [],
   "source": [
    "description = pd.DataFrame({\n",
    "    \"description\":des\n",
    "})"
   ]
  },
  {
   "cell_type": "code",
   "execution_count": 18,
   "id": "415d3eee",
   "metadata": {},
   "outputs": [],
   "source": [
    "a = description['description'].str.split('\\n', expand=True)\n"
   ]
  },
  {
   "cell_type": "code",
   "execution_count": 19,
   "id": "97536bac",
   "metadata": {},
   "outputs": [
    {
     "data": {
      "text/html": [
       "<div>\n",
       "<style scoped>\n",
       "    .dataframe tbody tr th:only-of-type {\n",
       "        vertical-align: middle;\n",
       "    }\n",
       "\n",
       "    .dataframe tbody tr th {\n",
       "        vertical-align: top;\n",
       "    }\n",
       "\n",
       "    .dataframe thead th {\n",
       "        text-align: right;\n",
       "    }\n",
       "</style>\n",
       "<table border=\"1\" class=\"dataframe\">\n",
       "  <thead>\n",
       "    <tr style=\"text-align: right;\">\n",
       "      <th></th>\n",
       "      <th>0</th>\n",
       "      <th>1</th>\n",
       "      <th>2</th>\n",
       "      <th>3</th>\n",
       "      <th>4</th>\n",
       "    </tr>\n",
       "  </thead>\n",
       "  <tbody>\n",
       "    <tr>\n",
       "      <th>0</th>\n",
       "      <td>WOODLAND</td>\n",
       "      <td>Sneakers For Men</td>\n",
       "      <td>₹2,096₹2,99530% off</td>\n",
       "      <td>Free delivery</td>\n",
       "      <td>EOSS</td>\n",
       "    </tr>\n",
       "    <tr>\n",
       "      <th>1</th>\n",
       "      <td>BRUTON</td>\n",
       "      <td>Modern Trendy Sneakers Shoes Sneakers For Men</td>\n",
       "      <td>₹269₹1,29979% off</td>\n",
       "      <td>Free delivery</td>\n",
       "      <td>Deal of the Day</td>\n",
       "    </tr>\n",
       "    <tr>\n",
       "      <th>2</th>\n",
       "      <td>BRUTON</td>\n",
       "      <td>Modern Trendy Sneakers Shoes Sneakers For Men</td>\n",
       "      <td>₹299₹1,29976% off</td>\n",
       "      <td>Free delivery</td>\n",
       "      <td>Deal of the Day</td>\n",
       "    </tr>\n",
       "    <tr>\n",
       "      <th>3</th>\n",
       "      <td>URBANBOX</td>\n",
       "      <td>Sneakers Sneakers For Men</td>\n",
       "      <td>₹198₹99980% off</td>\n",
       "      <td>None</td>\n",
       "      <td>None</td>\n",
       "    </tr>\n",
       "    <tr>\n",
       "      <th>4</th>\n",
       "      <td>Magnolia</td>\n",
       "      <td>Sneakers For Men</td>\n",
       "      <td>₹449₹99955% off</td>\n",
       "      <td>Free delivery</td>\n",
       "      <td>Deal of the Day</td>\n",
       "    </tr>\n",
       "    <tr>\n",
       "      <th>...</th>\n",
       "      <td>...</td>\n",
       "      <td>...</td>\n",
       "      <td>...</td>\n",
       "      <td>...</td>\n",
       "      <td>...</td>\n",
       "    </tr>\n",
       "    <tr>\n",
       "      <th>155</th>\n",
       "      <td>Mast &amp; Harbour</td>\n",
       "      <td>Sneakers For Men</td>\n",
       "      <td>₹743₹2,39969% off</td>\n",
       "      <td>Free delivery</td>\n",
       "      <td>Deal of the Day</td>\n",
       "    </tr>\n",
       "    <tr>\n",
       "      <th>156</th>\n",
       "      <td>TR</td>\n",
       "      <td>Sneakers For Men</td>\n",
       "      <td>₹374₹99962% off</td>\n",
       "      <td>Free delivery</td>\n",
       "      <td>None</td>\n",
       "    </tr>\n",
       "    <tr>\n",
       "      <th>157</th>\n",
       "      <td>SWIGGY</td>\n",
       "      <td>Casual Shoes , Snekers Shoes,Lace-Up PVC Shoes...</td>\n",
       "      <td>₹239₹49952% off</td>\n",
       "      <td>Free delivery</td>\n",
       "      <td>Buy 2 items, save extra 5%</td>\n",
       "    </tr>\n",
       "    <tr>\n",
       "      <th>158</th>\n",
       "      <td>kardam&amp;sons</td>\n",
       "      <td>sneaker white for men Sneakers For Men</td>\n",
       "      <td>₹398₹1,29969% off</td>\n",
       "      <td>Free delivery</td>\n",
       "      <td>None</td>\n",
       "    </tr>\n",
       "    <tr>\n",
       "      <th>159</th>\n",
       "      <td>AKIMBO</td>\n",
       "      <td>A-SHOES-205 Sneakers For Men</td>\n",
       "      <td>₹449₹99955% off</td>\n",
       "      <td>Lowest price since launch</td>\n",
       "      <td>None</td>\n",
       "    </tr>\n",
       "  </tbody>\n",
       "</table>\n",
       "<p>160 rows × 5 columns</p>\n",
       "</div>"
      ],
      "text/plain": [
       "                  0                                                  1  \\\n",
       "0          WOODLAND                                   Sneakers For Men   \n",
       "1            BRUTON      Modern Trendy Sneakers Shoes Sneakers For Men   \n",
       "2            BRUTON      Modern Trendy Sneakers Shoes Sneakers For Men   \n",
       "3          URBANBOX                          Sneakers Sneakers For Men   \n",
       "4          Magnolia                                   Sneakers For Men   \n",
       "..              ...                                                ...   \n",
       "155  Mast & Harbour                                   Sneakers For Men   \n",
       "156              TR                                   Sneakers For Men   \n",
       "157          SWIGGY  Casual Shoes , Snekers Shoes,Lace-Up PVC Shoes...   \n",
       "158     kardam&sons             sneaker white for men Sneakers For Men   \n",
       "159          AKIMBO                       A-SHOES-205 Sneakers For Men   \n",
       "\n",
       "                       2                          3  \\\n",
       "0    ₹2,096₹2,99530% off              Free delivery   \n",
       "1      ₹269₹1,29979% off              Free delivery   \n",
       "2      ₹299₹1,29976% off              Free delivery   \n",
       "3        ₹198₹99980% off                       None   \n",
       "4        ₹449₹99955% off              Free delivery   \n",
       "..                   ...                        ...   \n",
       "155    ₹743₹2,39969% off              Free delivery   \n",
       "156      ₹374₹99962% off              Free delivery   \n",
       "157      ₹239₹49952% off              Free delivery   \n",
       "158    ₹398₹1,29969% off              Free delivery   \n",
       "159      ₹449₹99955% off  Lowest price since launch   \n",
       "\n",
       "                              4  \n",
       "0                          EOSS  \n",
       "1               Deal of the Day  \n",
       "2               Deal of the Day  \n",
       "3                          None  \n",
       "4               Deal of the Day  \n",
       "..                          ...  \n",
       "155             Deal of the Day  \n",
       "156                        None  \n",
       "157  Buy 2 items, save extra 5%  \n",
       "158                        None  \n",
       "159                        None  \n",
       "\n",
       "[160 rows x 5 columns]"
      ]
     },
     "execution_count": 19,
     "metadata": {},
     "output_type": "execute_result"
    }
   ],
   "source": [
    "a"
   ]
  },
  {
   "cell_type": "code",
   "execution_count": 20,
   "id": "bb33db03",
   "metadata": {},
   "outputs": [],
   "source": [
    "a.drop([0,2,3,4],axis=1,inplace=True)"
   ]
  },
  {
   "cell_type": "code",
   "execution_count": 22,
   "id": "958c8786",
   "metadata": {},
   "outputs": [],
   "source": [
    "shoes = pd.DataFrame({\n",
    "    'Brand':company[0:100],\n",
    "    'Price':price[0:100],\n",
    "    'Discount': dis[0:100]    \n",
    "})"
   ]
  },
  {
   "cell_type": "code",
   "execution_count": 23,
   "id": "9945d0f5",
   "metadata": {},
   "outputs": [],
   "source": [
    "shoes['Product Description'] = a[0:100]"
   ]
  },
  {
   "cell_type": "code",
   "execution_count": 24,
   "id": "7e665fcd",
   "metadata": {},
   "outputs": [],
   "source": [
    "shoes = shoes[['Brand','Product Description','Price','Discount']]"
   ]
  },
  {
   "cell_type": "code",
   "execution_count": 25,
   "id": "06a4b973",
   "metadata": {},
   "outputs": [
    {
     "data": {
      "text/html": [
       "<div>\n",
       "<style scoped>\n",
       "    .dataframe tbody tr th:only-of-type {\n",
       "        vertical-align: middle;\n",
       "    }\n",
       "\n",
       "    .dataframe tbody tr th {\n",
       "        vertical-align: top;\n",
       "    }\n",
       "\n",
       "    .dataframe thead th {\n",
       "        text-align: right;\n",
       "    }\n",
       "</style>\n",
       "<table border=\"1\" class=\"dataframe\">\n",
       "  <thead>\n",
       "    <tr style=\"text-align: right;\">\n",
       "      <th></th>\n",
       "      <th>Brand</th>\n",
       "      <th>Product Description</th>\n",
       "      <th>Price</th>\n",
       "      <th>Discount</th>\n",
       "    </tr>\n",
       "  </thead>\n",
       "  <tbody>\n",
       "    <tr>\n",
       "      <th>0</th>\n",
       "      <td>WOODLAND</td>\n",
       "      <td>Sneakers For Men</td>\n",
       "      <td>₹2,096</td>\n",
       "      <td>30% off</td>\n",
       "    </tr>\n",
       "    <tr>\n",
       "      <th>1</th>\n",
       "      <td>BRUTON</td>\n",
       "      <td>Modern Trendy Sneakers Shoes Sneakers For Men</td>\n",
       "      <td>₹269</td>\n",
       "      <td>79% off</td>\n",
       "    </tr>\n",
       "    <tr>\n",
       "      <th>2</th>\n",
       "      <td>BRUTON</td>\n",
       "      <td>Modern Trendy Sneakers Shoes Sneakers For Men</td>\n",
       "      <td>₹299</td>\n",
       "      <td>76% off</td>\n",
       "    </tr>\n",
       "    <tr>\n",
       "      <th>3</th>\n",
       "      <td>URBANBOX</td>\n",
       "      <td>Sneakers Sneakers For Men</td>\n",
       "      <td>₹198</td>\n",
       "      <td>80% off</td>\n",
       "    </tr>\n",
       "    <tr>\n",
       "      <th>4</th>\n",
       "      <td>Magnolia</td>\n",
       "      <td>Sneakers For Men</td>\n",
       "      <td>₹449</td>\n",
       "      <td>55% off</td>\n",
       "    </tr>\n",
       "    <tr>\n",
       "      <th>...</th>\n",
       "      <td>...</td>\n",
       "      <td>...</td>\n",
       "      <td>...</td>\n",
       "      <td>...</td>\n",
       "    </tr>\n",
       "    <tr>\n",
       "      <th>95</th>\n",
       "      <td>BAUCHHAAR</td>\n",
       "      <td>Sneakers For Men</td>\n",
       "      <td>₹449</td>\n",
       "      <td>55% off</td>\n",
       "    </tr>\n",
       "    <tr>\n",
       "      <th>96</th>\n",
       "      <td>SPARX</td>\n",
       "      <td>Canvas Casual Partywear Outdoor Sneakers Shoes...</td>\n",
       "      <td>₹730</td>\n",
       "      <td>14% off</td>\n",
       "    </tr>\n",
       "    <tr>\n",
       "      <th>97</th>\n",
       "      <td>HOTSTYLE</td>\n",
       "      <td>CR-1 Sneakers For Men</td>\n",
       "      <td>₹271</td>\n",
       "      <td>45% off</td>\n",
       "    </tr>\n",
       "    <tr>\n",
       "      <th>98</th>\n",
       "      <td>KNIGHT WALKERS</td>\n",
       "      <td>Sneakers For Men</td>\n",
       "      <td>₹648</td>\n",
       "      <td>56% off</td>\n",
       "    </tr>\n",
       "    <tr>\n",
       "      <th>99</th>\n",
       "      <td>Layasa</td>\n",
       "      <td>Sneakers For Men</td>\n",
       "      <td>₹499</td>\n",
       "      <td>50% off</td>\n",
       "    </tr>\n",
       "  </tbody>\n",
       "</table>\n",
       "<p>100 rows × 4 columns</p>\n",
       "</div>"
      ],
      "text/plain": [
       "             Brand                                Product Description   Price  \\\n",
       "0         WOODLAND                                   Sneakers For Men  ₹2,096   \n",
       "1           BRUTON      Modern Trendy Sneakers Shoes Sneakers For Men    ₹269   \n",
       "2           BRUTON      Modern Trendy Sneakers Shoes Sneakers For Men    ₹299   \n",
       "3         URBANBOX                          Sneakers Sneakers For Men    ₹198   \n",
       "4         Magnolia                                   Sneakers For Men    ₹449   \n",
       "..             ...                                                ...     ...   \n",
       "95       BAUCHHAAR                                   Sneakers For Men    ₹449   \n",
       "96           SPARX  Canvas Casual Partywear Outdoor Sneakers Shoes...    ₹730   \n",
       "97        HOTSTYLE                              CR-1 Sneakers For Men    ₹271   \n",
       "98  KNIGHT WALKERS                                   Sneakers For Men    ₹648   \n",
       "99          Layasa                                   Sneakers For Men    ₹499   \n",
       "\n",
       "   Discount  \n",
       "0   30% off  \n",
       "1   79% off  \n",
       "2   76% off  \n",
       "3   80% off  \n",
       "4   55% off  \n",
       "..      ...  \n",
       "95  55% off  \n",
       "96  14% off  \n",
       "97  45% off  \n",
       "98  56% off  \n",
       "99  50% off  \n",
       "\n",
       "[100 rows x 4 columns]"
      ]
     },
     "execution_count": 25,
     "metadata": {},
     "output_type": "execute_result"
    }
   ],
   "source": [
    "shoes"
   ]
  },
  {
   "cell_type": "code",
   "execution_count": null,
   "id": "6fe3f38d",
   "metadata": {},
   "outputs": [],
   "source": []
  },
  {
   "cell_type": "markdown",
   "id": "4ec1f778",
   "metadata": {},
   "source": [
    "# Laptop Data"
   ]
  },
  {
   "cell_type": "code",
   "execution_count": 57,
   "id": "9e4999ab",
   "metadata": {},
   "outputs": [],
   "source": [
    "driver = webdriver.Chrome(r'C:\\Users\\sawan\\Desktop\\chromedriver.exe')"
   ]
  },
  {
   "cell_type": "code",
   "execution_count": 58,
   "id": "c4fe586b",
   "metadata": {},
   "outputs": [],
   "source": [
    "url = 'https://www.amazon.in/'\n",
    "driver.get(url)"
   ]
  },
  {
   "cell_type": "code",
   "execution_count": 59,
   "id": "16007ed8",
   "metadata": {},
   "outputs": [],
   "source": [
    "search = driver.find_element(By.XPATH,\"/html/body/div[1]/header/div/div[1]/div[2]/div/form/div[2]/div[1]/input\")\n",
    "search.send_keys('Laptop')"
   ]
  },
  {
   "cell_type": "code",
   "execution_count": 60,
   "id": "fe29a2c0",
   "metadata": {},
   "outputs": [],
   "source": [
    "enter = driver.find_element(By.XPATH,\"/html/body/div[1]/header/div/div[1]/div[2]/div/form/div[3]/div/span/input\")\n",
    "enter.click()"
   ]
  },
  {
   "cell_type": "code",
   "execution_count": 61,
   "id": "c5ddf755",
   "metadata": {},
   "outputs": [],
   "source": [
    "filter_CPU = driver.find_element(By.XPATH,\"/html/body/div[1]/div[2]/div[1]/div[2]/div/div[3]/span/div[1]/div/div/div[6]/ul[4]/li[14]/span/a/div/label/i\")\n",
    "filter_CPU.click()"
   ]
  },
  {
   "cell_type": "code",
   "execution_count": 86,
   "id": "3b973876",
   "metadata": {},
   "outputs": [],
   "source": [
    "title = []\n",
    "price = []"
   ]
  },
  {
   "cell_type": "code",
   "execution_count": 87,
   "id": "3827d348",
   "metadata": {},
   "outputs": [],
   "source": [
    "\n",
    "\n",
    "title_company = driver.find_elements(By.XPATH,\"//span[@class='a-size-medium a-color-base a-text-normal']\")\n",
    "    \n",
    "\n",
    "for i in title_company:\n",
    "    title.append(i.text)\n",
    "    \n",
    "    \n",
    "laptop_price = driver.find_elements(By.XPATH,\"//span[@class='a-price-whole']\")\n",
    "    \n",
    "    \n",
    "\n",
    "for k in laptop_price:\n",
    "    price.append(k.text)   \n",
    "    \n"
   ]
  },
  {
   "cell_type": "code",
   "execution_count": 90,
   "id": "b7ce39eb",
   "metadata": {},
   "outputs": [],
   "source": [
    "laptop = pd.DataFrame({\n",
    "    'Laptop':title,\n",
    "    'Price':price\n",
    "})"
   ]
  },
  {
   "cell_type": "code",
   "execution_count": 91,
   "id": "b60abd60",
   "metadata": {},
   "outputs": [],
   "source": [
    "laptop = laptop[0:10]"
   ]
  },
  {
   "cell_type": "code",
   "execution_count": 92,
   "id": "ff27e8ba",
   "metadata": {},
   "outputs": [
    {
     "data": {
      "text/html": [
       "<div>\n",
       "<style scoped>\n",
       "    .dataframe tbody tr th:only-of-type {\n",
       "        vertical-align: middle;\n",
       "    }\n",
       "\n",
       "    .dataframe tbody tr th {\n",
       "        vertical-align: top;\n",
       "    }\n",
       "\n",
       "    .dataframe thead th {\n",
       "        text-align: right;\n",
       "    }\n",
       "</style>\n",
       "<table border=\"1\" class=\"dataframe\">\n",
       "  <thead>\n",
       "    <tr style=\"text-align: right;\">\n",
       "      <th></th>\n",
       "      <th>Laptop</th>\n",
       "      <th>Price</th>\n",
       "    </tr>\n",
       "  </thead>\n",
       "  <tbody>\n",
       "    <tr>\n",
       "      <th>0</th>\n",
       "      <td>ASUS TUF Gaming F15 (2021), 15.6\" (39.62 cms) ...</td>\n",
       "      <td>89,990</td>\n",
       "    </tr>\n",
       "    <tr>\n",
       "      <th>1</th>\n",
       "      <td>Hp Pavilion 15 12Th Gen Intel Core I7 16Gb Sdr...</td>\n",
       "      <td>87,900</td>\n",
       "    </tr>\n",
       "    <tr>\n",
       "      <th>2</th>\n",
       "      <td>Lenovo ThinkBook 15 Intel 11th Gen Core i7 15....</td>\n",
       "      <td>86,990</td>\n",
       "    </tr>\n",
       "    <tr>\n",
       "      <th>3</th>\n",
       "      <td>Infinix INBook X1 Pro Core i7 10th Gen - (16 G...</td>\n",
       "      <td>53,999</td>\n",
       "    </tr>\n",
       "    <tr>\n",
       "      <th>4</th>\n",
       "      <td>Hp Pavilion X360 11Th Gen Intel Core I7 14 Inc...</td>\n",
       "      <td>82,990</td>\n",
       "    </tr>\n",
       "    <tr>\n",
       "      <th>5</th>\n",
       "      <td>HP Envy 11th Gen Intel Evo Core i7 14 inch(35....</td>\n",
       "      <td>99,400</td>\n",
       "    </tr>\n",
       "    <tr>\n",
       "      <th>6</th>\n",
       "      <td>ASUS Vivobook 15, 15.6-inch (39.62 cms) FHD, I...</td>\n",
       "      <td>57,890</td>\n",
       "    </tr>\n",
       "    <tr>\n",
       "      <th>7</th>\n",
       "      <td>LG Gram 16 Intel Evo 11th Gen i7 Thin &amp; Light ...</td>\n",
       "      <td>85,499</td>\n",
       "    </tr>\n",
       "    <tr>\n",
       "      <th>8</th>\n",
       "      <td>HP Pavilion 14 12th Gen Intel Core i7 16GB SDR...</td>\n",
       "      <td>86,990</td>\n",
       "    </tr>\n",
       "    <tr>\n",
       "      <th>9</th>\n",
       "      <td>Lenovo ThinkBook 13s Intel 11th Gen Core i7 13...</td>\n",
       "      <td>89,990</td>\n",
       "    </tr>\n",
       "  </tbody>\n",
       "</table>\n",
       "</div>"
      ],
      "text/plain": [
       "                                              Laptop   Price\n",
       "0  ASUS TUF Gaming F15 (2021), 15.6\" (39.62 cms) ...  89,990\n",
       "1  Hp Pavilion 15 12Th Gen Intel Core I7 16Gb Sdr...  87,900\n",
       "2  Lenovo ThinkBook 15 Intel 11th Gen Core i7 15....  86,990\n",
       "3  Infinix INBook X1 Pro Core i7 10th Gen - (16 G...  53,999\n",
       "4  Hp Pavilion X360 11Th Gen Intel Core I7 14 Inc...  82,990\n",
       "5  HP Envy 11th Gen Intel Evo Core i7 14 inch(35....  99,400\n",
       "6  ASUS Vivobook 15, 15.6-inch (39.62 cms) FHD, I...  57,890\n",
       "7  LG Gram 16 Intel Evo 11th Gen i7 Thin & Light ...  85,499\n",
       "8  HP Pavilion 14 12th Gen Intel Core i7 16GB SDR...  86,990\n",
       "9  Lenovo ThinkBook 13s Intel 11th Gen Core i7 13...  89,990"
      ]
     },
     "execution_count": 92,
     "metadata": {},
     "output_type": "execute_result"
    }
   ],
   "source": [
    "laptop"
   ]
  },
  {
   "cell_type": "markdown",
   "id": "11635762",
   "metadata": {},
   "source": [
    "### Not able to scrap ratings since not every product has rating and it does not have numerical value it only shows the emtly list after scrapping the data"
   ]
  },
  {
   "cell_type": "markdown",
   "id": "5bfb4342",
   "metadata": {},
   "source": [
    "I have still added the code for the reference\n",
    "I tired with every parent class and specific rating class bt it was not working\n",
    "\n",
    "ratings = []\n",
    "\n",
    "laptop_ratings = driver.find_elements(By.XPATH,\"//i[@class='a-icon a-icon-star-small a-star-small-4-5 aok-align-bottom']\")\n",
    "\n",
    "for k in laptop_ratings:\n",
    "\n",
    "    ratings.append(k.text)\n",
    "    \n",
    "\n",
    "laptop_ratings = driver.find_elements(By.XPATH,\"//span[@class='acr-average-stars-rating-text']\")\n",
    "\n",
    "for k in laptop_ratings:\n",
    "    ratings.append(k.text)"
   ]
  },
  {
   "cell_type": "markdown",
   "id": "4b6918a5",
   "metadata": {},
   "source": [
    "# Job Data scrapping"
   ]
  },
  {
   "cell_type": "code",
   "execution_count": 186,
   "id": "653929d5",
   "metadata": {},
   "outputs": [],
   "source": [
    "driver = webdriver.Chrome(r'C:\\Users\\sawan\\Desktop\\chromedriver.exe')"
   ]
  },
  {
   "cell_type": "code",
   "execution_count": 187,
   "id": "d2825eb4",
   "metadata": {},
   "outputs": [],
   "source": [
    "url = 'https://www.ambitionbox.com/'\n",
    "driver.get(url)\n"
   ]
  },
  {
   "cell_type": "code",
   "execution_count": 188,
   "id": "5611f551",
   "metadata": {},
   "outputs": [],
   "source": [
    "jobs = driver.find_element(By.XPATH,\"/html/body/div[1]/nav/nav/a[6]\")\n",
    "jobs.click()"
   ]
  },
  {
   "cell_type": "code",
   "execution_count": 189,
   "id": "55cd8c49",
   "metadata": {},
   "outputs": [],
   "source": [
    "search = driver.find_element(By.XPATH,\"/html/body/div/div/div/div[2]/div[1]/div[1]/div/div/div/div/span/input\")\n",
    "search.send_keys('Data Scientist')"
   ]
  },
  {
   "cell_type": "code",
   "execution_count": 190,
   "id": "6e83ed83",
   "metadata": {},
   "outputs": [],
   "source": [
    "enter = driver.find_element(By.XPATH,\"/html/body/div/div/div/div[2]/div[1]/div[1]/div/div/div/button/span\")\n",
    "enter.click()"
   ]
  },
  {
   "cell_type": "code",
   "execution_count": 191,
   "id": "59c800fe",
   "metadata": {},
   "outputs": [],
   "source": [
    "location = driver.find_element(By.XPATH,\"/html/body/div/div/div/div[2]/div[1]/div[2]/div[1]/div/div/div/div[2]/div[1]/p\")\n",
    "location.click()"
   ]
  },
  {
   "cell_type": "code",
   "execution_count": 192,
   "id": "a4ac6fbd",
   "metadata": {},
   "outputs": [],
   "source": [
    "search_noida = driver.find_element(By.XPATH,\"/html/body/div/div/div/div[2]/div[1]/div[2]/div[1]/div/div/div/div[2]/div[2]/div/div[2]/input\")\n",
    "search_noida.send_keys('Noida')"
   ]
  },
  {
   "cell_type": "code",
   "execution_count": 193,
   "id": "a22b7ac8",
   "metadata": {},
   "outputs": [],
   "source": [
    "enter_Noida = driver.find_element(By.XPATH,\"/html/body/div/div/div/div[2]/div[1]/div[2]/div[1]/div/div/div/div[2]/div[2]/div/div[3]/div[1]/div[1]/div/label\")\n",
    "enter_Noida.click()"
   ]
  },
  {
   "cell_type": "code",
   "execution_count": 194,
   "id": "e01d586e",
   "metadata": {},
   "outputs": [],
   "source": [
    "job = []\n",
    "company = []\n",
    "reviews = []\n",
    "days = []"
   ]
  },
  {
   "cell_type": "code",
   "execution_count": 195,
   "id": "7a97f6d5",
   "metadata": {},
   "outputs": [],
   "source": [
    "jobs = driver.find_elements(By.XPATH,\"//a[@class='title noclick']\")\n",
    "    \n",
    "for i in jobs:\n",
    "    job.append(i.text)\n",
    "\n",
    "\n",
    "company_name = driver.find_elements(By.XPATH,\"//div[@class='company-info']\")\n",
    "   \n",
    "for m in company_name:\n",
    "    company.append(m.text) \n",
    "    \n",
    "      \n",
    "review = driver.find_elements(By.XPATH,\"//div[@class='rating-wrapper']\")\n",
    "    \n",
    "for k in review:\n",
    "    reviews.append(k.text)   \n",
    "    \n",
    "    \n",
    "day = driver.find_elements(By.XPATH,\"//span[@class='body-small-l']\")\n",
    "\n",
    "for l in day:\n",
    "    days.append(l.text)  "
   ]
  },
  {
   "cell_type": "code",
   "execution_count": 197,
   "id": "ac1b6700",
   "metadata": {},
   "outputs": [],
   "source": [
    "day = pd.DataFrame({'Days':days})\n",
    "\n",
    "a = day.loc[(np.arange(0,20,2))]"
   ]
  },
  {
   "cell_type": "code",
   "execution_count": 201,
   "id": "c0204d5e",
   "metadata": {},
   "outputs": [],
   "source": [
    "Jobs = company[1:]"
   ]
  },
  {
   "cell_type": "code",
   "execution_count": 207,
   "id": "21e311eb",
   "metadata": {},
   "outputs": [],
   "source": [
    "Jobs = pd.DataFrame({\n",
    "    \"Company Name\":Jobs\n",
    "})"
   ]
  },
  {
   "cell_type": "code",
   "execution_count": 208,
   "id": "9b8508ae",
   "metadata": {},
   "outputs": [
    {
     "data": {
      "text/html": [
       "<div>\n",
       "<style scoped>\n",
       "    .dataframe tbody tr th:only-of-type {\n",
       "        vertical-align: middle;\n",
       "    }\n",
       "\n",
       "    .dataframe tbody tr th {\n",
       "        vertical-align: top;\n",
       "    }\n",
       "\n",
       "    .dataframe thead th {\n",
       "        text-align: right;\n",
       "    }\n",
       "</style>\n",
       "<table border=\"1\" class=\"dataframe\">\n",
       "  <thead>\n",
       "    <tr style=\"text-align: right;\">\n",
       "      <th></th>\n",
       "      <th>Company Name</th>\n",
       "    </tr>\n",
       "  </thead>\n",
       "  <tbody>\n",
       "    <tr>\n",
       "      <th>0</th>\n",
       "      <td>Optum Global Solutions (India) Private Limited...</td>\n",
       "    </tr>\n",
       "    <tr>\n",
       "      <th>1</th>\n",
       "      <td>GENPACT India Private Limited\\n4.0\\n(20k Reviews)</td>\n",
       "    </tr>\n",
       "    <tr>\n",
       "      <th>2</th>\n",
       "      <td>Dew Solutions Pvt. Ltd.\\n4.3\\n(80 Reviews)</td>\n",
       "    </tr>\n",
       "    <tr>\n",
       "      <th>3</th>\n",
       "      <td>InfoEdge India Ltd.\\n3.9\\n(1.7k Reviews)</td>\n",
       "    </tr>\n",
       "    <tr>\n",
       "      <th>4</th>\n",
       "      <td>Info Edge India Limited\\n3.9\\n(1.7k Reviews)</td>\n",
       "    </tr>\n",
       "    <tr>\n",
       "      <th>5</th>\n",
       "      <td>Info Edge India Limited\\n3.9\\n(1.7k Reviews)</td>\n",
       "    </tr>\n",
       "    <tr>\n",
       "      <th>6</th>\n",
       "      <td>Latent bridge\\n4.5\\n(54 Reviews)</td>\n",
       "    </tr>\n",
       "    <tr>\n",
       "      <th>7</th>\n",
       "      <td>Careerera\\n3.8\\n(100 Reviews)</td>\n",
       "    </tr>\n",
       "    <tr>\n",
       "      <th>8</th>\n",
       "      <td>Careernet Consulting\\n3.9\\n(288 Reviews)</td>\n",
       "    </tr>\n",
       "    <tr>\n",
       "      <th>9</th>\n",
       "      <td>Acidaes Solutions Pvt. Ltd.\\n3.8\\n(103 Reviews)</td>\n",
       "    </tr>\n",
       "  </tbody>\n",
       "</table>\n",
       "</div>"
      ],
      "text/plain": [
       "                                        Company Name\n",
       "0  Optum Global Solutions (India) Private Limited...\n",
       "1  GENPACT India Private Limited\\n4.0\\n(20k Reviews)\n",
       "2         Dew Solutions Pvt. Ltd.\\n4.3\\n(80 Reviews)\n",
       "3           InfoEdge India Ltd.\\n3.9\\n(1.7k Reviews)\n",
       "4       Info Edge India Limited\\n3.9\\n(1.7k Reviews)\n",
       "5       Info Edge India Limited\\n3.9\\n(1.7k Reviews)\n",
       "6                   Latent bridge\\n4.5\\n(54 Reviews)\n",
       "7                      Careerera\\n3.8\\n(100 Reviews)\n",
       "8           Careernet Consulting\\n3.9\\n(288 Reviews)\n",
       "9    Acidaes Solutions Pvt. Ltd.\\n3.8\\n(103 Reviews)"
      ]
     },
     "execution_count": 208,
     "metadata": {},
     "output_type": "execute_result"
    }
   ],
   "source": [
    "Jobs"
   ]
  },
  {
   "cell_type": "code",
   "execution_count": 209,
   "id": "53c5d3d8",
   "metadata": {},
   "outputs": [],
   "source": [
    "Jobs[['Company Name','Ratings','Reviews']] = Jobs['Company Name'].str.split('\\n',expand = True)"
   ]
  },
  {
   "cell_type": "code",
   "execution_count": 212,
   "id": "0d27b37d",
   "metadata": {},
   "outputs": [],
   "source": [
    "a = a.reset_index()"
   ]
  },
  {
   "cell_type": "code",
   "execution_count": 215,
   "id": "52795210",
   "metadata": {},
   "outputs": [],
   "source": [
    "a.drop('index', axis=1, inplace=True)"
   ]
  },
  {
   "cell_type": "code",
   "execution_count": 216,
   "id": "ed5811e5",
   "metadata": {},
   "outputs": [],
   "source": [
    "\n",
    "Jobs['Days'] = a"
   ]
  },
  {
   "cell_type": "code",
   "execution_count": 172,
   "id": "c4f19255",
   "metadata": {},
   "outputs": [],
   "source": [
    "Jobs.drop('Reviews', axis=1, inplace=True)"
   ]
  },
  {
   "cell_type": "code",
   "execution_count": 217,
   "id": "b8aaa26b",
   "metadata": {},
   "outputs": [],
   "source": [
    "jobs = pd.DataFrame({\n",
    "    'Job Title':job\n",
    "})"
   ]
  },
  {
   "cell_type": "code",
   "execution_count": 218,
   "id": "c4089409",
   "metadata": {},
   "outputs": [],
   "source": [
    "Jobs['Job Title'] = job"
   ]
  },
  {
   "cell_type": "code",
   "execution_count": 219,
   "id": "9c1f21ef",
   "metadata": {},
   "outputs": [
    {
     "data": {
      "text/html": [
       "<div>\n",
       "<style scoped>\n",
       "    .dataframe tbody tr th:only-of-type {\n",
       "        vertical-align: middle;\n",
       "    }\n",
       "\n",
       "    .dataframe tbody tr th {\n",
       "        vertical-align: top;\n",
       "    }\n",
       "\n",
       "    .dataframe thead th {\n",
       "        text-align: right;\n",
       "    }\n",
       "</style>\n",
       "<table border=\"1\" class=\"dataframe\">\n",
       "  <thead>\n",
       "    <tr style=\"text-align: right;\">\n",
       "      <th></th>\n",
       "      <th>Job Title</th>\n",
       "      <th>Company Name</th>\n",
       "      <th>Ratings</th>\n",
       "      <th>Days</th>\n",
       "    </tr>\n",
       "  </thead>\n",
       "  <tbody>\n",
       "    <tr>\n",
       "      <th>0</th>\n",
       "      <td>Senior Data Scientist</td>\n",
       "      <td>Optum Global Solutions (India) Private Limited</td>\n",
       "      <td>4.1</td>\n",
       "      <td>8d ago</td>\n",
       "    </tr>\n",
       "    <tr>\n",
       "      <th>1</th>\n",
       "      <td>Data Scientist- Forecasting and R or Python</td>\n",
       "      <td>GENPACT India Private Limited</td>\n",
       "      <td>4.0</td>\n",
       "      <td>15d ago</td>\n",
       "    </tr>\n",
       "    <tr>\n",
       "      <th>2</th>\n",
       "      <td>Data Scientist - Machine Learning Algorithms (...</td>\n",
       "      <td>Dew Solutions Pvt. Ltd.</td>\n",
       "      <td>4.3</td>\n",
       "      <td>6d ago</td>\n",
       "    </tr>\n",
       "    <tr>\n",
       "      <th>3</th>\n",
       "      <td>Data Scientist - Machine Learning/Big Data (0-...</td>\n",
       "      <td>InfoEdge India Ltd.</td>\n",
       "      <td>3.9</td>\n",
       "      <td>13d ago</td>\n",
       "    </tr>\n",
       "    <tr>\n",
       "      <th>4</th>\n",
       "      <td>Info Edge - Data Scientist - Machine Learning/...</td>\n",
       "      <td>Info Edge India Limited</td>\n",
       "      <td>3.9</td>\n",
       "      <td>14d ago</td>\n",
       "    </tr>\n",
       "    <tr>\n",
       "      <th>5</th>\n",
       "      <td>Info Edge - Senior Data Scientist - Machine Le...</td>\n",
       "      <td>Info Edge India Limited</td>\n",
       "      <td>3.9</td>\n",
       "      <td>14d ago</td>\n",
       "    </tr>\n",
       "    <tr>\n",
       "      <th>6</th>\n",
       "      <td>LatentBridge - Data Scientist - Python/R (2-6 ...</td>\n",
       "      <td>Latent bridge</td>\n",
       "      <td>4.5</td>\n",
       "      <td>14d ago</td>\n",
       "    </tr>\n",
       "    <tr>\n",
       "      <th>7</th>\n",
       "      <td>Data Science Trainer | AI | Machine Learning |...</td>\n",
       "      <td>Careerera</td>\n",
       "      <td>3.8</td>\n",
       "      <td>1d ago</td>\n",
       "    </tr>\n",
       "    <tr>\n",
       "      <th>8</th>\n",
       "      <td>Principal Scientist - Machine Learning - IT (1...</td>\n",
       "      <td>Careernet Consulting</td>\n",
       "      <td>3.9</td>\n",
       "      <td>28d ago</td>\n",
       "    </tr>\n",
       "    <tr>\n",
       "      <th>9</th>\n",
       "      <td>Data Scientist - NLP</td>\n",
       "      <td>Acidaes Solutions Pvt. Ltd.</td>\n",
       "      <td>3.8</td>\n",
       "      <td>14d ago</td>\n",
       "    </tr>\n",
       "  </tbody>\n",
       "</table>\n",
       "</div>"
      ],
      "text/plain": [
       "                                           Job Title  \\\n",
       "0                              Senior Data Scientist   \n",
       "1        Data Scientist- Forecasting and R or Python   \n",
       "2  Data Scientist - Machine Learning Algorithms (...   \n",
       "3  Data Scientist - Machine Learning/Big Data (0-...   \n",
       "4  Info Edge - Data Scientist - Machine Learning/...   \n",
       "5  Info Edge - Senior Data Scientist - Machine Le...   \n",
       "6  LatentBridge - Data Scientist - Python/R (2-6 ...   \n",
       "7  Data Science Trainer | AI | Machine Learning |...   \n",
       "8  Principal Scientist - Machine Learning - IT (1...   \n",
       "9                               Data Scientist - NLP   \n",
       "\n",
       "                                     Company Name Ratings     Days  \n",
       "0  Optum Global Solutions (India) Private Limited     4.1   8d ago  \n",
       "1                   GENPACT India Private Limited     4.0  15d ago  \n",
       "2                         Dew Solutions Pvt. Ltd.     4.3   6d ago  \n",
       "3                             InfoEdge India Ltd.     3.9  13d ago  \n",
       "4                         Info Edge India Limited     3.9  14d ago  \n",
       "5                         Info Edge India Limited     3.9  14d ago  \n",
       "6                                   Latent bridge     4.5  14d ago  \n",
       "7                                       Careerera     3.8   1d ago  \n",
       "8                            Careernet Consulting     3.9  28d ago  \n",
       "9                     Acidaes Solutions Pvt. Ltd.     3.8  14d ago  "
      ]
     },
     "execution_count": 219,
     "metadata": {},
     "output_type": "execute_result"
    }
   ],
   "source": [
    "Jobs[['Job Title','Company Name','Ratings','Days']]"
   ]
  },
  {
   "cell_type": "markdown",
   "id": "9e32265b",
   "metadata": {},
   "source": [
    "# Data Scientist Salary "
   ]
  },
  {
   "cell_type": "code",
   "execution_count": 297,
   "id": "6519e179",
   "metadata": {},
   "outputs": [],
   "source": [
    "driver = webdriver.Chrome(r'C:\\Users\\sawan\\Desktop\\chromedriver.exe')"
   ]
  },
  {
   "cell_type": "code",
   "execution_count": 298,
   "id": "0b94a190",
   "metadata": {},
   "outputs": [],
   "source": [
    "url = 'https://www.ambitionbox.com/'\n",
    "driver.get(url)"
   ]
  },
  {
   "cell_type": "code",
   "execution_count": 299,
   "id": "68b1823e",
   "metadata": {},
   "outputs": [],
   "source": [
    "salary = driver.find_element(By.XPATH,\"/html/body/div[1]/nav/nav/a[4]\")\n",
    "salary.click()"
   ]
  },
  {
   "cell_type": "code",
   "execution_count": 300,
   "id": "8ee03a6c",
   "metadata": {},
   "outputs": [],
   "source": [
    "search = driver.find_element(By.XPATH,\"/html/body/div/div/div/main/section[1]/div[2]/div[1]/span/input\")\n",
    "search.send_keys('Data Scientist')"
   ]
  },
  {
   "cell_type": "code",
   "execution_count": 301,
   "id": "a3210bd2",
   "metadata": {},
   "outputs": [],
   "source": [
    "enter = driver.find_element(By.XPATH,\"/html/body/div/div/div/main/section[1]/div[2]/div[1]/span/div/div/div[1]/div/div/p\")\n",
    "enter.click()\n"
   ]
  },
  {
   "cell_type": "code",
   "execution_count": 302,
   "id": "0159aaf2",
   "metadata": {},
   "outputs": [],
   "source": [
    "company_data1=[]"
   ]
  },
  {
   "cell_type": "code",
   "execution_count": 303,
   "id": "3d4d9206",
   "metadata": {},
   "outputs": [],
   "source": [
    "company_names = driver.find_elements(By.XPATH,\"//div[@class='company-info']\")\n",
    "   \n",
    "for m in company_names:\n",
    "    company_data1.append(m.text) \n"
   ]
  },
  {
   "cell_type": "code",
   "execution_count": 304,
   "id": "58dae727",
   "metadata": {},
   "outputs": [],
   "source": [
    "company_data = pd.DataFrame({\n",
    "    'Company Name':company_data1\n",
    "})"
   ]
  },
  {
   "cell_type": "code",
   "execution_count": 305,
   "id": "7c2ff88d",
   "metadata": {},
   "outputs": [],
   "source": [
    "company_data = company_data[0:10]"
   ]
  },
  {
   "cell_type": "code",
   "execution_count": 306,
   "id": "d84feb91",
   "metadata": {},
   "outputs": [],
   "source": [
    "company_data[['Company Name','Job','Experience']] = company_data['Company Name'].str.split('\\n',expand = True)"
   ]
  },
  {
   "cell_type": "code",
   "execution_count": 307,
   "id": "2e52655e",
   "metadata": {},
   "outputs": [],
   "source": [
    "company_data.drop('Job', axis=1, inplace=True)"
   ]
  },
  {
   "cell_type": "code",
   "execution_count": 308,
   "id": "138230df",
   "metadata": {},
   "outputs": [
    {
     "data": {
      "text/html": [
       "<div>\n",
       "<style scoped>\n",
       "    .dataframe tbody tr th:only-of-type {\n",
       "        vertical-align: middle;\n",
       "    }\n",
       "\n",
       "    .dataframe tbody tr th {\n",
       "        vertical-align: top;\n",
       "    }\n",
       "\n",
       "    .dataframe thead th {\n",
       "        text-align: right;\n",
       "    }\n",
       "</style>\n",
       "<table border=\"1\" class=\"dataframe\">\n",
       "  <thead>\n",
       "    <tr style=\"text-align: right;\">\n",
       "      <th></th>\n",
       "      <th>Company Name</th>\n",
       "      <th>Experience</th>\n",
       "    </tr>\n",
       "  </thead>\n",
       "  <tbody>\n",
       "    <tr>\n",
       "      <th>0</th>\n",
       "      <td>Walmart</td>\n",
       "      <td>3 yrs experience (based on 12 salaries)</td>\n",
       "    </tr>\n",
       "    <tr>\n",
       "      <th>1</th>\n",
       "      <td>Ab Inbev</td>\n",
       "      <td>3-4 yrs experience (based on 33 salaries)</td>\n",
       "    </tr>\n",
       "    <tr>\n",
       "      <th>2</th>\n",
       "      <td>ZS</td>\n",
       "      <td>2 yrs experience (based on 15 salaries)</td>\n",
       "    </tr>\n",
       "    <tr>\n",
       "      <th>3</th>\n",
       "      <td>Optum</td>\n",
       "      <td>3-4 yrs experience (based on 32 salaries)</td>\n",
       "    </tr>\n",
       "    <tr>\n",
       "      <th>4</th>\n",
       "      <td>Reliance Jio</td>\n",
       "      <td>3-4 yrs experience (based on 21 salaries)</td>\n",
       "    </tr>\n",
       "    <tr>\n",
       "      <th>5</th>\n",
       "      <td>Fractal Analytics</td>\n",
       "      <td>2-4 yrs experience (based on 89 salaries)</td>\n",
       "    </tr>\n",
       "    <tr>\n",
       "      <th>6</th>\n",
       "      <td>Tiger Analytics</td>\n",
       "      <td>2-4 yrs experience (based on 51 salaries)</td>\n",
       "    </tr>\n",
       "    <tr>\n",
       "      <th>7</th>\n",
       "      <td>UnitedHealth</td>\n",
       "      <td>2-4 yrs experience (based on 57 salaries)</td>\n",
       "    </tr>\n",
       "    <tr>\n",
       "      <th>8</th>\n",
       "      <td>EXL Service</td>\n",
       "      <td>3-4 yrs experience (based on 21 salaries)</td>\n",
       "    </tr>\n",
       "    <tr>\n",
       "      <th>9</th>\n",
       "      <td>Deloitte</td>\n",
       "      <td>2-4 yrs experience (based on 69 salaries)</td>\n",
       "    </tr>\n",
       "  </tbody>\n",
       "</table>\n",
       "</div>"
      ],
      "text/plain": [
       "        Company Name                                 Experience\n",
       "0            Walmart    3 yrs experience (based on 12 salaries)\n",
       "1           Ab Inbev  3-4 yrs experience (based on 33 salaries)\n",
       "2                 ZS    2 yrs experience (based on 15 salaries)\n",
       "3              Optum  3-4 yrs experience (based on 32 salaries)\n",
       "4       Reliance Jio  3-4 yrs experience (based on 21 salaries)\n",
       "5  Fractal Analytics  2-4 yrs experience (based on 89 salaries)\n",
       "6    Tiger Analytics  2-4 yrs experience (based on 51 salaries)\n",
       "7       UnitedHealth  2-4 yrs experience (based on 57 salaries)\n",
       "8        EXL Service  3-4 yrs experience (based on 21 salaries)\n",
       "9           Deloitte  2-4 yrs experience (based on 69 salaries)"
      ]
     },
     "execution_count": 308,
     "metadata": {},
     "output_type": "execute_result"
    }
   ],
   "source": [
    "company_data"
   ]
  },
  {
   "cell_type": "code",
   "execution_count": 309,
   "id": "c5a84bf2",
   "metadata": {},
   "outputs": [],
   "source": [
    "company_data[['Experience','Salary Count']] = company_data['Experience'].str.split('(',expand = True)"
   ]
  },
  {
   "cell_type": "code",
   "execution_count": 310,
   "id": "b6603787",
   "metadata": {},
   "outputs": [],
   "source": [
    "company_data[['test','Salary Count']] = company_data['Salary Count'].str.split('based on',expand = True)"
   ]
  },
  {
   "cell_type": "code",
   "execution_count": 311,
   "id": "5e09b9a6",
   "metadata": {},
   "outputs": [],
   "source": [
    "company_data[['Salary Count','test']] = company_data['Salary Count'].str.split(')',expand = True)"
   ]
  },
  {
   "cell_type": "code",
   "execution_count": 312,
   "id": "f63d3406",
   "metadata": {},
   "outputs": [],
   "source": [
    "company_data.drop('test',axis=1,inplace=True)"
   ]
  },
  {
   "cell_type": "code",
   "execution_count": 313,
   "id": "e3982118",
   "metadata": {},
   "outputs": [
    {
     "data": {
      "text/html": [
       "<div>\n",
       "<style scoped>\n",
       "    .dataframe tbody tr th:only-of-type {\n",
       "        vertical-align: middle;\n",
       "    }\n",
       "\n",
       "    .dataframe tbody tr th {\n",
       "        vertical-align: top;\n",
       "    }\n",
       "\n",
       "    .dataframe thead th {\n",
       "        text-align: right;\n",
       "    }\n",
       "</style>\n",
       "<table border=\"1\" class=\"dataframe\">\n",
       "  <thead>\n",
       "    <tr style=\"text-align: right;\">\n",
       "      <th></th>\n",
       "      <th>Company Name</th>\n",
       "      <th>Experience</th>\n",
       "      <th>Salary Count</th>\n",
       "    </tr>\n",
       "  </thead>\n",
       "  <tbody>\n",
       "    <tr>\n",
       "      <th>0</th>\n",
       "      <td>Walmart</td>\n",
       "      <td>3 yrs experience</td>\n",
       "      <td>12 salaries</td>\n",
       "    </tr>\n",
       "    <tr>\n",
       "      <th>1</th>\n",
       "      <td>Ab Inbev</td>\n",
       "      <td>3-4 yrs experience</td>\n",
       "      <td>33 salaries</td>\n",
       "    </tr>\n",
       "    <tr>\n",
       "      <th>2</th>\n",
       "      <td>ZS</td>\n",
       "      <td>2 yrs experience</td>\n",
       "      <td>15 salaries</td>\n",
       "    </tr>\n",
       "    <tr>\n",
       "      <th>3</th>\n",
       "      <td>Optum</td>\n",
       "      <td>3-4 yrs experience</td>\n",
       "      <td>32 salaries</td>\n",
       "    </tr>\n",
       "    <tr>\n",
       "      <th>4</th>\n",
       "      <td>Reliance Jio</td>\n",
       "      <td>3-4 yrs experience</td>\n",
       "      <td>21 salaries</td>\n",
       "    </tr>\n",
       "    <tr>\n",
       "      <th>5</th>\n",
       "      <td>Fractal Analytics</td>\n",
       "      <td>2-4 yrs experience</td>\n",
       "      <td>89 salaries</td>\n",
       "    </tr>\n",
       "    <tr>\n",
       "      <th>6</th>\n",
       "      <td>Tiger Analytics</td>\n",
       "      <td>2-4 yrs experience</td>\n",
       "      <td>51 salaries</td>\n",
       "    </tr>\n",
       "    <tr>\n",
       "      <th>7</th>\n",
       "      <td>UnitedHealth</td>\n",
       "      <td>2-4 yrs experience</td>\n",
       "      <td>57 salaries</td>\n",
       "    </tr>\n",
       "    <tr>\n",
       "      <th>8</th>\n",
       "      <td>EXL Service</td>\n",
       "      <td>3-4 yrs experience</td>\n",
       "      <td>21 salaries</td>\n",
       "    </tr>\n",
       "    <tr>\n",
       "      <th>9</th>\n",
       "      <td>Deloitte</td>\n",
       "      <td>2-4 yrs experience</td>\n",
       "      <td>69 salaries</td>\n",
       "    </tr>\n",
       "  </tbody>\n",
       "</table>\n",
       "</div>"
      ],
      "text/plain": [
       "        Company Name           Experience  Salary Count\n",
       "0            Walmart    3 yrs experience    12 salaries\n",
       "1           Ab Inbev  3-4 yrs experience    33 salaries\n",
       "2                 ZS    2 yrs experience    15 salaries\n",
       "3              Optum  3-4 yrs experience    32 salaries\n",
       "4       Reliance Jio  3-4 yrs experience    21 salaries\n",
       "5  Fractal Analytics  2-4 yrs experience    89 salaries\n",
       "6    Tiger Analytics  2-4 yrs experience    51 salaries\n",
       "7       UnitedHealth  2-4 yrs experience    57 salaries\n",
       "8        EXL Service  3-4 yrs experience    21 salaries\n",
       "9           Deloitte  2-4 yrs experience    69 salaries"
      ]
     },
     "execution_count": 313,
     "metadata": {},
     "output_type": "execute_result"
    }
   ],
   "source": [
    "company_data"
   ]
  },
  {
   "cell_type": "code",
   "execution_count": 314,
   "id": "e1ec2b2c",
   "metadata": {},
   "outputs": [],
   "source": [
    "av_ctc = []\n",
    "min_max_ctc = []\n"
   ]
  },
  {
   "cell_type": "code",
   "execution_count": 315,
   "id": "34cf8ffc",
   "metadata": {},
   "outputs": [],
   "source": [
    "av_ctc1 = driver.find_elements(By.XPATH,\"//p[@class='averageCtc']\")\n",
    "    \n",
    "for i in av_ctc1:\n",
    "    av_ctc.append(i.text)\n",
    "\n",
    "\n",
    "min_max_ctc1 = driver.find_elements(By.XPATH,\"//div[@class='value body-medium']\")\n",
    "   \n",
    "for m in min_max_ctc1:\n",
    "    min_max_ctc.append(m.text) \n"
   ]
  },
  {
   "cell_type": "code",
   "execution_count": 316,
   "id": "f7e0ff23",
   "metadata": {},
   "outputs": [],
   "source": [
    "CTC = pd.DataFrame({'ctc':min_max_ctc})"
   ]
  },
  {
   "cell_type": "code",
   "execution_count": 317,
   "id": "890f8267",
   "metadata": {},
   "outputs": [],
   "source": [
    "min_ctc = CTC.loc[(np.arange(0,20,2))]\n",
    "max_ctc = CTC.loc[(np.arange(1,20,2))]"
   ]
  },
  {
   "cell_type": "code",
   "execution_count": 318,
   "id": "45a7b34e",
   "metadata": {},
   "outputs": [],
   "source": [
    "min_ctc = min_ctc.reset_index()\n",
    "max_ctc = max_ctc.reset_index()"
   ]
  },
  {
   "cell_type": "code",
   "execution_count": 319,
   "id": "58412b56",
   "metadata": {},
   "outputs": [],
   "source": [
    "min_ctc.drop('index',axis=1,inplace=True)\n",
    "max_ctc.drop('index',axis=1,inplace=True)"
   ]
  },
  {
   "cell_type": "code",
   "execution_count": 320,
   "id": "208263e8",
   "metadata": {},
   "outputs": [],
   "source": [
    "av_CTC = pd.DataFrame({'Average Salary':av_ctc})"
   ]
  },
  {
   "cell_type": "code",
   "execution_count": 321,
   "id": "905cebe0",
   "metadata": {},
   "outputs": [],
   "source": [
    "company_data['Average Salary'] = av_CTC\n",
    "company_data['Minimum Salary'] = min_ctc\n",
    "company_data['Maximum Salary'] = max_ctc\n",
    "company_data['Total Salary Record']=company_data['Salary Count']"
   ]
  },
  {
   "cell_type": "code",
   "execution_count": 322,
   "id": "94ccb292",
   "metadata": {},
   "outputs": [],
   "source": [
    "company_data.drop('Salary Count',axis=1,inplace=True)"
   ]
  },
  {
   "cell_type": "code",
   "execution_count": 323,
   "id": "b3cc7ea4",
   "metadata": {},
   "outputs": [
    {
     "data": {
      "text/html": [
       "<div>\n",
       "<style scoped>\n",
       "    .dataframe tbody tr th:only-of-type {\n",
       "        vertical-align: middle;\n",
       "    }\n",
       "\n",
       "    .dataframe tbody tr th {\n",
       "        vertical-align: top;\n",
       "    }\n",
       "\n",
       "    .dataframe thead th {\n",
       "        text-align: right;\n",
       "    }\n",
       "</style>\n",
       "<table border=\"1\" class=\"dataframe\">\n",
       "  <thead>\n",
       "    <tr style=\"text-align: right;\">\n",
       "      <th></th>\n",
       "      <th>Company Name</th>\n",
       "      <th>Total Salary Record</th>\n",
       "      <th>Average Salary</th>\n",
       "      <th>Minimum Salary</th>\n",
       "      <th>Maximum Salary</th>\n",
       "      <th>Experience</th>\n",
       "    </tr>\n",
       "  </thead>\n",
       "  <tbody>\n",
       "    <tr>\n",
       "      <th>0</th>\n",
       "      <td>Walmart</td>\n",
       "      <td>12 salaries</td>\n",
       "      <td>₹ 30.6L</td>\n",
       "      <td>₹ 25.0L</td>\n",
       "      <td>₹ 36.0L</td>\n",
       "      <td>3 yrs experience</td>\n",
       "    </tr>\n",
       "    <tr>\n",
       "      <th>1</th>\n",
       "      <td>Ab Inbev</td>\n",
       "      <td>33 salaries</td>\n",
       "      <td>₹ 20.8L</td>\n",
       "      <td>₹ 15.0L</td>\n",
       "      <td>₹ 26.2L</td>\n",
       "      <td>3-4 yrs experience</td>\n",
       "    </tr>\n",
       "    <tr>\n",
       "      <th>2</th>\n",
       "      <td>ZS</td>\n",
       "      <td>15 salaries</td>\n",
       "      <td>₹ 16.7L</td>\n",
       "      <td>₹ 11.0L</td>\n",
       "      <td>₹ 22.0L</td>\n",
       "      <td>2 yrs experience</td>\n",
       "    </tr>\n",
       "    <tr>\n",
       "      <th>3</th>\n",
       "      <td>Optum</td>\n",
       "      <td>32 salaries</td>\n",
       "      <td>₹ 15.9L</td>\n",
       "      <td>₹ 11.0L</td>\n",
       "      <td>₹ 22.5L</td>\n",
       "      <td>3-4 yrs experience</td>\n",
       "    </tr>\n",
       "    <tr>\n",
       "      <th>4</th>\n",
       "      <td>Reliance Jio</td>\n",
       "      <td>21 salaries</td>\n",
       "      <td>₹ 15.7L</td>\n",
       "      <td>₹ 5.6L</td>\n",
       "      <td>₹ 26.2L</td>\n",
       "      <td>3-4 yrs experience</td>\n",
       "    </tr>\n",
       "    <tr>\n",
       "      <th>5</th>\n",
       "      <td>Fractal Analytics</td>\n",
       "      <td>89 salaries</td>\n",
       "      <td>₹ 15.5L</td>\n",
       "      <td>₹ 10.0L</td>\n",
       "      <td>₹ 23.0L</td>\n",
       "      <td>2-4 yrs experience</td>\n",
       "    </tr>\n",
       "    <tr>\n",
       "      <th>6</th>\n",
       "      <td>Tiger Analytics</td>\n",
       "      <td>51 salaries</td>\n",
       "      <td>₹ 14.8L</td>\n",
       "      <td>₹ 9.0L</td>\n",
       "      <td>₹ 20.0L</td>\n",
       "      <td>2-4 yrs experience</td>\n",
       "    </tr>\n",
       "    <tr>\n",
       "      <th>7</th>\n",
       "      <td>UnitedHealth</td>\n",
       "      <td>57 salaries</td>\n",
       "      <td>₹ 14.0L</td>\n",
       "      <td>₹ 8.3L</td>\n",
       "      <td>₹ 21.1L</td>\n",
       "      <td>2-4 yrs experience</td>\n",
       "    </tr>\n",
       "    <tr>\n",
       "      <th>8</th>\n",
       "      <td>EXL Service</td>\n",
       "      <td>21 salaries</td>\n",
       "      <td>₹ 13.2L</td>\n",
       "      <td>₹ 7.6L</td>\n",
       "      <td>₹ 21.0L</td>\n",
       "      <td>3-4 yrs experience</td>\n",
       "    </tr>\n",
       "    <tr>\n",
       "      <th>9</th>\n",
       "      <td>Deloitte</td>\n",
       "      <td>69 salaries</td>\n",
       "      <td>₹ 12.8L</td>\n",
       "      <td>₹ 7.0L</td>\n",
       "      <td>₹ 25.0L</td>\n",
       "      <td>2-4 yrs experience</td>\n",
       "    </tr>\n",
       "  </tbody>\n",
       "</table>\n",
       "</div>"
      ],
      "text/plain": [
       "        Company Name Total Salary Record Average Salary Minimum Salary  \\\n",
       "0            Walmart         12 salaries        ₹ 30.6L        ₹ 25.0L   \n",
       "1           Ab Inbev         33 salaries        ₹ 20.8L        ₹ 15.0L   \n",
       "2                 ZS         15 salaries        ₹ 16.7L        ₹ 11.0L   \n",
       "3              Optum         32 salaries        ₹ 15.9L        ₹ 11.0L   \n",
       "4       Reliance Jio         21 salaries        ₹ 15.7L         ₹ 5.6L   \n",
       "5  Fractal Analytics         89 salaries        ₹ 15.5L        ₹ 10.0L   \n",
       "6    Tiger Analytics         51 salaries        ₹ 14.8L         ₹ 9.0L   \n",
       "7       UnitedHealth         57 salaries        ₹ 14.0L         ₹ 8.3L   \n",
       "8        EXL Service         21 salaries        ₹ 13.2L         ₹ 7.6L   \n",
       "9           Deloitte         69 salaries        ₹ 12.8L         ₹ 7.0L   \n",
       "\n",
       "  Maximum Salary           Experience  \n",
       "0        ₹ 36.0L    3 yrs experience   \n",
       "1        ₹ 26.2L  3-4 yrs experience   \n",
       "2        ₹ 22.0L    2 yrs experience   \n",
       "3        ₹ 22.5L  3-4 yrs experience   \n",
       "4        ₹ 26.2L  3-4 yrs experience   \n",
       "5        ₹ 23.0L  2-4 yrs experience   \n",
       "6        ₹ 20.0L  2-4 yrs experience   \n",
       "7        ₹ 21.1L  2-4 yrs experience   \n",
       "8        ₹ 21.0L  3-4 yrs experience   \n",
       "9        ₹ 25.0L  2-4 yrs experience   "
      ]
     },
     "execution_count": 323,
     "metadata": {},
     "output_type": "execute_result"
    }
   ],
   "source": [
    "company_data[['Company Name','Total Salary Record','Average Salary','Minimum Salary','Maximum Salary','Experience']]"
   ]
  },
  {
   "cell_type": "code",
   "execution_count": null,
   "id": "1c339322",
   "metadata": {},
   "outputs": [],
   "source": []
  }
 ],
 "metadata": {
  "kernelspec": {
   "display_name": "Python 3 (ipykernel)",
   "language": "python",
   "name": "python3"
  },
  "language_info": {
   "codemirror_mode": {
    "name": "ipython",
    "version": 3
   },
   "file_extension": ".py",
   "mimetype": "text/x-python",
   "name": "python",
   "nbconvert_exporter": "python",
   "pygments_lexer": "ipython3",
   "version": "3.9.7"
  }
 },
 "nbformat": 4,
 "nbformat_minor": 5
}
